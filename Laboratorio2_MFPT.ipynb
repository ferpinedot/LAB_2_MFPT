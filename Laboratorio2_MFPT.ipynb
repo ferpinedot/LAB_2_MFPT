{
 "cells": [
  {
   "cell_type": "markdown",
   "metadata": {},
   "source": [
    "<img src=\"http://oci02.img.iteso.mx/identidad_de_instancia_2018/ITESO/Logos%20ITESO/Logo-ITESO-Principal.jpg\">"
   ]
  },
  {
   "cell_type": "markdown",
   "metadata": {},
   "source": [
    "<center> <font color= #004A94> <font size = 6> Lic. Ingeniería Financiera </font> <br> <br> <font color= #047CFB> <font size = 4>I.F. María Fernanda Pinedo Talango - if705971@iteso.mx </font>"
   ]
  },
  {
   "cell_type": "markdown",
   "metadata": {},
   "source": [
    "<center><font color= #004A94> <font size = 6> Microestructura y Sistemas de Trading </font> <br> <br>"
   ]
  },
  {
   "cell_type": "markdown",
   "metadata": {},
   "source": [
    "<center><font color=#42c29b><font size=5> Laboratorio 2: Behavioral Finance </font> <br> <br>"
   ]
  },
  {
   "cell_type": "markdown",
   "metadata": {},
   "source": [
    "<center> <font color= #047CFB> <font size = 4> Primavera 2020 </font>  |  <font color= #047CFB> <font size = 4> Repositorio: <a href='https://github.com/ferpinedot/LAB_2_MFPT'>https://github.com/ferpinedot/LAB_2_MFPT</a></font>"
   ]
  },
  {
   "cell_type": "markdown",
   "metadata": {},
   "source": [
    "# Abstract"
   ]
  },
  {
   "cell_type": "markdown",
   "metadata": {},
   "source": [
    "<font size = 3> Behavioral Finance es una rama de Behavioral Economics, que propone que las influencias psicológicas al igual que los sesgos cognitivos afectan el comportamiento financiero de los inversores.\n",
    "Las influencias y los sesgos pueden ser la fuente de explicación de varios tipos de anomalías en el mercado y principalmente en el mercado bursátil. </font>"
   ]
  },
  {
   "cell_type": "markdown",
   "metadata": {},
   "source": [
    "<font size = 3> En este proyecto, se busca por medio de Behavioral Finance, primeramente realizar un análisis de los movimientos del trader para que a través de estos, se encuentre qué tipo de trader es el usuario que realiza los movimientos, con cuales pares se siente más cómodo y ha tenido mayor nivel de asertividad y por lo tanto, si la estrategia que sigue ha sido lo suficientemente buena. </font>"
   ]
  },
  {
   "cell_type": "markdown",
   "metadata": {},
   "source": [
    "# Módulos y dependencias e información inicial"
   ]
  },
  {
   "cell_type": "code",
   "execution_count": 1,
   "metadata": {},
   "outputs": [
    {
     "name": "stderr",
     "output_type": "stream",
     "text": [
      "c:\\users\\user\\appdata\\local\\programs\\python\\python36\\lib\\site-packages\\pandas_datareader\\compat\\__init__.py:7: FutureWarning: pandas.util.testing is deprecated. Use the functions in the public API at pandas.testing instead.\n",
      "  from pandas.util.testing import assert_frame_equal\n"
     ]
    },
    {
     "data": {
      "text/html": [
       "        <script type=\"text/javascript\">\n",
       "        window.PlotlyConfig = {MathJaxConfig: 'local'};\n",
       "        if (window.MathJax) {MathJax.Hub.Config({SVG: {font: \"STIX-Web\"}});}\n",
       "        if (typeof require !== 'undefined') {\n",
       "        require.undef(\"plotly\");\n",
       "        requirejs.config({\n",
       "            paths: {\n",
       "                'plotly': ['https://cdn.plot.ly/plotly-latest.min']\n",
       "            }\n",
       "        });\n",
       "        require(['plotly'], function(Plotly) {\n",
       "            window._Plotly = Plotly;\n",
       "        });\n",
       "        }\n",
       "        </script>\n",
       "        "
      ]
     },
     "metadata": {},
     "output_type": "display_data"
    },
    {
     "name": "stderr",
     "output_type": "stream",
     "text": [
      "C:\\Users\\User\\Documents\\fernanda pinedo\\Documentos\\ITESO\\9th Semester\\Microestructuras y Sistemas de Trading\\LAB_2_MFPT\\funciones.py:138: SettingWithCopyWarning:\n",
      "\n",
      "\n",
      "A value is trying to be set on a copy of a slice from a DataFrame\n",
      "\n",
      "See the caveats in the documentation: https://pandas.pydata.org/pandas-docs/stable/user_guide/indexing.html#returning-a-view-versus-a-copy\n",
      "\n"
     ]
    }
   ],
   "source": [
    "# Descarga de librerías con sus respectivas abreviaciones \n",
    "\n",
    "import funciones as fn\n",
    "import visualizaciones as vn\n",
    "import matplotlib.pyplot as plt\n",
    "import pandas as pd\n",
    "import numpy as np\n",
    "\n",
    "# Descarga de librerías para gráficas\n",
    "from plotly.offline import plot\n",
    "import plotly.graph_objects as go\n",
    "\n",
    "#import plotly.graph_objects as go\n",
    "#import dash\n",
    "#import dash_core_components as dcc\n",
    "#import dash_html_components as html\n",
    "#import chart_studio.plotly as py\n",
    "#import plotly\n",
    "#from plotly import version\n",
    "#print (version)\n",
    "#from plotly.offline import download_plotlyjs, init_notebook_mode, plot, iplot\n",
    "#init_notebook_mode(connected=True)\n",
    "\n",
    "\n",
    "import warnings\n",
    "warnings.filterwarnings('ignore')"
   ]
  },
  {
   "cell_type": "code",
   "execution_count": 2,
   "metadata": {},
   "outputs": [],
   "source": [
    "# Lectura del archivo original\n",
    "\n",
    "# Datos de ejemplo del prof\n",
    "# datos = fn.f_leer_archivo(param_archivo = 'archivo_tradeview_1.xlsx', sheet_name = 0)\n",
    "\n",
    "# Datos trading PAP\n",
    "datos = fn.f_leer_archivo(param_archivo='archivos/archivo_pap_.xlsx', sheet_name= 0)\n",
    "\n",
    "# Datos clase OANDA\n",
    "# datos = fn.f_leer_archivo(param_archivo='archivos/archivo_oanda.xlsx', sheet_name= 0)"
   ]
  },
  {
   "cell_type": "markdown",
   "metadata": {},
   "source": [
    "<font size = 3> A continuación se muestra el dataframe del archivo de excel dados, de donde se toman los datos de algunas columnas, para realizar cálculos futuros, agregados posteriormente a este mismo dataframe en nuevas columnas como se verá a continuación.\n",
    "</font>"
   ]
  },
  {
   "cell_type": "code",
   "execution_count": 3,
   "metadata": {},
   "outputs": [
    {
     "data": {
      "text/html": [
       "<div>\n",
       "<style scoped>\n",
       "    .dataframe tbody tr th:only-of-type {\n",
       "        vertical-align: middle;\n",
       "    }\n",
       "\n",
       "    .dataframe tbody tr th {\n",
       "        vertical-align: top;\n",
       "    }\n",
       "\n",
       "    .dataframe thead th {\n",
       "        text-align: right;\n",
       "    }\n",
       "</style>\n",
       "<table border=\"1\" class=\"dataframe\">\n",
       "  <thead>\n",
       "    <tr style=\"text-align: right;\">\n",
       "      <th></th>\n",
       "      <th>order</th>\n",
       "      <th>opentime</th>\n",
       "      <th>type</th>\n",
       "      <th>size</th>\n",
       "      <th>symbol</th>\n",
       "      <th>openprice</th>\n",
       "      <th>s/l</th>\n",
       "      <th>t/p</th>\n",
       "      <th>closetime</th>\n",
       "      <th>closeprice</th>\n",
       "      <th>commission</th>\n",
       "      <th>taxes</th>\n",
       "      <th>swap</th>\n",
       "      <th>profit</th>\n",
       "    </tr>\n",
       "  </thead>\n",
       "  <tbody>\n",
       "    <tr>\n",
       "      <th>0</th>\n",
       "      <td>44785961</td>\n",
       "      <td>2020.02.28 20:22:37</td>\n",
       "      <td>sell</td>\n",
       "      <td>0.20</td>\n",
       "      <td>xauusd</td>\n",
       "      <td>1574.26000</td>\n",
       "      <td>1610.00000</td>\n",
       "      <td>1566.00000</td>\n",
       "      <td>2020.03.02 11:35:48</td>\n",
       "      <td>1610.00000</td>\n",
       "      <td>0</td>\n",
       "      <td>0</td>\n",
       "      <td>0</td>\n",
       "      <td>-714.80</td>\n",
       "    </tr>\n",
       "    <tr>\n",
       "      <th>1</th>\n",
       "      <td>44786021</td>\n",
       "      <td>2020.02.28 20:24:28</td>\n",
       "      <td>sell</td>\n",
       "      <td>0.20</td>\n",
       "      <td>gbpchf</td>\n",
       "      <td>1.23555</td>\n",
       "      <td>1.24589</td>\n",
       "      <td>1.22000</td>\n",
       "      <td>2020.03.02 17:06:39</td>\n",
       "      <td>1.22000</td>\n",
       "      <td>0</td>\n",
       "      <td>0</td>\n",
       "      <td>0</td>\n",
       "      <td>325.61</td>\n",
       "    </tr>\n",
       "    <tr>\n",
       "      <th>2</th>\n",
       "      <td>44786130</td>\n",
       "      <td>2020.02.28 20:27:33</td>\n",
       "      <td>sell</td>\n",
       "      <td>0.10</td>\n",
       "      <td>audcad</td>\n",
       "      <td>0.87069</td>\n",
       "      <td>0.87100</td>\n",
       "      <td>0.86400</td>\n",
       "      <td>2020.02.28 20:31:22</td>\n",
       "      <td>0.87100</td>\n",
       "      <td>0</td>\n",
       "      <td>0</td>\n",
       "      <td>0</td>\n",
       "      <td>-2.31</td>\n",
       "    </tr>\n",
       "    <tr>\n",
       "      <th>3</th>\n",
       "      <td>44786297</td>\n",
       "      <td>2020.02.28 20:29:38</td>\n",
       "      <td>buy</td>\n",
       "      <td>0.10</td>\n",
       "      <td>euraud</td>\n",
       "      <td>1.69633</td>\n",
       "      <td>1.69079</td>\n",
       "      <td>1.71000</td>\n",
       "      <td>2020.02.28 21:38:18</td>\n",
       "      <td>1.69079</td>\n",
       "      <td>0</td>\n",
       "      <td>0</td>\n",
       "      <td>0</td>\n",
       "      <td>-36.13</td>\n",
       "    </tr>\n",
       "    <tr>\n",
       "      <th>4</th>\n",
       "      <td>44786418</td>\n",
       "      <td>2020.02.28 20:31:20</td>\n",
       "      <td>sell</td>\n",
       "      <td>0.20</td>\n",
       "      <td>gbpjpy</td>\n",
       "      <td>137.90800</td>\n",
       "      <td>139.00000</td>\n",
       "      <td>137.47000</td>\n",
       "      <td>2020.03.02 00:59:53</td>\n",
       "      <td>137.47000</td>\n",
       "      <td>0</td>\n",
       "      <td>0</td>\n",
       "      <td>0</td>\n",
       "      <td>81.54</td>\n",
       "    </tr>\n",
       "    <tr>\n",
       "      <th>5</th>\n",
       "      <td>44786702</td>\n",
       "      <td>2020.02.28 20:37:44</td>\n",
       "      <td>sell</td>\n",
       "      <td>0.20</td>\n",
       "      <td>nzdjpy</td>\n",
       "      <td>67.31400</td>\n",
       "      <td>67.60000</td>\n",
       "      <td>66.75500</td>\n",
       "      <td>2020.03.02 07:39:32</td>\n",
       "      <td>67.31500</td>\n",
       "      <td>0</td>\n",
       "      <td>0</td>\n",
       "      <td>0</td>\n",
       "      <td>-0.19</td>\n",
       "    </tr>\n",
       "    <tr>\n",
       "      <th>6</th>\n",
       "      <td>44810504</td>\n",
       "      <td>2020.03.02 07:37:29</td>\n",
       "      <td>buy</td>\n",
       "      <td>0.20</td>\n",
       "      <td>xauusd</td>\n",
       "      <td>1604.22000</td>\n",
       "      <td>1598.00000</td>\n",
       "      <td>1618.00000</td>\n",
       "      <td>2020.03.02 09:07:24</td>\n",
       "      <td>1598.00000</td>\n",
       "      <td>0</td>\n",
       "      <td>0</td>\n",
       "      <td>0</td>\n",
       "      <td>-124.40</td>\n",
       "    </tr>\n",
       "    <tr>\n",
       "      <th>7</th>\n",
       "      <td>44923065</td>\n",
       "      <td>2020.03.04 02:40:45</td>\n",
       "      <td>sell</td>\n",
       "      <td>0.20</td>\n",
       "      <td>audchf</td>\n",
       "      <td>0.63175</td>\n",
       "      <td>0.63436</td>\n",
       "      <td>0.62304</td>\n",
       "      <td>2020.03.04 07:37:16</td>\n",
       "      <td>0.63155</td>\n",
       "      <td>0</td>\n",
       "      <td>0</td>\n",
       "      <td>0</td>\n",
       "      <td>4.18</td>\n",
       "    </tr>\n",
       "    <tr>\n",
       "      <th>8</th>\n",
       "      <td>44923094</td>\n",
       "      <td>2020.03.04 02:41:52</td>\n",
       "      <td>buy</td>\n",
       "      <td>0.20</td>\n",
       "      <td>audnzd</td>\n",
       "      <td>1.05144</td>\n",
       "      <td>1.04595</td>\n",
       "      <td>1.05261</td>\n",
       "      <td>2020.03.04 16:06:13</td>\n",
       "      <td>1.05261</td>\n",
       "      <td>0</td>\n",
       "      <td>0</td>\n",
       "      <td>0</td>\n",
       "      <td>14.70</td>\n",
       "    </tr>\n",
       "    <tr>\n",
       "      <th>9</th>\n",
       "      <td>44927912</td>\n",
       "      <td>2020.03.04 07:39:28</td>\n",
       "      <td>buy</td>\n",
       "      <td>0.20</td>\n",
       "      <td>audnzd</td>\n",
       "      <td>1.05103</td>\n",
       "      <td>1.04900</td>\n",
       "      <td>1.05100</td>\n",
       "      <td>2020.03.04 07:39:30</td>\n",
       "      <td>1.05100</td>\n",
       "      <td>0</td>\n",
       "      <td>0</td>\n",
       "      <td>0</td>\n",
       "      <td>-0.38</td>\n",
       "    </tr>\n",
       "    <tr>\n",
       "      <th>10</th>\n",
       "      <td>44957110</td>\n",
       "      <td>2020.03.05 00:26:11</td>\n",
       "      <td>buy</td>\n",
       "      <td>0.20</td>\n",
       "      <td>euraud</td>\n",
       "      <td>1.68172</td>\n",
       "      <td>1.67734</td>\n",
       "      <td>1.69009</td>\n",
       "      <td>2020.03.05 14:01:22</td>\n",
       "      <td>1.69009</td>\n",
       "      <td>0</td>\n",
       "      <td>0</td>\n",
       "      <td>0</td>\n",
       "      <td>110.74</td>\n",
       "    </tr>\n",
       "    <tr>\n",
       "      <th>11</th>\n",
       "      <td>44957140</td>\n",
       "      <td>2020.03.05 00:27:14</td>\n",
       "      <td>sell</td>\n",
       "      <td>0.20</td>\n",
       "      <td>gbpchf</td>\n",
       "      <td>1.23112</td>\n",
       "      <td>1.23430</td>\n",
       "      <td>1.22796</td>\n",
       "      <td>2020.03.05 14:38:59</td>\n",
       "      <td>1.22796</td>\n",
       "      <td>0</td>\n",
       "      <td>0</td>\n",
       "      <td>0</td>\n",
       "      <td>66.42</td>\n",
       "    </tr>\n",
       "    <tr>\n",
       "      <th>12</th>\n",
       "      <td>44990717</td>\n",
       "      <td>2020.03.05 19:48:01</td>\n",
       "      <td>buy</td>\n",
       "      <td>0.20</td>\n",
       "      <td>xauusd</td>\n",
       "      <td>1666.29000</td>\n",
       "      <td>1660.00000</td>\n",
       "      <td>1676.00000</td>\n",
       "      <td>2020.03.06 02:42:11</td>\n",
       "      <td>1676.00000</td>\n",
       "      <td>0</td>\n",
       "      <td>0</td>\n",
       "      <td>0</td>\n",
       "      <td>194.20</td>\n",
       "    </tr>\n",
       "    <tr>\n",
       "      <th>13</th>\n",
       "      <td>45297754</td>\n",
       "      <td>2020.03.12 02:19:23</td>\n",
       "      <td>sell</td>\n",
       "      <td>0.20</td>\n",
       "      <td>usdchf</td>\n",
       "      <td>0.93935</td>\n",
       "      <td>0.94214</td>\n",
       "      <td>0.93530</td>\n",
       "      <td>2020.03.12 04:19:56</td>\n",
       "      <td>0.93530</td>\n",
       "      <td>0</td>\n",
       "      <td>0</td>\n",
       "      <td>0</td>\n",
       "      <td>86.60</td>\n",
       "    </tr>\n",
       "    <tr>\n",
       "      <th>14</th>\n",
       "      <td>45297842</td>\n",
       "      <td>2020.03.12 02:24:56</td>\n",
       "      <td>buy</td>\n",
       "      <td>0.20</td>\n",
       "      <td>eurusd</td>\n",
       "      <td>1.12612</td>\n",
       "      <td>1.11747</td>\n",
       "      <td>1.14097</td>\n",
       "      <td>2020.03.12 17:08:05</td>\n",
       "      <td>1.11747</td>\n",
       "      <td>0</td>\n",
       "      <td>0</td>\n",
       "      <td>0</td>\n",
       "      <td>-173.00</td>\n",
       "    </tr>\n",
       "    <tr>\n",
       "      <th>15</th>\n",
       "      <td>46097010</td>\n",
       "      <td>2020.03.20 23:38:45</td>\n",
       "      <td>sell</td>\n",
       "      <td>0.20</td>\n",
       "      <td>audjpy</td>\n",
       "      <td>64.26100</td>\n",
       "      <td>64.79800</td>\n",
       "      <td>63.38500</td>\n",
       "      <td>2020.03.23 01:45:48</td>\n",
       "      <td>63.38500</td>\n",
       "      <td>0</td>\n",
       "      <td>0</td>\n",
       "      <td>0</td>\n",
       "      <td>157.80</td>\n",
       "    </tr>\n",
       "    <tr>\n",
       "      <th>16</th>\n",
       "      <td>46097098</td>\n",
       "      <td>2020.03.20 23:39:23</td>\n",
       "      <td>sell</td>\n",
       "      <td>0.20</td>\n",
       "      <td>audjpy</td>\n",
       "      <td>64.32800</td>\n",
       "      <td>64.93100</td>\n",
       "      <td>63.68600</td>\n",
       "      <td>2020.03.20 23:39:34</td>\n",
       "      <td>64.33500</td>\n",
       "      <td>0</td>\n",
       "      <td>0</td>\n",
       "      <td>0</td>\n",
       "      <td>-1.26</td>\n",
       "    </tr>\n",
       "    <tr>\n",
       "      <th>17</th>\n",
       "      <td>46179699</td>\n",
       "      <td>2020.03.23 21:07:20</td>\n",
       "      <td>sell</td>\n",
       "      <td>0.20</td>\n",
       "      <td>cadchf</td>\n",
       "      <td>0.67738</td>\n",
       "      <td>0.68000</td>\n",
       "      <td>0.67475</td>\n",
       "      <td>2020.03.25 01:35:42</td>\n",
       "      <td>0.68000</td>\n",
       "      <td>0</td>\n",
       "      <td>0</td>\n",
       "      <td>0</td>\n",
       "      <td>-53.41</td>\n",
       "    </tr>\n",
       "    <tr>\n",
       "      <th>18</th>\n",
       "      <td>46180326</td>\n",
       "      <td>2020.03.23 21:23:35</td>\n",
       "      <td>sell</td>\n",
       "      <td>0.20</td>\n",
       "      <td>gbpjpy</td>\n",
       "      <td>128.40600</td>\n",
       "      <td>129.66800</td>\n",
       "      <td>125.94800</td>\n",
       "      <td>2020.03.24 12:22:08</td>\n",
       "      <td>129.66800</td>\n",
       "      <td>0</td>\n",
       "      <td>0</td>\n",
       "      <td>0</td>\n",
       "      <td>-227.55</td>\n",
       "    </tr>\n",
       "    <tr>\n",
       "      <th>19</th>\n",
       "      <td>46249907</td>\n",
       "      <td>2020.03.24 19:58:36</td>\n",
       "      <td>sell</td>\n",
       "      <td>0.20</td>\n",
       "      <td>nzdusd</td>\n",
       "      <td>0.57980</td>\n",
       "      <td>0.58540</td>\n",
       "      <td>0.57228</td>\n",
       "      <td>2020.03.25 07:59:11</td>\n",
       "      <td>0.58540</td>\n",
       "      <td>0</td>\n",
       "      <td>0</td>\n",
       "      <td>0</td>\n",
       "      <td>-112.00</td>\n",
       "    </tr>\n",
       "    <tr>\n",
       "      <th>20</th>\n",
       "      <td>46520685</td>\n",
       "      <td>2020.03.30 21:06:32</td>\n",
       "      <td>sell</td>\n",
       "      <td>0.20</td>\n",
       "      <td>gbpcad</td>\n",
       "      <td>1.75279</td>\n",
       "      <td>1.77245</td>\n",
       "      <td>1.73356</td>\n",
       "      <td>2020.03.31 16:33:10</td>\n",
       "      <td>1.77245</td>\n",
       "      <td>0</td>\n",
       "      <td>0</td>\n",
       "      <td>0</td>\n",
       "      <td>-275.21</td>\n",
       "    </tr>\n",
       "    <tr>\n",
       "      <th>21</th>\n",
       "      <td>46520938</td>\n",
       "      <td>2020.03.31 16:13:26</td>\n",
       "      <td>buy</td>\n",
       "      <td>0.20</td>\n",
       "      <td>gbpcad</td>\n",
       "      <td>1.76933</td>\n",
       "      <td>1.76273</td>\n",
       "      <td>1.79891</td>\n",
       "      <td>2020.03.31 17:51:54</td>\n",
       "      <td>1.76273</td>\n",
       "      <td>0</td>\n",
       "      <td>0</td>\n",
       "      <td>0</td>\n",
       "      <td>-92.63</td>\n",
       "    </tr>\n",
       "    <tr>\n",
       "      <th>22</th>\n",
       "      <td>46521583</td>\n",
       "      <td>2020.03.30 21:33:06</td>\n",
       "      <td>buy</td>\n",
       "      <td>0.20</td>\n",
       "      <td>cadjpy</td>\n",
       "      <td>76.32400</td>\n",
       "      <td>75.72100</td>\n",
       "      <td>77.04800</td>\n",
       "      <td>2020.03.31 16:32:34</td>\n",
       "      <td>75.72100</td>\n",
       "      <td>0</td>\n",
       "      <td>0</td>\n",
       "      <td>0</td>\n",
       "      <td>-111.49</td>\n",
       "    </tr>\n",
       "    <tr>\n",
       "      <th>23</th>\n",
       "      <td>46583963</td>\n",
       "      <td>2020.03.31 23:03:56</td>\n",
       "      <td>buy</td>\n",
       "      <td>0.20</td>\n",
       "      <td>xauusd</td>\n",
       "      <td>1578.85000</td>\n",
       "      <td>1568.74000</td>\n",
       "      <td>1590.64000</td>\n",
       "      <td>2020.04.01 10:02:57</td>\n",
       "      <td>1590.64000</td>\n",
       "      <td>0</td>\n",
       "      <td>0</td>\n",
       "      <td>0</td>\n",
       "      <td>235.80</td>\n",
       "    </tr>\n",
       "    <tr>\n",
       "      <th>24</th>\n",
       "      <td>46587615</td>\n",
       "      <td>2020.04.01 01:42:50</td>\n",
       "      <td>buy</td>\n",
       "      <td>0.10</td>\n",
       "      <td>gbpaud</td>\n",
       "      <td>2.02697</td>\n",
       "      <td>2.02030</td>\n",
       "      <td>2.03221</td>\n",
       "      <td>2020.04.01 02:50:46</td>\n",
       "      <td>2.02030</td>\n",
       "      <td>0</td>\n",
       "      <td>0</td>\n",
       "      <td>0</td>\n",
       "      <td>-40.98</td>\n",
       "    </tr>\n",
       "    <tr>\n",
       "      <th>25</th>\n",
       "      <td>46635049</td>\n",
       "      <td>2020.04.02 01:02:01</td>\n",
       "      <td>buy</td>\n",
       "      <td>0.15</td>\n",
       "      <td>audusd</td>\n",
       "      <td>0.60731</td>\n",
       "      <td>0.60586</td>\n",
       "      <td>0.60881</td>\n",
       "      <td>2020.04.02 01:30:14</td>\n",
       "      <td>0.60881</td>\n",
       "      <td>0</td>\n",
       "      <td>0</td>\n",
       "      <td>0</td>\n",
       "      <td>22.50</td>\n",
       "    </tr>\n",
       "    <tr>\n",
       "      <th>26</th>\n",
       "      <td>46635113</td>\n",
       "      <td>2020.04.02 01:05:44</td>\n",
       "      <td>buy</td>\n",
       "      <td>0.15</td>\n",
       "      <td>usdmxn</td>\n",
       "      <td>24.28000</td>\n",
       "      <td>24.18482</td>\n",
       "      <td>24.35381</td>\n",
       "      <td>2020.04.02 08:30:40</td>\n",
       "      <td>24.18482</td>\n",
       "      <td>0</td>\n",
       "      <td>0</td>\n",
       "      <td>0</td>\n",
       "      <td>-59.03</td>\n",
       "    </tr>\n",
       "    <tr>\n",
       "      <th>27</th>\n",
       "      <td>46635787</td>\n",
       "      <td>2020.04.02 01:44:18</td>\n",
       "      <td>buy</td>\n",
       "      <td>0.15</td>\n",
       "      <td>nzdcad</td>\n",
       "      <td>0.83932</td>\n",
       "      <td>0.83714</td>\n",
       "      <td>0.84162</td>\n",
       "      <td>2020.04.02 03:55:00</td>\n",
       "      <td>0.84162</td>\n",
       "      <td>0</td>\n",
       "      <td>0</td>\n",
       "      <td>0</td>\n",
       "      <td>24.32</td>\n",
       "    </tr>\n",
       "    <tr>\n",
       "      <th>28</th>\n",
       "      <td>46690297</td>\n",
       "      <td>2020.04.03 03:41:15</td>\n",
       "      <td>sell</td>\n",
       "      <td>0.20</td>\n",
       "      <td>usdchf</td>\n",
       "      <td>0.97478</td>\n",
       "      <td>0.97570</td>\n",
       "      <td>0.97354</td>\n",
       "      <td>2020.04.03 05:56:50</td>\n",
       "      <td>0.97354</td>\n",
       "      <td>0</td>\n",
       "      <td>0</td>\n",
       "      <td>0</td>\n",
       "      <td>25.47</td>\n",
       "    </tr>\n",
       "    <tr>\n",
       "      <th>29</th>\n",
       "      <td>46722534</td>\n",
       "      <td>2020.04.03 19:07:08</td>\n",
       "      <td>sell</td>\n",
       "      <td>0.20</td>\n",
       "      <td>cadchf</td>\n",
       "      <td>0.69228</td>\n",
       "      <td>0.69301</td>\n",
       "      <td>0.69119</td>\n",
       "      <td>2020.04.03 19:48:05</td>\n",
       "      <td>0.69119</td>\n",
       "      <td>0</td>\n",
       "      <td>0</td>\n",
       "      <td>0</td>\n",
       "      <td>22.28</td>\n",
       "    </tr>\n",
       "    <tr>\n",
       "      <th>30</th>\n",
       "      <td>46727877</td>\n",
       "      <td>2020.04.03 22:23:07</td>\n",
       "      <td>sell</td>\n",
       "      <td>0.20</td>\n",
       "      <td>xauusd</td>\n",
       "      <td>1621.29000</td>\n",
       "      <td>1624.07000</td>\n",
       "      <td>1619.46000</td>\n",
       "      <td>2020.04.03 23:48:27</td>\n",
       "      <td>1619.46000</td>\n",
       "      <td>0</td>\n",
       "      <td>0</td>\n",
       "      <td>0</td>\n",
       "      <td>36.60</td>\n",
       "    </tr>\n",
       "    <tr>\n",
       "      <th>31</th>\n",
       "      <td>46871216</td>\n",
       "      <td>2020.04.07 19:01:42</td>\n",
       "      <td>sell</td>\n",
       "      <td>0.20</td>\n",
       "      <td>eurusd</td>\n",
       "      <td>1.08867</td>\n",
       "      <td>1.09086</td>\n",
       "      <td>1.08636</td>\n",
       "      <td>2020.04.07 19:31:51</td>\n",
       "      <td>1.09086</td>\n",
       "      <td>0</td>\n",
       "      <td>0</td>\n",
       "      <td>0</td>\n",
       "      <td>-43.80</td>\n",
       "    </tr>\n",
       "    <tr>\n",
       "      <th>32</th>\n",
       "      <td>46871247</td>\n",
       "      <td>2020.04.07 19:03:05</td>\n",
       "      <td>buy</td>\n",
       "      <td>0.20</td>\n",
       "      <td>usdcad</td>\n",
       "      <td>1.39721</td>\n",
       "      <td>1.39409</td>\n",
       "      <td>1.40117</td>\n",
       "      <td>2020.04.08 01:12:22</td>\n",
       "      <td>1.40117</td>\n",
       "      <td>0</td>\n",
       "      <td>0</td>\n",
       "      <td>0</td>\n",
       "      <td>56.52</td>\n",
       "    </tr>\n",
       "    <tr>\n",
       "      <th>33</th>\n",
       "      <td>46871279</td>\n",
       "      <td>2020.04.07 19:04:50</td>\n",
       "      <td>sell</td>\n",
       "      <td>0.20</td>\n",
       "      <td>audusd</td>\n",
       "      <td>0.61871</td>\n",
       "      <td>0.62116</td>\n",
       "      <td>0.61632</td>\n",
       "      <td>2020.04.08 01:21:13</td>\n",
       "      <td>0.61632</td>\n",
       "      <td>0</td>\n",
       "      <td>0</td>\n",
       "      <td>0</td>\n",
       "      <td>47.80</td>\n",
       "    </tr>\n",
       "    <tr>\n",
       "      <th>34</th>\n",
       "      <td>46890092</td>\n",
       "      <td>2020.04.08 03:16:52</td>\n",
       "      <td>buy</td>\n",
       "      <td>0.20</td>\n",
       "      <td>audusd</td>\n",
       "      <td>0.61435</td>\n",
       "      <td>0.61122</td>\n",
       "      <td>0.61783</td>\n",
       "      <td>2020.04.08 14:14:48</td>\n",
       "      <td>0.61783</td>\n",
       "      <td>0</td>\n",
       "      <td>0</td>\n",
       "      <td>0</td>\n",
       "      <td>69.60</td>\n",
       "    </tr>\n",
       "    <tr>\n",
       "      <th>35</th>\n",
       "      <td>46890166</td>\n",
       "      <td>2020.04.08 03:18:17</td>\n",
       "      <td>buy</td>\n",
       "      <td>0.20</td>\n",
       "      <td>usdjpy</td>\n",
       "      <td>108.56500</td>\n",
       "      <td>108.47200</td>\n",
       "      <td>108.67500</td>\n",
       "      <td>2020.04.08 03:54:19</td>\n",
       "      <td>108.67500</td>\n",
       "      <td>0</td>\n",
       "      <td>0</td>\n",
       "      <td>0</td>\n",
       "      <td>20.24</td>\n",
       "    </tr>\n",
       "  </tbody>\n",
       "</table>\n",
       "</div>"
      ],
      "text/plain": [
       "       order             opentime  type  size  symbol   openprice         s/l  \\\n",
       "0   44785961  2020.02.28 20:22:37  sell  0.20  xauusd  1574.26000  1610.00000   \n",
       "1   44786021  2020.02.28 20:24:28  sell  0.20  gbpchf     1.23555     1.24589   \n",
       "2   44786130  2020.02.28 20:27:33  sell  0.10  audcad     0.87069     0.87100   \n",
       "3   44786297  2020.02.28 20:29:38   buy  0.10  euraud     1.69633     1.69079   \n",
       "4   44786418  2020.02.28 20:31:20  sell  0.20  gbpjpy   137.90800   139.00000   \n",
       "5   44786702  2020.02.28 20:37:44  sell  0.20  nzdjpy    67.31400    67.60000   \n",
       "6   44810504  2020.03.02 07:37:29   buy  0.20  xauusd  1604.22000  1598.00000   \n",
       "7   44923065  2020.03.04 02:40:45  sell  0.20  audchf     0.63175     0.63436   \n",
       "8   44923094  2020.03.04 02:41:52   buy  0.20  audnzd     1.05144     1.04595   \n",
       "9   44927912  2020.03.04 07:39:28   buy  0.20  audnzd     1.05103     1.04900   \n",
       "10  44957110  2020.03.05 00:26:11   buy  0.20  euraud     1.68172     1.67734   \n",
       "11  44957140  2020.03.05 00:27:14  sell  0.20  gbpchf     1.23112     1.23430   \n",
       "12  44990717  2020.03.05 19:48:01   buy  0.20  xauusd  1666.29000  1660.00000   \n",
       "13  45297754  2020.03.12 02:19:23  sell  0.20  usdchf     0.93935     0.94214   \n",
       "14  45297842  2020.03.12 02:24:56   buy  0.20  eurusd     1.12612     1.11747   \n",
       "15  46097010  2020.03.20 23:38:45  sell  0.20  audjpy    64.26100    64.79800   \n",
       "16  46097098  2020.03.20 23:39:23  sell  0.20  audjpy    64.32800    64.93100   \n",
       "17  46179699  2020.03.23 21:07:20  sell  0.20  cadchf     0.67738     0.68000   \n",
       "18  46180326  2020.03.23 21:23:35  sell  0.20  gbpjpy   128.40600   129.66800   \n",
       "19  46249907  2020.03.24 19:58:36  sell  0.20  nzdusd     0.57980     0.58540   \n",
       "20  46520685  2020.03.30 21:06:32  sell  0.20  gbpcad     1.75279     1.77245   \n",
       "21  46520938  2020.03.31 16:13:26   buy  0.20  gbpcad     1.76933     1.76273   \n",
       "22  46521583  2020.03.30 21:33:06   buy  0.20  cadjpy    76.32400    75.72100   \n",
       "23  46583963  2020.03.31 23:03:56   buy  0.20  xauusd  1578.85000  1568.74000   \n",
       "24  46587615  2020.04.01 01:42:50   buy  0.10  gbpaud     2.02697     2.02030   \n",
       "25  46635049  2020.04.02 01:02:01   buy  0.15  audusd     0.60731     0.60586   \n",
       "26  46635113  2020.04.02 01:05:44   buy  0.15  usdmxn    24.28000    24.18482   \n",
       "27  46635787  2020.04.02 01:44:18   buy  0.15  nzdcad     0.83932     0.83714   \n",
       "28  46690297  2020.04.03 03:41:15  sell  0.20  usdchf     0.97478     0.97570   \n",
       "29  46722534  2020.04.03 19:07:08  sell  0.20  cadchf     0.69228     0.69301   \n",
       "30  46727877  2020.04.03 22:23:07  sell  0.20  xauusd  1621.29000  1624.07000   \n",
       "31  46871216  2020.04.07 19:01:42  sell  0.20  eurusd     1.08867     1.09086   \n",
       "32  46871247  2020.04.07 19:03:05   buy  0.20  usdcad     1.39721     1.39409   \n",
       "33  46871279  2020.04.07 19:04:50  sell  0.20  audusd     0.61871     0.62116   \n",
       "34  46890092  2020.04.08 03:16:52   buy  0.20  audusd     0.61435     0.61122   \n",
       "35  46890166  2020.04.08 03:18:17   buy  0.20  usdjpy   108.56500   108.47200   \n",
       "\n",
       "           t/p            closetime  closeprice  commission  taxes  swap  \\\n",
       "0   1566.00000  2020.03.02 11:35:48  1610.00000           0      0     0   \n",
       "1      1.22000  2020.03.02 17:06:39     1.22000           0      0     0   \n",
       "2      0.86400  2020.02.28 20:31:22     0.87100           0      0     0   \n",
       "3      1.71000  2020.02.28 21:38:18     1.69079           0      0     0   \n",
       "4    137.47000  2020.03.02 00:59:53   137.47000           0      0     0   \n",
       "5     66.75500  2020.03.02 07:39:32    67.31500           0      0     0   \n",
       "6   1618.00000  2020.03.02 09:07:24  1598.00000           0      0     0   \n",
       "7      0.62304  2020.03.04 07:37:16     0.63155           0      0     0   \n",
       "8      1.05261  2020.03.04 16:06:13     1.05261           0      0     0   \n",
       "9      1.05100  2020.03.04 07:39:30     1.05100           0      0     0   \n",
       "10     1.69009  2020.03.05 14:01:22     1.69009           0      0     0   \n",
       "11     1.22796  2020.03.05 14:38:59     1.22796           0      0     0   \n",
       "12  1676.00000  2020.03.06 02:42:11  1676.00000           0      0     0   \n",
       "13     0.93530  2020.03.12 04:19:56     0.93530           0      0     0   \n",
       "14     1.14097  2020.03.12 17:08:05     1.11747           0      0     0   \n",
       "15    63.38500  2020.03.23 01:45:48    63.38500           0      0     0   \n",
       "16    63.68600  2020.03.20 23:39:34    64.33500           0      0     0   \n",
       "17     0.67475  2020.03.25 01:35:42     0.68000           0      0     0   \n",
       "18   125.94800  2020.03.24 12:22:08   129.66800           0      0     0   \n",
       "19     0.57228  2020.03.25 07:59:11     0.58540           0      0     0   \n",
       "20     1.73356  2020.03.31 16:33:10     1.77245           0      0     0   \n",
       "21     1.79891  2020.03.31 17:51:54     1.76273           0      0     0   \n",
       "22    77.04800  2020.03.31 16:32:34    75.72100           0      0     0   \n",
       "23  1590.64000  2020.04.01 10:02:57  1590.64000           0      0     0   \n",
       "24     2.03221  2020.04.01 02:50:46     2.02030           0      0     0   \n",
       "25     0.60881  2020.04.02 01:30:14     0.60881           0      0     0   \n",
       "26    24.35381  2020.04.02 08:30:40    24.18482           0      0     0   \n",
       "27     0.84162  2020.04.02 03:55:00     0.84162           0      0     0   \n",
       "28     0.97354  2020.04.03 05:56:50     0.97354           0      0     0   \n",
       "29     0.69119  2020.04.03 19:48:05     0.69119           0      0     0   \n",
       "30  1619.46000  2020.04.03 23:48:27  1619.46000           0      0     0   \n",
       "31     1.08636  2020.04.07 19:31:51     1.09086           0      0     0   \n",
       "32     1.40117  2020.04.08 01:12:22     1.40117           0      0     0   \n",
       "33     0.61632  2020.04.08 01:21:13     0.61632           0      0     0   \n",
       "34     0.61783  2020.04.08 14:14:48     0.61783           0      0     0   \n",
       "35   108.67500  2020.04.08 03:54:19   108.67500           0      0     0   \n",
       "\n",
       "    profit  \n",
       "0  -714.80  \n",
       "1   325.61  \n",
       "2    -2.31  \n",
       "3   -36.13  \n",
       "4    81.54  \n",
       "5    -0.19  \n",
       "6  -124.40  \n",
       "7     4.18  \n",
       "8    14.70  \n",
       "9    -0.38  \n",
       "10  110.74  \n",
       "11   66.42  \n",
       "12  194.20  \n",
       "13   86.60  \n",
       "14 -173.00  \n",
       "15  157.80  \n",
       "16   -1.26  \n",
       "17  -53.41  \n",
       "18 -227.55  \n",
       "19 -112.00  \n",
       "20 -275.21  \n",
       "21  -92.63  \n",
       "22 -111.49  \n",
       "23  235.80  \n",
       "24  -40.98  \n",
       "25   22.50  \n",
       "26  -59.03  \n",
       "27   24.32  \n",
       "28   25.47  \n",
       "29   22.28  \n",
       "30   36.60  \n",
       "31  -43.80  \n",
       "32   56.52  \n",
       "33   47.80  \n",
       "34   69.60  \n",
       "35   20.24  "
      ]
     },
     "execution_count": 3,
     "metadata": {},
     "output_type": "execute_result"
    }
   ],
   "source": [
    "datos"
   ]
  },
  {
   "cell_type": "markdown",
   "metadata": {},
   "source": [
    "# Mediciones de estadísticas básicas"
   ]
  },
  {
   "cell_type": "code",
   "execution_count": 4,
   "metadata": {},
   "outputs": [],
   "source": [
    "# Importar las funciones para el análisis de estadísticas básicas de los movimientos del trader\n",
    "\n",
    "datos = fn.f_columnas_tiempos(datos)\n",
    "datos = fn.f_columnas_pips(datos)\n",
    "estadisticas = fn.f_basic_stats(datos)"
   ]
  },
  {
   "cell_type": "markdown",
   "metadata": {},
   "source": [
    "<font size = 3> Como se observará a continuación en la tabla, después de la columan 'profit', se agregaron 4 columnas más, en donde la primera llamada 'tiempo' se logra con una función en donde se convierten el opentime y closetime en tipo datetime en la cual se puede calcular el tiempo en segundos desde el momento en el que la operación fue abierta, hasta el momento en el que fue cerrada.\n",
    "<br>\n",
    "    La forma en la que fue creada esta nueva columna, es por medio de la función mostrada a continuación:\n",
    "</font>"
   ]
  },
  {
   "cell_type": "code",
   "execution_count": 5,
   "metadata": {},
   "outputs": [],
   "source": [
    "def f_columnas_tiempos(param_data):\n",
    "    \"\"\"\n",
    "    Parameters\n",
    "    ----------\n",
    "    param_data : pd.DataFrame : df con información de transacciones ejecutadas\n",
    "    \n",
    "    Returns\n",
    "    -------\n",
    "    param_data : pd.DataFrame : df con columna agregada 'tiempo'\n",
    "    \n",
    "    Debugging\n",
    "    ---------\n",
    "    param_data = f_leer_archivo(\"archivo_tradeview_1.xlsx\")\n",
    "    \"\"\"\n",
    "    \n",
    "    # convertir columnas de 'closetime' y 'opentime' utilizando pd.to_datatime\n",
    "    param_data['closetime'] = pd.to_datetime(param_data['closetime'])\n",
    "    param_data['opentime'] = pd.to_datetime(param_data['opentime'])\n",
    "\n",
    "    # tiempo transcurrido de una operación\n",
    "    # momento de cierre - momento de apertura / notación científica para todas las filas \n",
    "    param_data['tiempo'] = [(param_data.loc[i, 'closetime'] -\n",
    "                             param_data.loc[i, 'opentime']).delta / 1e9\n",
    "                            for i in range(0, len(param_data['closetime']))]\n",
    "    \n",
    "    return param_data"
   ]
  },
  {
   "cell_type": "markdown",
   "metadata": {},
   "source": [
    "<font size = 3> Para las siguientes columnas de pips, pips acumulados y el profit acumulado, se esperan calcular gracias a la función que se muestra a continuación, en la que, dados ya los tamaños de pips de divisas previamente de acuerdo a cada una, se calcula el tamaño de los pips ganados (positivos) o perdidos (negativos). \n",
    "<br>\n",
    "En la columna siguiente, los pips acumulados, como su nombre lo dice, es el total de los pips que se han obtenido como ganancia o périda, de los movimientos a lo largo del historial del trader.\n",
    "<br>\n",
    "La última columna, la acumulación de profit, es la suma total de las ganancias, menos las pérdidas, en unidades monetarias.\n",
    "</font>"
   ]
  },
  {
   "cell_type": "code",
   "execution_count": 6,
   "metadata": {},
   "outputs": [],
   "source": [
    "def f_columnas_pips(datos):\n",
    "    \"\"\"\n",
    "    Parameters\n",
    "    ----------\n",
    "    datos : pd.DataFrame : dataframe con las transacciones ejecutadas ya con la columna 'tiempos'\n",
    "\n",
    "    Returns\n",
    "    -------\n",
    "    param_data : pd.DataFrame : dataframe anterior pero con columnas 'pips' y 'pips acumulados'\n",
    "    \n",
    "    Debugging\n",
    "    ---------\n",
    "    datos =  f_leer_archivo(\"archivo_tradeview_1.xlsx\")\n",
    "    \n",
    "    \"\"\"\n",
    "    # Calcular los pips haciendo la resta de los precios de cierre, menos los de apertura y multiplicado por el número de pips\n",
    "    datos['pips'] = [(datos.closeprice[i] - datos.openprice[i])*f_pip_size(datos.symbol[i]) for i in range(len(datos))]\n",
    "    datos['pips'][datos.type == 'sell'] *= -1\n",
    "    # Suma acumulativa de los pips obtenidos en la columna anterior\n",
    "    datos['pips_acm'] = datos.pips.cumsum()\n",
    "    # Suma acumulativa de los profits obtenidos a través de los días\n",
    "    datos['profit_acm'] = datos['profit'].cumsum()\n",
    "    \n",
    "    return datos.copy()"
   ]
  },
  {
   "cell_type": "code",
   "execution_count": 7,
   "metadata": {},
   "outputs": [
    {
     "data": {
      "text/html": [
       "<div>\n",
       "<style scoped>\n",
       "    .dataframe tbody tr th:only-of-type {\n",
       "        vertical-align: middle;\n",
       "    }\n",
       "\n",
       "    .dataframe tbody tr th {\n",
       "        vertical-align: top;\n",
       "    }\n",
       "\n",
       "    .dataframe thead th {\n",
       "        text-align: right;\n",
       "    }\n",
       "</style>\n",
       "<table border=\"1\" class=\"dataframe\">\n",
       "  <thead>\n",
       "    <tr style=\"text-align: right;\">\n",
       "      <th></th>\n",
       "      <th>order</th>\n",
       "      <th>opentime</th>\n",
       "      <th>type</th>\n",
       "      <th>size</th>\n",
       "      <th>symbol</th>\n",
       "      <th>openprice</th>\n",
       "      <th>s/l</th>\n",
       "      <th>t/p</th>\n",
       "      <th>closetime</th>\n",
       "      <th>closeprice</th>\n",
       "      <th>commission</th>\n",
       "      <th>taxes</th>\n",
       "      <th>swap</th>\n",
       "      <th>profit</th>\n",
       "      <th>tiempo</th>\n",
       "      <th>pips</th>\n",
       "      <th>pips_acm</th>\n",
       "      <th>profit_acm</th>\n",
       "    </tr>\n",
       "  </thead>\n",
       "  <tbody>\n",
       "    <tr>\n",
       "      <th>0</th>\n",
       "      <td>44785961</td>\n",
       "      <td>2020-02-28 20:22:37</td>\n",
       "      <td>sell</td>\n",
       "      <td>0.2</td>\n",
       "      <td>xauusd</td>\n",
       "      <td>1574.26000</td>\n",
       "      <td>1610.00000</td>\n",
       "      <td>1566.00000</td>\n",
       "      <td>2020-03-02 11:35:48</td>\n",
       "      <td>1610.00000</td>\n",
       "      <td>0</td>\n",
       "      <td>0</td>\n",
       "      <td>0</td>\n",
       "      <td>-714.80</td>\n",
       "      <td>227591.0</td>\n",
       "      <td>-357.4</td>\n",
       "      <td>-357.4</td>\n",
       "      <td>-714.80</td>\n",
       "    </tr>\n",
       "    <tr>\n",
       "      <th>1</th>\n",
       "      <td>44786021</td>\n",
       "      <td>2020-02-28 20:24:28</td>\n",
       "      <td>sell</td>\n",
       "      <td>0.2</td>\n",
       "      <td>gbpchf</td>\n",
       "      <td>1.23555</td>\n",
       "      <td>1.24589</td>\n",
       "      <td>1.22000</td>\n",
       "      <td>2020-03-02 17:06:39</td>\n",
       "      <td>1.22000</td>\n",
       "      <td>0</td>\n",
       "      <td>0</td>\n",
       "      <td>0</td>\n",
       "      <td>325.61</td>\n",
       "      <td>247331.0</td>\n",
       "      <td>155.5</td>\n",
       "      <td>-201.9</td>\n",
       "      <td>-389.19</td>\n",
       "    </tr>\n",
       "    <tr>\n",
       "      <th>2</th>\n",
       "      <td>44786130</td>\n",
       "      <td>2020-02-28 20:27:33</td>\n",
       "      <td>sell</td>\n",
       "      <td>0.1</td>\n",
       "      <td>audcad</td>\n",
       "      <td>0.87069</td>\n",
       "      <td>0.87100</td>\n",
       "      <td>0.86400</td>\n",
       "      <td>2020-02-28 20:31:22</td>\n",
       "      <td>0.87100</td>\n",
       "      <td>0</td>\n",
       "      <td>0</td>\n",
       "      <td>0</td>\n",
       "      <td>-2.31</td>\n",
       "      <td>229.0</td>\n",
       "      <td>-3.1</td>\n",
       "      <td>-205.0</td>\n",
       "      <td>-391.50</td>\n",
       "    </tr>\n",
       "    <tr>\n",
       "      <th>3</th>\n",
       "      <td>44786297</td>\n",
       "      <td>2020-02-28 20:29:38</td>\n",
       "      <td>buy</td>\n",
       "      <td>0.1</td>\n",
       "      <td>euraud</td>\n",
       "      <td>1.69633</td>\n",
       "      <td>1.69079</td>\n",
       "      <td>1.71000</td>\n",
       "      <td>2020-02-28 21:38:18</td>\n",
       "      <td>1.69079</td>\n",
       "      <td>0</td>\n",
       "      <td>0</td>\n",
       "      <td>0</td>\n",
       "      <td>-36.13</td>\n",
       "      <td>4120.0</td>\n",
       "      <td>-55.4</td>\n",
       "      <td>-260.4</td>\n",
       "      <td>-427.63</td>\n",
       "    </tr>\n",
       "    <tr>\n",
       "      <th>4</th>\n",
       "      <td>44786418</td>\n",
       "      <td>2020-02-28 20:31:20</td>\n",
       "      <td>sell</td>\n",
       "      <td>0.2</td>\n",
       "      <td>gbpjpy</td>\n",
       "      <td>137.90800</td>\n",
       "      <td>139.00000</td>\n",
       "      <td>137.47000</td>\n",
       "      <td>2020-03-02 00:59:53</td>\n",
       "      <td>137.47000</td>\n",
       "      <td>0</td>\n",
       "      <td>0</td>\n",
       "      <td>0</td>\n",
       "      <td>81.54</td>\n",
       "      <td>188913.0</td>\n",
       "      <td>43.8</td>\n",
       "      <td>-216.6</td>\n",
       "      <td>-346.09</td>\n",
       "    </tr>\n",
       "    <tr>\n",
       "      <th>5</th>\n",
       "      <td>44786702</td>\n",
       "      <td>2020-02-28 20:37:44</td>\n",
       "      <td>sell</td>\n",
       "      <td>0.2</td>\n",
       "      <td>nzdjpy</td>\n",
       "      <td>67.31400</td>\n",
       "      <td>67.60000</td>\n",
       "      <td>66.75500</td>\n",
       "      <td>2020-03-02 07:39:32</td>\n",
       "      <td>67.31500</td>\n",
       "      <td>0</td>\n",
       "      <td>0</td>\n",
       "      <td>0</td>\n",
       "      <td>-0.19</td>\n",
       "      <td>212508.0</td>\n",
       "      <td>-10.0</td>\n",
       "      <td>-226.6</td>\n",
       "      <td>-346.28</td>\n",
       "    </tr>\n",
       "    <tr>\n",
       "      <th>6</th>\n",
       "      <td>44810504</td>\n",
       "      <td>2020-03-02 07:37:29</td>\n",
       "      <td>buy</td>\n",
       "      <td>0.2</td>\n",
       "      <td>xauusd</td>\n",
       "      <td>1604.22000</td>\n",
       "      <td>1598.00000</td>\n",
       "      <td>1618.00000</td>\n",
       "      <td>2020-03-02 09:07:24</td>\n",
       "      <td>1598.00000</td>\n",
       "      <td>0</td>\n",
       "      <td>0</td>\n",
       "      <td>0</td>\n",
       "      <td>-124.40</td>\n",
       "      <td>5395.0</td>\n",
       "      <td>-62.2</td>\n",
       "      <td>-288.8</td>\n",
       "      <td>-470.68</td>\n",
       "    </tr>\n",
       "    <tr>\n",
       "      <th>7</th>\n",
       "      <td>44923065</td>\n",
       "      <td>2020-03-04 02:40:45</td>\n",
       "      <td>sell</td>\n",
       "      <td>0.2</td>\n",
       "      <td>audchf</td>\n",
       "      <td>0.63175</td>\n",
       "      <td>0.63436</td>\n",
       "      <td>0.62304</td>\n",
       "      <td>2020-03-04 07:37:16</td>\n",
       "      <td>0.63155</td>\n",
       "      <td>0</td>\n",
       "      <td>0</td>\n",
       "      <td>0</td>\n",
       "      <td>4.18</td>\n",
       "      <td>17791.0</td>\n",
       "      <td>2.0</td>\n",
       "      <td>-286.8</td>\n",
       "      <td>-466.50</td>\n",
       "    </tr>\n",
       "    <tr>\n",
       "      <th>8</th>\n",
       "      <td>44923094</td>\n",
       "      <td>2020-03-04 02:41:52</td>\n",
       "      <td>buy</td>\n",
       "      <td>0.2</td>\n",
       "      <td>audnzd</td>\n",
       "      <td>1.05144</td>\n",
       "      <td>1.04595</td>\n",
       "      <td>1.05261</td>\n",
       "      <td>2020-03-04 16:06:13</td>\n",
       "      <td>1.05261</td>\n",
       "      <td>0</td>\n",
       "      <td>0</td>\n",
       "      <td>0</td>\n",
       "      <td>14.70</td>\n",
       "      <td>48261.0</td>\n",
       "      <td>11.7</td>\n",
       "      <td>-275.1</td>\n",
       "      <td>-451.80</td>\n",
       "    </tr>\n",
       "    <tr>\n",
       "      <th>9</th>\n",
       "      <td>44927912</td>\n",
       "      <td>2020-03-04 07:39:28</td>\n",
       "      <td>buy</td>\n",
       "      <td>0.2</td>\n",
       "      <td>audnzd</td>\n",
       "      <td>1.05103</td>\n",
       "      <td>1.04900</td>\n",
       "      <td>1.05100</td>\n",
       "      <td>2020-03-04 07:39:30</td>\n",
       "      <td>1.05100</td>\n",
       "      <td>0</td>\n",
       "      <td>0</td>\n",
       "      <td>0</td>\n",
       "      <td>-0.38</td>\n",
       "      <td>2.0</td>\n",
       "      <td>-0.3</td>\n",
       "      <td>-275.4</td>\n",
       "      <td>-452.18</td>\n",
       "    </tr>\n",
       "    <tr>\n",
       "      <th>10</th>\n",
       "      <td>44957110</td>\n",
       "      <td>2020-03-05 00:26:11</td>\n",
       "      <td>buy</td>\n",
       "      <td>0.2</td>\n",
       "      <td>euraud</td>\n",
       "      <td>1.68172</td>\n",
       "      <td>1.67734</td>\n",
       "      <td>1.69009</td>\n",
       "      <td>2020-03-05 14:01:22</td>\n",
       "      <td>1.69009</td>\n",
       "      <td>0</td>\n",
       "      <td>0</td>\n",
       "      <td>0</td>\n",
       "      <td>110.74</td>\n",
       "      <td>48911.0</td>\n",
       "      <td>83.7</td>\n",
       "      <td>-191.7</td>\n",
       "      <td>-341.44</td>\n",
       "    </tr>\n",
       "    <tr>\n",
       "      <th>11</th>\n",
       "      <td>44957140</td>\n",
       "      <td>2020-03-05 00:27:14</td>\n",
       "      <td>sell</td>\n",
       "      <td>0.2</td>\n",
       "      <td>gbpchf</td>\n",
       "      <td>1.23112</td>\n",
       "      <td>1.23430</td>\n",
       "      <td>1.22796</td>\n",
       "      <td>2020-03-05 14:38:59</td>\n",
       "      <td>1.22796</td>\n",
       "      <td>0</td>\n",
       "      <td>0</td>\n",
       "      <td>0</td>\n",
       "      <td>66.42</td>\n",
       "      <td>51105.0</td>\n",
       "      <td>31.6</td>\n",
       "      <td>-160.1</td>\n",
       "      <td>-275.02</td>\n",
       "    </tr>\n",
       "    <tr>\n",
       "      <th>12</th>\n",
       "      <td>44990717</td>\n",
       "      <td>2020-03-05 19:48:01</td>\n",
       "      <td>buy</td>\n",
       "      <td>0.2</td>\n",
       "      <td>xauusd</td>\n",
       "      <td>1666.29000</td>\n",
       "      <td>1660.00000</td>\n",
       "      <td>1676.00000</td>\n",
       "      <td>2020-03-06 02:42:11</td>\n",
       "      <td>1676.00000</td>\n",
       "      <td>0</td>\n",
       "      <td>0</td>\n",
       "      <td>0</td>\n",
       "      <td>194.20</td>\n",
       "      <td>24850.0</td>\n",
       "      <td>97.1</td>\n",
       "      <td>-63.0</td>\n",
       "      <td>-80.82</td>\n",
       "    </tr>\n",
       "    <tr>\n",
       "      <th>13</th>\n",
       "      <td>45297754</td>\n",
       "      <td>2020-03-12 02:19:23</td>\n",
       "      <td>sell</td>\n",
       "      <td>0.2</td>\n",
       "      <td>usdchf</td>\n",
       "      <td>0.93935</td>\n",
       "      <td>0.94214</td>\n",
       "      <td>0.93530</td>\n",
       "      <td>2020-03-12 04:19:56</td>\n",
       "      <td>0.93530</td>\n",
       "      <td>0</td>\n",
       "      <td>0</td>\n",
       "      <td>0</td>\n",
       "      <td>86.60</td>\n",
       "      <td>7233.0</td>\n",
       "      <td>40.5</td>\n",
       "      <td>-22.5</td>\n",
       "      <td>5.78</td>\n",
       "    </tr>\n",
       "    <tr>\n",
       "      <th>14</th>\n",
       "      <td>45297842</td>\n",
       "      <td>2020-03-12 02:24:56</td>\n",
       "      <td>buy</td>\n",
       "      <td>0.2</td>\n",
       "      <td>eurusd</td>\n",
       "      <td>1.12612</td>\n",
       "      <td>1.11747</td>\n",
       "      <td>1.14097</td>\n",
       "      <td>2020-03-12 17:08:05</td>\n",
       "      <td>1.11747</td>\n",
       "      <td>0</td>\n",
       "      <td>0</td>\n",
       "      <td>0</td>\n",
       "      <td>-173.00</td>\n",
       "      <td>52989.0</td>\n",
       "      <td>-86.5</td>\n",
       "      <td>-109.0</td>\n",
       "      <td>-167.22</td>\n",
       "    </tr>\n",
       "    <tr>\n",
       "      <th>15</th>\n",
       "      <td>46097010</td>\n",
       "      <td>2020-03-20 23:38:45</td>\n",
       "      <td>sell</td>\n",
       "      <td>0.2</td>\n",
       "      <td>audjpy</td>\n",
       "      <td>64.26100</td>\n",
       "      <td>64.79800</td>\n",
       "      <td>63.38500</td>\n",
       "      <td>2020-03-23 01:45:48</td>\n",
       "      <td>63.38500</td>\n",
       "      <td>0</td>\n",
       "      <td>0</td>\n",
       "      <td>0</td>\n",
       "      <td>157.80</td>\n",
       "      <td>180423.0</td>\n",
       "      <td>87.6</td>\n",
       "      <td>-21.4</td>\n",
       "      <td>-9.42</td>\n",
       "    </tr>\n",
       "    <tr>\n",
       "      <th>16</th>\n",
       "      <td>46097098</td>\n",
       "      <td>2020-03-20 23:39:23</td>\n",
       "      <td>sell</td>\n",
       "      <td>0.2</td>\n",
       "      <td>audjpy</td>\n",
       "      <td>64.32800</td>\n",
       "      <td>64.93100</td>\n",
       "      <td>63.68600</td>\n",
       "      <td>2020-03-20 23:39:34</td>\n",
       "      <td>64.33500</td>\n",
       "      <td>0</td>\n",
       "      <td>0</td>\n",
       "      <td>0</td>\n",
       "      <td>-1.26</td>\n",
       "      <td>11.0</td>\n",
       "      <td>-0.7</td>\n",
       "      <td>-22.1</td>\n",
       "      <td>-10.68</td>\n",
       "    </tr>\n",
       "    <tr>\n",
       "      <th>17</th>\n",
       "      <td>46179699</td>\n",
       "      <td>2020-03-23 21:07:20</td>\n",
       "      <td>sell</td>\n",
       "      <td>0.2</td>\n",
       "      <td>cadchf</td>\n",
       "      <td>0.67738</td>\n",
       "      <td>0.68000</td>\n",
       "      <td>0.67475</td>\n",
       "      <td>2020-03-25 01:35:42</td>\n",
       "      <td>0.68000</td>\n",
       "      <td>0</td>\n",
       "      <td>0</td>\n",
       "      <td>0</td>\n",
       "      <td>-53.41</td>\n",
       "      <td>102502.0</td>\n",
       "      <td>-26.2</td>\n",
       "      <td>-48.3</td>\n",
       "      <td>-64.09</td>\n",
       "    </tr>\n",
       "    <tr>\n",
       "      <th>18</th>\n",
       "      <td>46180326</td>\n",
       "      <td>2020-03-23 21:23:35</td>\n",
       "      <td>sell</td>\n",
       "      <td>0.2</td>\n",
       "      <td>gbpjpy</td>\n",
       "      <td>128.40600</td>\n",
       "      <td>129.66800</td>\n",
       "      <td>125.94800</td>\n",
       "      <td>2020-03-24 12:22:08</td>\n",
       "      <td>129.66800</td>\n",
       "      <td>0</td>\n",
       "      <td>0</td>\n",
       "      <td>0</td>\n",
       "      <td>-227.55</td>\n",
       "      <td>53913.0</td>\n",
       "      <td>-126.2</td>\n",
       "      <td>-174.5</td>\n",
       "      <td>-291.64</td>\n",
       "    </tr>\n",
       "    <tr>\n",
       "      <th>19</th>\n",
       "      <td>46249907</td>\n",
       "      <td>2020-03-24 19:58:36</td>\n",
       "      <td>sell</td>\n",
       "      <td>0.2</td>\n",
       "      <td>nzdusd</td>\n",
       "      <td>0.57980</td>\n",
       "      <td>0.58540</td>\n",
       "      <td>0.57228</td>\n",
       "      <td>2020-03-25 07:59:11</td>\n",
       "      <td>0.58540</td>\n",
       "      <td>0</td>\n",
       "      <td>0</td>\n",
       "      <td>0</td>\n",
       "      <td>-112.00</td>\n",
       "      <td>43235.0</td>\n",
       "      <td>-56.0</td>\n",
       "      <td>-230.5</td>\n",
       "      <td>-403.64</td>\n",
       "    </tr>\n",
       "  </tbody>\n",
       "</table>\n",
       "</div>"
      ],
      "text/plain": [
       "       order            opentime  type  size  symbol   openprice         s/l  \\\n",
       "0   44785961 2020-02-28 20:22:37  sell   0.2  xauusd  1574.26000  1610.00000   \n",
       "1   44786021 2020-02-28 20:24:28  sell   0.2  gbpchf     1.23555     1.24589   \n",
       "2   44786130 2020-02-28 20:27:33  sell   0.1  audcad     0.87069     0.87100   \n",
       "3   44786297 2020-02-28 20:29:38   buy   0.1  euraud     1.69633     1.69079   \n",
       "4   44786418 2020-02-28 20:31:20  sell   0.2  gbpjpy   137.90800   139.00000   \n",
       "5   44786702 2020-02-28 20:37:44  sell   0.2  nzdjpy    67.31400    67.60000   \n",
       "6   44810504 2020-03-02 07:37:29   buy   0.2  xauusd  1604.22000  1598.00000   \n",
       "7   44923065 2020-03-04 02:40:45  sell   0.2  audchf     0.63175     0.63436   \n",
       "8   44923094 2020-03-04 02:41:52   buy   0.2  audnzd     1.05144     1.04595   \n",
       "9   44927912 2020-03-04 07:39:28   buy   0.2  audnzd     1.05103     1.04900   \n",
       "10  44957110 2020-03-05 00:26:11   buy   0.2  euraud     1.68172     1.67734   \n",
       "11  44957140 2020-03-05 00:27:14  sell   0.2  gbpchf     1.23112     1.23430   \n",
       "12  44990717 2020-03-05 19:48:01   buy   0.2  xauusd  1666.29000  1660.00000   \n",
       "13  45297754 2020-03-12 02:19:23  sell   0.2  usdchf     0.93935     0.94214   \n",
       "14  45297842 2020-03-12 02:24:56   buy   0.2  eurusd     1.12612     1.11747   \n",
       "15  46097010 2020-03-20 23:38:45  sell   0.2  audjpy    64.26100    64.79800   \n",
       "16  46097098 2020-03-20 23:39:23  sell   0.2  audjpy    64.32800    64.93100   \n",
       "17  46179699 2020-03-23 21:07:20  sell   0.2  cadchf     0.67738     0.68000   \n",
       "18  46180326 2020-03-23 21:23:35  sell   0.2  gbpjpy   128.40600   129.66800   \n",
       "19  46249907 2020-03-24 19:58:36  sell   0.2  nzdusd     0.57980     0.58540   \n",
       "\n",
       "           t/p           closetime  closeprice  commission  taxes  swap  \\\n",
       "0   1566.00000 2020-03-02 11:35:48  1610.00000           0      0     0   \n",
       "1      1.22000 2020-03-02 17:06:39     1.22000           0      0     0   \n",
       "2      0.86400 2020-02-28 20:31:22     0.87100           0      0     0   \n",
       "3      1.71000 2020-02-28 21:38:18     1.69079           0      0     0   \n",
       "4    137.47000 2020-03-02 00:59:53   137.47000           0      0     0   \n",
       "5     66.75500 2020-03-02 07:39:32    67.31500           0      0     0   \n",
       "6   1618.00000 2020-03-02 09:07:24  1598.00000           0      0     0   \n",
       "7      0.62304 2020-03-04 07:37:16     0.63155           0      0     0   \n",
       "8      1.05261 2020-03-04 16:06:13     1.05261           0      0     0   \n",
       "9      1.05100 2020-03-04 07:39:30     1.05100           0      0     0   \n",
       "10     1.69009 2020-03-05 14:01:22     1.69009           0      0     0   \n",
       "11     1.22796 2020-03-05 14:38:59     1.22796           0      0     0   \n",
       "12  1676.00000 2020-03-06 02:42:11  1676.00000           0      0     0   \n",
       "13     0.93530 2020-03-12 04:19:56     0.93530           0      0     0   \n",
       "14     1.14097 2020-03-12 17:08:05     1.11747           0      0     0   \n",
       "15    63.38500 2020-03-23 01:45:48    63.38500           0      0     0   \n",
       "16    63.68600 2020-03-20 23:39:34    64.33500           0      0     0   \n",
       "17     0.67475 2020-03-25 01:35:42     0.68000           0      0     0   \n",
       "18   125.94800 2020-03-24 12:22:08   129.66800           0      0     0   \n",
       "19     0.57228 2020-03-25 07:59:11     0.58540           0      0     0   \n",
       "\n",
       "    profit    tiempo   pips  pips_acm  profit_acm  \n",
       "0  -714.80  227591.0 -357.4    -357.4     -714.80  \n",
       "1   325.61  247331.0  155.5    -201.9     -389.19  \n",
       "2    -2.31     229.0   -3.1    -205.0     -391.50  \n",
       "3   -36.13    4120.0  -55.4    -260.4     -427.63  \n",
       "4    81.54  188913.0   43.8    -216.6     -346.09  \n",
       "5    -0.19  212508.0  -10.0    -226.6     -346.28  \n",
       "6  -124.40    5395.0  -62.2    -288.8     -470.68  \n",
       "7     4.18   17791.0    2.0    -286.8     -466.50  \n",
       "8    14.70   48261.0   11.7    -275.1     -451.80  \n",
       "9    -0.38       2.0   -0.3    -275.4     -452.18  \n",
       "10  110.74   48911.0   83.7    -191.7     -341.44  \n",
       "11   66.42   51105.0   31.6    -160.1     -275.02  \n",
       "12  194.20   24850.0   97.1     -63.0      -80.82  \n",
       "13   86.60    7233.0   40.5     -22.5        5.78  \n",
       "14 -173.00   52989.0  -86.5    -109.0     -167.22  \n",
       "15  157.80  180423.0   87.6     -21.4       -9.42  \n",
       "16   -1.26      11.0   -0.7     -22.1      -10.68  \n",
       "17  -53.41  102502.0  -26.2     -48.3      -64.09  \n",
       "18 -227.55   53913.0 -126.2    -174.5     -291.64  \n",
       "19 -112.00   43235.0  -56.0    -230.5     -403.64  "
      ]
     },
     "execution_count": 7,
     "metadata": {},
     "output_type": "execute_result"
    }
   ],
   "source": [
    "# Nuevo dataframe con las cuatro columnas agregadas al dataframe original\n",
    "\n",
    "datos.head(20)"
   ]
  },
  {
   "cell_type": "markdown",
   "metadata": {},
   "source": [
    "<font size = 3> Con todo lo anterior, ya se pueden realizar y analizar estadísticas básicas para obtener una idea del número de operaciones ganadoras, perdedoras, si se han realizado más compras que ventas o viceversa, la efectividad de las operaciones, entre otras como se mostrará en la función a continuación:\n",
    "</font>"
   ]
  },
  {
   "cell_type": "code",
   "execution_count": 8,
   "metadata": {},
   "outputs": [],
   "source": [
    "def f_basic_stats(datos):\n",
    "    \"\"\"\n",
    "    Parameters\n",
    "    ----------\n",
    "      datos : pd.DataFrame : dataframe con las transacciones ejecutadas, después de 'tiempos'\n",
    "    \n",
    "    Returns\n",
    "    -------\n",
    "    Dos dataframes:\n",
    "    df_1_tabla : pd.DataFrame : dataframe con estadísticas básicas del comportamiento del trader\n",
    "    df_1_ranking : pd.DataFrame : dataframe con un ranking entre el 0 y el 100 expresada en porcentaje, en donde se califica con cuales divisas se obtuvieron operaciones precisas realizadas\n",
    "        \n",
    "    Debugging\n",
    "    ---------\n",
    "    datos = f_leer_archivo(\"archivo_tradeview_1.xlsx\")\n",
    "    \"\"\"\n",
    "    # DataFrame con sus medidas, valores y descripciones \n",
    "    df_1_tabla = pd.DataFrame({'Ops totales': [len(datos['order']), 'Operaciones totales'],\n",
    "                                'Ops ganadoras': [len(datos[datos['profit'] >= 0]), 'Operaciones ganadoras'],\n",
    "                                'Ops ganadoras_b': [len(datos[(datos['type'] == 'buy') & (datos['profit'] >= 0)]), 'Operaciones ganadoras en compra'],\n",
    "                                'Ops ganadoras_s': [len(datos[(datos['type'] == 'sell') & (datos['profit'] >= 0)]), 'Operaciones ganadoras en venta'],\n",
    "                                'Ops perdedoras': [len(datos[datos['profit'] < 0]), 'Operaciones perdedoras'],\n",
    "                                'Ops perdedoras_b': [len(datos[(datos['type'] == 'buy') & (datos['profit'] < 0)]), 'Operaciones perdedoras en compra'],\n",
    "                                'Ops perdedoras_s' : [len(datos[(datos['type'] == 'sell') & (datos['profit'] < 0)]), 'Operaciones perdedoras en venta'],\n",
    "                                'Profit media': [datos['profit'].median(), 'Mediana de profit de operaciones'],\n",
    "                                'Pips media': [datos['pips'].median(), 'Mediana de pips de operaciones'],\n",
    "                                'r_efectividad': [len(datos[datos['profit'] >= 0])/len(datos['order']), 'Ganadoras Totales/Operaciones Totales'],\n",
    "                                'r_proporcion': [len(datos[datos['profit'] >= 0]) / len(datos[datos['profit'] < 0]), 'Ganadoras Totales/Perdedoras Totales'],\n",
    "                                'r_efectividad_b': [len(datos[(datos['type'] == 'buy') & (datos['profit'] >= 0)]) / len(datos['order']), 'Operaciones ganadoras de compra/Operaciones Totales'],\n",
    "                                'r_efectividad_s': [len(datos[(datos['type'] == 'sell') & (datos['profit'] >= 0)]) / len(datos['order']), 'Operaciones ganadoras de venta/Operaciones Totales'],\n",
    "                                }, index = ['Valor', 'Descripción']).transpose()\n",
    "    \n",
    "    tb1 = pd.DataFrame({i: len(datos[datos.profit >0][datos.symbol == i])/len(datos[datos.symbol == i])\n",
    "                        for i in datos.symbol.unique()}, index = ['rank']).transpose()\n",
    "    # Convertir los 'valores' en flotantes\n",
    "    convert_dict = {'Valor': float} \n",
    "    df_1_tabla = df_1_tabla.astype(convert_dict) \n",
    "    \n",
    "    # Segundo dataframe con los datos del dataframe tb1 ordenados de manera descendente, multiplicados por 100 para ser mostrados en porcentaje como el 'ranking'\n",
    "    df_1_ranking = (tb1*100).sort_values(by = 'rank', ascending = False).T.transpose()\n",
    "    \n",
    "    return {'df_1_tabla' : df_1_tabla.copy(), 'df_1_ranking' : df_1_ranking.copy()}"
   ]
  },
  {
   "cell_type": "markdown",
   "metadata": {},
   "source": [
    "<font size =3> Con la función mostrada anteriormente, se forman dos dataframes, donde el primero indica las medidas mostradas a continuación como las operaciones totales, ganadoras, perdedoras, en compra, venta, como la media del profit y de pips, así como:\n",
    "<br>\n",
    "- El **ratio de efectividad**: Calculando las operaciones ganadoras totales entre las operaciones totales, donde el resultado muestra el porcentaje de operaciones ganadoras con respecto al total del número de operaciones.\n",
    "<br>\n",
    "- El **ratio de proporción**: El cual se calcula dividiendo el total de operaciones ganadoras entre las perdedoras totales, donde si el resultado es mayor a 1, quiere decir que existen más operaciones ganadoras que perdedoras.\n",
    "<br>\n",
    "- El **ratio de efectividad de compra**: El cual muestra el porcentaje las operaciones que fueron ganandoras en posición de compra con respecto al total de las operaciones.\n",
    "<br>\n",
    "- El **ratio de efectividad de venta**: Calcula el porcentaje de las operaciones que fueron ganadoras en posición de venta del total de las operaciones.\n",
    "</font>"
   ]
  },
  {
   "cell_type": "code",
   "execution_count": 9,
   "metadata": {},
   "outputs": [
    {
     "data": {
      "text/html": [
       "<div>\n",
       "<style scoped>\n",
       "    .dataframe tbody tr th:only-of-type {\n",
       "        vertical-align: middle;\n",
       "    }\n",
       "\n",
       "    .dataframe tbody tr th {\n",
       "        vertical-align: top;\n",
       "    }\n",
       "\n",
       "    .dataframe thead th {\n",
       "        text-align: right;\n",
       "    }\n",
       "</style>\n",
       "<table border=\"1\" class=\"dataframe\">\n",
       "  <thead>\n",
       "    <tr style=\"text-align: right;\">\n",
       "      <th></th>\n",
       "      <th>Valor</th>\n",
       "      <th>Descripción</th>\n",
       "    </tr>\n",
       "  </thead>\n",
       "  <tbody>\n",
       "    <tr>\n",
       "      <th>Ops totales</th>\n",
       "      <td>36.000000</td>\n",
       "      <td>Operaciones totales</td>\n",
       "    </tr>\n",
       "    <tr>\n",
       "      <th>Ops ganadoras</th>\n",
       "      <td>19.000000</td>\n",
       "      <td>Operaciones ganadoras</td>\n",
       "    </tr>\n",
       "    <tr>\n",
       "      <th>Ops ganadoras_b</th>\n",
       "      <td>9.000000</td>\n",
       "      <td>Operaciones ganadoras en compra</td>\n",
       "    </tr>\n",
       "    <tr>\n",
       "      <th>Ops ganadoras_s</th>\n",
       "      <td>10.000000</td>\n",
       "      <td>Operaciones ganadoras en venta</td>\n",
       "    </tr>\n",
       "    <tr>\n",
       "      <th>Ops perdedoras</th>\n",
       "      <td>17.000000</td>\n",
       "      <td>Operaciones perdedoras</td>\n",
       "    </tr>\n",
       "    <tr>\n",
       "      <th>Ops perdedoras_b</th>\n",
       "      <td>8.000000</td>\n",
       "      <td>Operaciones perdedoras en compra</td>\n",
       "    </tr>\n",
       "    <tr>\n",
       "      <th>Ops perdedoras_s</th>\n",
       "      <td>9.000000</td>\n",
       "      <td>Operaciones perdedoras en venta</td>\n",
       "    </tr>\n",
       "    <tr>\n",
       "      <th>Profit media</th>\n",
       "      <td>9.440000</td>\n",
       "      <td>Mediana de profit de operaciones</td>\n",
       "    </tr>\n",
       "    <tr>\n",
       "      <th>Pips media</th>\n",
       "      <td>6.450000</td>\n",
       "      <td>Mediana de pips de operaciones</td>\n",
       "    </tr>\n",
       "    <tr>\n",
       "      <th>r_efectividad</th>\n",
       "      <td>0.527778</td>\n",
       "      <td>Ganadoras Totales/Operaciones Totales</td>\n",
       "    </tr>\n",
       "    <tr>\n",
       "      <th>r_proporcion</th>\n",
       "      <td>1.117647</td>\n",
       "      <td>Ganadoras Totales/Perdedoras Totales</td>\n",
       "    </tr>\n",
       "    <tr>\n",
       "      <th>r_efectividad_b</th>\n",
       "      <td>0.250000</td>\n",
       "      <td>Operaciones ganadoras de compra/Operaciones To...</td>\n",
       "    </tr>\n",
       "    <tr>\n",
       "      <th>r_efectividad_s</th>\n",
       "      <td>0.277778</td>\n",
       "      <td>Operaciones ganadoras de venta/Operaciones Tot...</td>\n",
       "    </tr>\n",
       "  </tbody>\n",
       "</table>\n",
       "</div>"
      ],
      "text/plain": [
       "                      Valor                                        Descripción\n",
       "Ops totales       36.000000                                Operaciones totales\n",
       "Ops ganadoras     19.000000                              Operaciones ganadoras\n",
       "Ops ganadoras_b    9.000000                    Operaciones ganadoras en compra\n",
       "Ops ganadoras_s   10.000000                     Operaciones ganadoras en venta\n",
       "Ops perdedoras    17.000000                             Operaciones perdedoras\n",
       "Ops perdedoras_b   8.000000                   Operaciones perdedoras en compra\n",
       "Ops perdedoras_s   9.000000                    Operaciones perdedoras en venta\n",
       "Profit media       9.440000                   Mediana de profit de operaciones\n",
       "Pips media         6.450000                     Mediana de pips de operaciones\n",
       "r_efectividad      0.527778              Ganadoras Totales/Operaciones Totales\n",
       "r_proporcion       1.117647               Ganadoras Totales/Perdedoras Totales\n",
       "r_efectividad_b    0.250000  Operaciones ganadoras de compra/Operaciones To...\n",
       "r_efectividad_s    0.277778  Operaciones ganadoras de venta/Operaciones Tot..."
      ]
     },
     "execution_count": 9,
     "metadata": {},
     "output_type": "execute_result"
    }
   ],
   "source": [
    "estadisticas['df_1_tabla']"
   ]
  },
  {
   "cell_type": "markdown",
   "metadata": {},
   "source": [
    "<font size = 3> Como se observa en los resultados de la tabla anterior, el *ratio de fectividad* es mayor al 50%, indicando que más de la mitad de las operaciones ejecutadas han sido ganadoras, el *ratio de proporción* indica que, como ya sabíamos, hay más operaciones ganadoras que perdedoras, lo que también indica que por cada operación perdedora, existen 1.11 operaciones ganadoras. El *ratio de efectividad de compra* indica que por cada operación 0.25 fueron de compra ganadoras, y en el caso del *ratio de efectividad de venta*, indica que por cada operación, 0.27 fueron operaciones de venta ganadoras.\n",
    " </font>"
   ]
  },
  {
   "cell_type": "markdown",
   "metadata": {},
   "source": [
    "<font size = 3> \n",
    "    El segundo dataframe que arroja, es una tabla con las divisas únicas con las cuales se hicieron movimientos en las cuentas y muestra el **ratio de efectividad** de las operaciones, tomando en cuenta esto, quiere decir que el porcentaje que se muestra, es el porcentaje de veces que se hizo algún movimiento con dicha divisa, y esta cerró con ganancias.\n",
    "</font>"
   ]
  },
  {
   "cell_type": "code",
   "execution_count": 10,
   "metadata": {},
   "outputs": [
    {
     "data": {
      "text/html": [
       "<div>\n",
       "<style scoped>\n",
       "    .dataframe tbody tr th:only-of-type {\n",
       "        vertical-align: middle;\n",
       "    }\n",
       "\n",
       "    .dataframe tbody tr th {\n",
       "        vertical-align: top;\n",
       "    }\n",
       "\n",
       "    .dataframe thead th {\n",
       "        text-align: right;\n",
       "    }\n",
       "</style>\n",
       "<table border=\"1\" class=\"dataframe\">\n",
       "  <thead>\n",
       "    <tr style=\"text-align: right;\">\n",
       "      <th></th>\n",
       "      <th>rank</th>\n",
       "    </tr>\n",
       "  </thead>\n",
       "  <tbody>\n",
       "    <tr>\n",
       "      <th>usdjpy</th>\n",
       "      <td>100.0</td>\n",
       "    </tr>\n",
       "    <tr>\n",
       "      <th>usdchf</th>\n",
       "      <td>100.0</td>\n",
       "    </tr>\n",
       "    <tr>\n",
       "      <th>usdcad</th>\n",
       "      <td>100.0</td>\n",
       "    </tr>\n",
       "    <tr>\n",
       "      <th>nzdcad</th>\n",
       "      <td>100.0</td>\n",
       "    </tr>\n",
       "    <tr>\n",
       "      <th>audusd</th>\n",
       "      <td>100.0</td>\n",
       "    </tr>\n",
       "    <tr>\n",
       "      <th>gbpchf</th>\n",
       "      <td>100.0</td>\n",
       "    </tr>\n",
       "    <tr>\n",
       "      <th>audchf</th>\n",
       "      <td>100.0</td>\n",
       "    </tr>\n",
       "    <tr>\n",
       "      <th>xauusd</th>\n",
       "      <td>60.0</td>\n",
       "    </tr>\n",
       "    <tr>\n",
       "      <th>audnzd</th>\n",
       "      <td>50.0</td>\n",
       "    </tr>\n",
       "    <tr>\n",
       "      <th>cadchf</th>\n",
       "      <td>50.0</td>\n",
       "    </tr>\n",
       "    <tr>\n",
       "      <th>gbpjpy</th>\n",
       "      <td>50.0</td>\n",
       "    </tr>\n",
       "    <tr>\n",
       "      <th>euraud</th>\n",
       "      <td>50.0</td>\n",
       "    </tr>\n",
       "    <tr>\n",
       "      <th>audjpy</th>\n",
       "      <td>50.0</td>\n",
       "    </tr>\n",
       "    <tr>\n",
       "      <th>eurusd</th>\n",
       "      <td>0.0</td>\n",
       "    </tr>\n",
       "    <tr>\n",
       "      <th>nzdjpy</th>\n",
       "      <td>0.0</td>\n",
       "    </tr>\n",
       "    <tr>\n",
       "      <th>nzdusd</th>\n",
       "      <td>0.0</td>\n",
       "    </tr>\n",
       "    <tr>\n",
       "      <th>gbpcad</th>\n",
       "      <td>0.0</td>\n",
       "    </tr>\n",
       "    <tr>\n",
       "      <th>cadjpy</th>\n",
       "      <td>0.0</td>\n",
       "    </tr>\n",
       "    <tr>\n",
       "      <th>gbpaud</th>\n",
       "      <td>0.0</td>\n",
       "    </tr>\n",
       "    <tr>\n",
       "      <th>usdmxn</th>\n",
       "      <td>0.0</td>\n",
       "    </tr>\n",
       "    <tr>\n",
       "      <th>audcad</th>\n",
       "      <td>0.0</td>\n",
       "    </tr>\n",
       "  </tbody>\n",
       "</table>\n",
       "</div>"
      ],
      "text/plain": [
       "         rank\n",
       "usdjpy  100.0\n",
       "usdchf  100.0\n",
       "usdcad  100.0\n",
       "nzdcad  100.0\n",
       "audusd  100.0\n",
       "gbpchf  100.0\n",
       "audchf  100.0\n",
       "xauusd   60.0\n",
       "audnzd   50.0\n",
       "cadchf   50.0\n",
       "gbpjpy   50.0\n",
       "euraud   50.0\n",
       "audjpy   50.0\n",
       "eurusd    0.0\n",
       "nzdjpy    0.0\n",
       "nzdusd    0.0\n",
       "gbpcad    0.0\n",
       "cadjpy    0.0\n",
       "gbpaud    0.0\n",
       "usdmxn    0.0\n",
       "audcad    0.0"
      ]
     },
     "execution_count": 10,
     "metadata": {},
     "output_type": "execute_result"
    }
   ],
   "source": [
    "estadisticas['df_1_ranking']"
   ]
  },
  {
   "cell_type": "markdown",
   "metadata": {},
   "source": [
    "<font size = 3> En el caso del dataframe anterior, se muestra que cada vez que se han realizado operaciones con las divisas: usd/jpy, usd/chf, usd/cad, nzd/cad, entre otras, se han obtenido un 100% de acertividad, siendo esto, que todas las operaciones ejecutadas con ellas han sido ganadoras. A diferencia de divisas como aud/cad, nzd/usd, entre otras, las cuales en ninguna operación ejecutada con ellas, ha sido ganadora.\n",
    "</font>"
   ]
  },
  {
   "cell_type": "code",
   "execution_count": 11,
   "metadata": {},
   "outputs": [
    {
     "data": {
      "application/vnd.plotly.v1+json": {
       "config": {
        "plotlyServerURL": "https://plot.ly"
       },
       "data": [
        {
         "labels": [
          "usdjpy",
          "usdchf",
          "usdcad",
          "nzdcad",
          "audusd",
          "gbpchf",
          "audchf",
          "xauusd",
          "audnzd",
          "cadchf",
          "gbpjpy",
          "euraud",
          "audjpy",
          "eurusd",
          "nzdjpy",
          "nzdusd",
          "gbpcad",
          "cadjpy",
          "gbpaud",
          "usdmxn",
          "audcad"
         ],
         "pull": [
          0.2,
          0,
          0,
          0,
          0,
          0,
          0,
          0,
          0,
          0,
          0,
          0,
          0,
          0,
          0,
          0,
          0,
          0,
          0,
          0,
          0,
          0
         ],
         "title": {
          "text": "Asertividad de pares"
         },
         "type": "pie",
         "values": [
          100,
          100,
          100,
          100,
          100,
          100,
          100,
          60,
          50,
          50,
          50,
          50,
          50,
          0,
          0,
          0,
          0,
          0,
          0,
          0,
          0
         ]
        }
       ],
       "layout": {
        "font": {
         "size": 16
        },
        "template": {
         "data": {
          "bar": [
           {
            "error_x": {
             "color": "#2a3f5f"
            },
            "error_y": {
             "color": "#2a3f5f"
            },
            "marker": {
             "line": {
              "color": "#E5ECF6",
              "width": 0.5
             }
            },
            "type": "bar"
           }
          ],
          "barpolar": [
           {
            "marker": {
             "line": {
              "color": "#E5ECF6",
              "width": 0.5
             }
            },
            "type": "barpolar"
           }
          ],
          "carpet": [
           {
            "aaxis": {
             "endlinecolor": "#2a3f5f",
             "gridcolor": "white",
             "linecolor": "white",
             "minorgridcolor": "white",
             "startlinecolor": "#2a3f5f"
            },
            "baxis": {
             "endlinecolor": "#2a3f5f",
             "gridcolor": "white",
             "linecolor": "white",
             "minorgridcolor": "white",
             "startlinecolor": "#2a3f5f"
            },
            "type": "carpet"
           }
          ],
          "choropleth": [
           {
            "colorbar": {
             "outlinewidth": 0,
             "ticks": ""
            },
            "type": "choropleth"
           }
          ],
          "contour": [
           {
            "colorbar": {
             "outlinewidth": 0,
             "ticks": ""
            },
            "colorscale": [
             [
              0,
              "#0d0887"
             ],
             [
              0.1111111111111111,
              "#46039f"
             ],
             [
              0.2222222222222222,
              "#7201a8"
             ],
             [
              0.3333333333333333,
              "#9c179e"
             ],
             [
              0.4444444444444444,
              "#bd3786"
             ],
             [
              0.5555555555555556,
              "#d8576b"
             ],
             [
              0.6666666666666666,
              "#ed7953"
             ],
             [
              0.7777777777777778,
              "#fb9f3a"
             ],
             [
              0.8888888888888888,
              "#fdca26"
             ],
             [
              1,
              "#f0f921"
             ]
            ],
            "type": "contour"
           }
          ],
          "contourcarpet": [
           {
            "colorbar": {
             "outlinewidth": 0,
             "ticks": ""
            },
            "type": "contourcarpet"
           }
          ],
          "heatmap": [
           {
            "colorbar": {
             "outlinewidth": 0,
             "ticks": ""
            },
            "colorscale": [
             [
              0,
              "#0d0887"
             ],
             [
              0.1111111111111111,
              "#46039f"
             ],
             [
              0.2222222222222222,
              "#7201a8"
             ],
             [
              0.3333333333333333,
              "#9c179e"
             ],
             [
              0.4444444444444444,
              "#bd3786"
             ],
             [
              0.5555555555555556,
              "#d8576b"
             ],
             [
              0.6666666666666666,
              "#ed7953"
             ],
             [
              0.7777777777777778,
              "#fb9f3a"
             ],
             [
              0.8888888888888888,
              "#fdca26"
             ],
             [
              1,
              "#f0f921"
             ]
            ],
            "type": "heatmap"
           }
          ],
          "heatmapgl": [
           {
            "colorbar": {
             "outlinewidth": 0,
             "ticks": ""
            },
            "colorscale": [
             [
              0,
              "#0d0887"
             ],
             [
              0.1111111111111111,
              "#46039f"
             ],
             [
              0.2222222222222222,
              "#7201a8"
             ],
             [
              0.3333333333333333,
              "#9c179e"
             ],
             [
              0.4444444444444444,
              "#bd3786"
             ],
             [
              0.5555555555555556,
              "#d8576b"
             ],
             [
              0.6666666666666666,
              "#ed7953"
             ],
             [
              0.7777777777777778,
              "#fb9f3a"
             ],
             [
              0.8888888888888888,
              "#fdca26"
             ],
             [
              1,
              "#f0f921"
             ]
            ],
            "type": "heatmapgl"
           }
          ],
          "histogram": [
           {
            "marker": {
             "colorbar": {
              "outlinewidth": 0,
              "ticks": ""
             }
            },
            "type": "histogram"
           }
          ],
          "histogram2d": [
           {
            "colorbar": {
             "outlinewidth": 0,
             "ticks": ""
            },
            "colorscale": [
             [
              0,
              "#0d0887"
             ],
             [
              0.1111111111111111,
              "#46039f"
             ],
             [
              0.2222222222222222,
              "#7201a8"
             ],
             [
              0.3333333333333333,
              "#9c179e"
             ],
             [
              0.4444444444444444,
              "#bd3786"
             ],
             [
              0.5555555555555556,
              "#d8576b"
             ],
             [
              0.6666666666666666,
              "#ed7953"
             ],
             [
              0.7777777777777778,
              "#fb9f3a"
             ],
             [
              0.8888888888888888,
              "#fdca26"
             ],
             [
              1,
              "#f0f921"
             ]
            ],
            "type": "histogram2d"
           }
          ],
          "histogram2dcontour": [
           {
            "colorbar": {
             "outlinewidth": 0,
             "ticks": ""
            },
            "colorscale": [
             [
              0,
              "#0d0887"
             ],
             [
              0.1111111111111111,
              "#46039f"
             ],
             [
              0.2222222222222222,
              "#7201a8"
             ],
             [
              0.3333333333333333,
              "#9c179e"
             ],
             [
              0.4444444444444444,
              "#bd3786"
             ],
             [
              0.5555555555555556,
              "#d8576b"
             ],
             [
              0.6666666666666666,
              "#ed7953"
             ],
             [
              0.7777777777777778,
              "#fb9f3a"
             ],
             [
              0.8888888888888888,
              "#fdca26"
             ],
             [
              1,
              "#f0f921"
             ]
            ],
            "type": "histogram2dcontour"
           }
          ],
          "mesh3d": [
           {
            "colorbar": {
             "outlinewidth": 0,
             "ticks": ""
            },
            "type": "mesh3d"
           }
          ],
          "parcoords": [
           {
            "line": {
             "colorbar": {
              "outlinewidth": 0,
              "ticks": ""
             }
            },
            "type": "parcoords"
           }
          ],
          "pie": [
           {
            "automargin": true,
            "type": "pie"
           }
          ],
          "scatter": [
           {
            "marker": {
             "colorbar": {
              "outlinewidth": 0,
              "ticks": ""
             }
            },
            "type": "scatter"
           }
          ],
          "scatter3d": [
           {
            "line": {
             "colorbar": {
              "outlinewidth": 0,
              "ticks": ""
             }
            },
            "marker": {
             "colorbar": {
              "outlinewidth": 0,
              "ticks": ""
             }
            },
            "type": "scatter3d"
           }
          ],
          "scattercarpet": [
           {
            "marker": {
             "colorbar": {
              "outlinewidth": 0,
              "ticks": ""
             }
            },
            "type": "scattercarpet"
           }
          ],
          "scattergeo": [
           {
            "marker": {
             "colorbar": {
              "outlinewidth": 0,
              "ticks": ""
             }
            },
            "type": "scattergeo"
           }
          ],
          "scattergl": [
           {
            "marker": {
             "colorbar": {
              "outlinewidth": 0,
              "ticks": ""
             }
            },
            "type": "scattergl"
           }
          ],
          "scattermapbox": [
           {
            "marker": {
             "colorbar": {
              "outlinewidth": 0,
              "ticks": ""
             }
            },
            "type": "scattermapbox"
           }
          ],
          "scatterpolar": [
           {
            "marker": {
             "colorbar": {
              "outlinewidth": 0,
              "ticks": ""
             }
            },
            "type": "scatterpolar"
           }
          ],
          "scatterpolargl": [
           {
            "marker": {
             "colorbar": {
              "outlinewidth": 0,
              "ticks": ""
             }
            },
            "type": "scatterpolargl"
           }
          ],
          "scatterternary": [
           {
            "marker": {
             "colorbar": {
              "outlinewidth": 0,
              "ticks": ""
             }
            },
            "type": "scatterternary"
           }
          ],
          "surface": [
           {
            "colorbar": {
             "outlinewidth": 0,
             "ticks": ""
            },
            "colorscale": [
             [
              0,
              "#0d0887"
             ],
             [
              0.1111111111111111,
              "#46039f"
             ],
             [
              0.2222222222222222,
              "#7201a8"
             ],
             [
              0.3333333333333333,
              "#9c179e"
             ],
             [
              0.4444444444444444,
              "#bd3786"
             ],
             [
              0.5555555555555556,
              "#d8576b"
             ],
             [
              0.6666666666666666,
              "#ed7953"
             ],
             [
              0.7777777777777778,
              "#fb9f3a"
             ],
             [
              0.8888888888888888,
              "#fdca26"
             ],
             [
              1,
              "#f0f921"
             ]
            ],
            "type": "surface"
           }
          ],
          "table": [
           {
            "cells": {
             "fill": {
              "color": "#EBF0F8"
             },
             "line": {
              "color": "white"
             }
            },
            "header": {
             "fill": {
              "color": "#C8D4E3"
             },
             "line": {
              "color": "white"
             }
            },
            "type": "table"
           }
          ]
         },
         "layout": {
          "annotationdefaults": {
           "arrowcolor": "#2a3f5f",
           "arrowhead": 0,
           "arrowwidth": 1
          },
          "coloraxis": {
           "colorbar": {
            "outlinewidth": 0,
            "ticks": ""
           }
          },
          "colorscale": {
           "diverging": [
            [
             0,
             "#8e0152"
            ],
            [
             0.1,
             "#c51b7d"
            ],
            [
             0.2,
             "#de77ae"
            ],
            [
             0.3,
             "#f1b6da"
            ],
            [
             0.4,
             "#fde0ef"
            ],
            [
             0.5,
             "#f7f7f7"
            ],
            [
             0.6,
             "#e6f5d0"
            ],
            [
             0.7,
             "#b8e186"
            ],
            [
             0.8,
             "#7fbc41"
            ],
            [
             0.9,
             "#4d9221"
            ],
            [
             1,
             "#276419"
            ]
           ],
           "sequential": [
            [
             0,
             "#0d0887"
            ],
            [
             0.1111111111111111,
             "#46039f"
            ],
            [
             0.2222222222222222,
             "#7201a8"
            ],
            [
             0.3333333333333333,
             "#9c179e"
            ],
            [
             0.4444444444444444,
             "#bd3786"
            ],
            [
             0.5555555555555556,
             "#d8576b"
            ],
            [
             0.6666666666666666,
             "#ed7953"
            ],
            [
             0.7777777777777778,
             "#fb9f3a"
            ],
            [
             0.8888888888888888,
             "#fdca26"
            ],
            [
             1,
             "#f0f921"
            ]
           ],
           "sequentialminus": [
            [
             0,
             "#0d0887"
            ],
            [
             0.1111111111111111,
             "#46039f"
            ],
            [
             0.2222222222222222,
             "#7201a8"
            ],
            [
             0.3333333333333333,
             "#9c179e"
            ],
            [
             0.4444444444444444,
             "#bd3786"
            ],
            [
             0.5555555555555556,
             "#d8576b"
            ],
            [
             0.6666666666666666,
             "#ed7953"
            ],
            [
             0.7777777777777778,
             "#fb9f3a"
            ],
            [
             0.8888888888888888,
             "#fdca26"
            ],
            [
             1,
             "#f0f921"
            ]
           ]
          },
          "colorway": [
           "#636efa",
           "#EF553B",
           "#00cc96",
           "#ab63fa",
           "#FFA15A",
           "#19d3f3",
           "#FF6692",
           "#B6E880",
           "#FF97FF",
           "#FECB52"
          ],
          "font": {
           "color": "#2a3f5f"
          },
          "geo": {
           "bgcolor": "white",
           "lakecolor": "white",
           "landcolor": "#E5ECF6",
           "showlakes": true,
           "showland": true,
           "subunitcolor": "white"
          },
          "hoverlabel": {
           "align": "left"
          },
          "hovermode": "closest",
          "mapbox": {
           "style": "light"
          },
          "paper_bgcolor": "white",
          "plot_bgcolor": "#E5ECF6",
          "polar": {
           "angularaxis": {
            "gridcolor": "white",
            "linecolor": "white",
            "ticks": ""
           },
           "bgcolor": "#E5ECF6",
           "radialaxis": {
            "gridcolor": "white",
            "linecolor": "white",
            "ticks": ""
           }
          },
          "scene": {
           "xaxis": {
            "backgroundcolor": "#E5ECF6",
            "gridcolor": "white",
            "gridwidth": 2,
            "linecolor": "white",
            "showbackground": true,
            "ticks": "",
            "zerolinecolor": "white"
           },
           "yaxis": {
            "backgroundcolor": "#E5ECF6",
            "gridcolor": "white",
            "gridwidth": 2,
            "linecolor": "white",
            "showbackground": true,
            "ticks": "",
            "zerolinecolor": "white"
           },
           "zaxis": {
            "backgroundcolor": "#E5ECF6",
            "gridcolor": "white",
            "gridwidth": 2,
            "linecolor": "white",
            "showbackground": true,
            "ticks": "",
            "zerolinecolor": "white"
           }
          },
          "shapedefaults": {
           "line": {
            "color": "#2a3f5f"
           }
          },
          "ternary": {
           "aaxis": {
            "gridcolor": "white",
            "linecolor": "white",
            "ticks": ""
           },
           "baxis": {
            "gridcolor": "white",
            "linecolor": "white",
            "ticks": ""
           },
           "bgcolor": "#E5ECF6",
           "caxis": {
            "gridcolor": "white",
            "linecolor": "white",
            "ticks": ""
           }
          },
          "title": {
           "x": 0.05
          },
          "xaxis": {
           "automargin": true,
           "gridcolor": "white",
           "linecolor": "white",
           "ticks": "",
           "title": {
            "standoff": 15
           },
           "zerolinecolor": "white",
           "zerolinewidth": 2
          },
          "yaxis": {
           "automargin": true,
           "gridcolor": "white",
           "linecolor": "white",
           "ticks": "",
           "title": {
            "standoff": 15
           },
           "zerolinecolor": "white",
           "zerolinewidth": 2
          }
         }
        },
        "title": {
         "text": "Ranking de asertividad de pares"
        }
       }
      },
      "text/html": [
       "<div>\n",
       "        \n",
       "        \n",
       "            <div id=\"65bd4e4a-f1a2-4fce-986b-39b0d8a70e60\" class=\"plotly-graph-div\" style=\"height:525px; width:100%;\"></div>\n",
       "            <script type=\"text/javascript\">\n",
       "                require([\"plotly\"], function(Plotly) {\n",
       "                    window.PLOTLYENV=window.PLOTLYENV || {};\n",
       "                    \n",
       "                if (document.getElementById(\"65bd4e4a-f1a2-4fce-986b-39b0d8a70e60\")) {\n",
       "                    Plotly.newPlot(\n",
       "                        '65bd4e4a-f1a2-4fce-986b-39b0d8a70e60',\n",
       "                        [{\"labels\": [\"usdjpy\", \"usdchf\", \"usdcad\", \"nzdcad\", \"audusd\", \"gbpchf\", \"audchf\", \"xauusd\", \"audnzd\", \"cadchf\", \"gbpjpy\", \"euraud\", \"audjpy\", \"eurusd\", \"nzdjpy\", \"nzdusd\", \"gbpcad\", \"cadjpy\", \"gbpaud\", \"usdmxn\", \"audcad\"], \"pull\": [0.2, 0, 0, 0, 0, 0, 0, 0, 0, 0, 0, 0, 0, 0, 0, 0, 0, 0, 0, 0, 0, 0], \"title\": {\"text\": \"Asertividad de pares\"}, \"type\": \"pie\", \"values\": [100.0, 100.0, 100.0, 100.0, 100.0, 100.0, 100.0, 60.0, 50.0, 50.0, 50.0, 50.0, 50.0, 0.0, 0.0, 0.0, 0.0, 0.0, 0.0, 0.0, 0.0]}],\n",
       "                        {\"font\": {\"size\": 16}, \"template\": {\"data\": {\"bar\": [{\"error_x\": {\"color\": \"#2a3f5f\"}, \"error_y\": {\"color\": \"#2a3f5f\"}, \"marker\": {\"line\": {\"color\": \"#E5ECF6\", \"width\": 0.5}}, \"type\": \"bar\"}], \"barpolar\": [{\"marker\": {\"line\": {\"color\": \"#E5ECF6\", \"width\": 0.5}}, \"type\": \"barpolar\"}], \"carpet\": [{\"aaxis\": {\"endlinecolor\": \"#2a3f5f\", \"gridcolor\": \"white\", \"linecolor\": \"white\", \"minorgridcolor\": \"white\", \"startlinecolor\": \"#2a3f5f\"}, \"baxis\": {\"endlinecolor\": \"#2a3f5f\", \"gridcolor\": \"white\", \"linecolor\": \"white\", \"minorgridcolor\": \"white\", \"startlinecolor\": \"#2a3f5f\"}, \"type\": \"carpet\"}], \"choropleth\": [{\"colorbar\": {\"outlinewidth\": 0, \"ticks\": \"\"}, \"type\": \"choropleth\"}], \"contour\": [{\"colorbar\": {\"outlinewidth\": 0, \"ticks\": \"\"}, \"colorscale\": [[0.0, \"#0d0887\"], [0.1111111111111111, \"#46039f\"], [0.2222222222222222, \"#7201a8\"], [0.3333333333333333, \"#9c179e\"], [0.4444444444444444, \"#bd3786\"], [0.5555555555555556, \"#d8576b\"], [0.6666666666666666, \"#ed7953\"], [0.7777777777777778, \"#fb9f3a\"], [0.8888888888888888, \"#fdca26\"], [1.0, \"#f0f921\"]], \"type\": \"contour\"}], \"contourcarpet\": [{\"colorbar\": {\"outlinewidth\": 0, \"ticks\": \"\"}, \"type\": \"contourcarpet\"}], \"heatmap\": [{\"colorbar\": {\"outlinewidth\": 0, \"ticks\": \"\"}, \"colorscale\": [[0.0, \"#0d0887\"], [0.1111111111111111, \"#46039f\"], [0.2222222222222222, \"#7201a8\"], [0.3333333333333333, \"#9c179e\"], [0.4444444444444444, \"#bd3786\"], [0.5555555555555556, \"#d8576b\"], [0.6666666666666666, \"#ed7953\"], [0.7777777777777778, \"#fb9f3a\"], [0.8888888888888888, \"#fdca26\"], [1.0, \"#f0f921\"]], \"type\": \"heatmap\"}], \"heatmapgl\": [{\"colorbar\": {\"outlinewidth\": 0, \"ticks\": \"\"}, \"colorscale\": [[0.0, \"#0d0887\"], [0.1111111111111111, \"#46039f\"], [0.2222222222222222, \"#7201a8\"], [0.3333333333333333, \"#9c179e\"], [0.4444444444444444, \"#bd3786\"], [0.5555555555555556, \"#d8576b\"], [0.6666666666666666, \"#ed7953\"], [0.7777777777777778, \"#fb9f3a\"], [0.8888888888888888, \"#fdca26\"], [1.0, \"#f0f921\"]], \"type\": \"heatmapgl\"}], \"histogram\": [{\"marker\": {\"colorbar\": {\"outlinewidth\": 0, \"ticks\": \"\"}}, \"type\": \"histogram\"}], \"histogram2d\": [{\"colorbar\": {\"outlinewidth\": 0, \"ticks\": \"\"}, \"colorscale\": [[0.0, \"#0d0887\"], [0.1111111111111111, \"#46039f\"], [0.2222222222222222, \"#7201a8\"], [0.3333333333333333, \"#9c179e\"], [0.4444444444444444, \"#bd3786\"], [0.5555555555555556, \"#d8576b\"], [0.6666666666666666, \"#ed7953\"], [0.7777777777777778, \"#fb9f3a\"], [0.8888888888888888, \"#fdca26\"], [1.0, \"#f0f921\"]], \"type\": \"histogram2d\"}], \"histogram2dcontour\": [{\"colorbar\": {\"outlinewidth\": 0, \"ticks\": \"\"}, \"colorscale\": [[0.0, \"#0d0887\"], [0.1111111111111111, \"#46039f\"], [0.2222222222222222, \"#7201a8\"], [0.3333333333333333, \"#9c179e\"], [0.4444444444444444, \"#bd3786\"], [0.5555555555555556, \"#d8576b\"], [0.6666666666666666, \"#ed7953\"], [0.7777777777777778, \"#fb9f3a\"], [0.8888888888888888, \"#fdca26\"], [1.0, \"#f0f921\"]], \"type\": \"histogram2dcontour\"}], \"mesh3d\": [{\"colorbar\": {\"outlinewidth\": 0, \"ticks\": \"\"}, \"type\": \"mesh3d\"}], \"parcoords\": [{\"line\": {\"colorbar\": {\"outlinewidth\": 0, \"ticks\": \"\"}}, \"type\": \"parcoords\"}], \"pie\": [{\"automargin\": true, \"type\": \"pie\"}], \"scatter\": [{\"marker\": {\"colorbar\": {\"outlinewidth\": 0, \"ticks\": \"\"}}, \"type\": \"scatter\"}], \"scatter3d\": [{\"line\": {\"colorbar\": {\"outlinewidth\": 0, \"ticks\": \"\"}}, \"marker\": {\"colorbar\": {\"outlinewidth\": 0, \"ticks\": \"\"}}, \"type\": \"scatter3d\"}], \"scattercarpet\": [{\"marker\": {\"colorbar\": {\"outlinewidth\": 0, \"ticks\": \"\"}}, \"type\": \"scattercarpet\"}], \"scattergeo\": [{\"marker\": {\"colorbar\": {\"outlinewidth\": 0, \"ticks\": \"\"}}, \"type\": \"scattergeo\"}], \"scattergl\": [{\"marker\": {\"colorbar\": {\"outlinewidth\": 0, \"ticks\": \"\"}}, \"type\": \"scattergl\"}], \"scattermapbox\": [{\"marker\": {\"colorbar\": {\"outlinewidth\": 0, \"ticks\": \"\"}}, \"type\": \"scattermapbox\"}], \"scatterpolar\": [{\"marker\": {\"colorbar\": {\"outlinewidth\": 0, \"ticks\": \"\"}}, \"type\": \"scatterpolar\"}], \"scatterpolargl\": [{\"marker\": {\"colorbar\": {\"outlinewidth\": 0, \"ticks\": \"\"}}, \"type\": \"scatterpolargl\"}], \"scatterternary\": [{\"marker\": {\"colorbar\": {\"outlinewidth\": 0, \"ticks\": \"\"}}, \"type\": \"scatterternary\"}], \"surface\": [{\"colorbar\": {\"outlinewidth\": 0, \"ticks\": \"\"}, \"colorscale\": [[0.0, \"#0d0887\"], [0.1111111111111111, \"#46039f\"], [0.2222222222222222, \"#7201a8\"], [0.3333333333333333, \"#9c179e\"], [0.4444444444444444, \"#bd3786\"], [0.5555555555555556, \"#d8576b\"], [0.6666666666666666, \"#ed7953\"], [0.7777777777777778, \"#fb9f3a\"], [0.8888888888888888, \"#fdca26\"], [1.0, \"#f0f921\"]], \"type\": \"surface\"}], \"table\": [{\"cells\": {\"fill\": {\"color\": \"#EBF0F8\"}, \"line\": {\"color\": \"white\"}}, \"header\": {\"fill\": {\"color\": \"#C8D4E3\"}, \"line\": {\"color\": \"white\"}}, \"type\": \"table\"}]}, \"layout\": {\"annotationdefaults\": {\"arrowcolor\": \"#2a3f5f\", \"arrowhead\": 0, \"arrowwidth\": 1}, \"coloraxis\": {\"colorbar\": {\"outlinewidth\": 0, \"ticks\": \"\"}}, \"colorscale\": {\"diverging\": [[0, \"#8e0152\"], [0.1, \"#c51b7d\"], [0.2, \"#de77ae\"], [0.3, \"#f1b6da\"], [0.4, \"#fde0ef\"], [0.5, \"#f7f7f7\"], [0.6, \"#e6f5d0\"], [0.7, \"#b8e186\"], [0.8, \"#7fbc41\"], [0.9, \"#4d9221\"], [1, \"#276419\"]], \"sequential\": [[0.0, \"#0d0887\"], [0.1111111111111111, \"#46039f\"], [0.2222222222222222, \"#7201a8\"], [0.3333333333333333, \"#9c179e\"], [0.4444444444444444, \"#bd3786\"], [0.5555555555555556, \"#d8576b\"], [0.6666666666666666, \"#ed7953\"], [0.7777777777777778, \"#fb9f3a\"], [0.8888888888888888, \"#fdca26\"], [1.0, \"#f0f921\"]], \"sequentialminus\": [[0.0, \"#0d0887\"], [0.1111111111111111, \"#46039f\"], [0.2222222222222222, \"#7201a8\"], [0.3333333333333333, \"#9c179e\"], [0.4444444444444444, \"#bd3786\"], [0.5555555555555556, \"#d8576b\"], [0.6666666666666666, \"#ed7953\"], [0.7777777777777778, \"#fb9f3a\"], [0.8888888888888888, \"#fdca26\"], [1.0, \"#f0f921\"]]}, \"colorway\": [\"#636efa\", \"#EF553B\", \"#00cc96\", \"#ab63fa\", \"#FFA15A\", \"#19d3f3\", \"#FF6692\", \"#B6E880\", \"#FF97FF\", \"#FECB52\"], \"font\": {\"color\": \"#2a3f5f\"}, \"geo\": {\"bgcolor\": \"white\", \"lakecolor\": \"white\", \"landcolor\": \"#E5ECF6\", \"showlakes\": true, \"showland\": true, \"subunitcolor\": \"white\"}, \"hoverlabel\": {\"align\": \"left\"}, \"hovermode\": \"closest\", \"mapbox\": {\"style\": \"light\"}, \"paper_bgcolor\": \"white\", \"plot_bgcolor\": \"#E5ECF6\", \"polar\": {\"angularaxis\": {\"gridcolor\": \"white\", \"linecolor\": \"white\", \"ticks\": \"\"}, \"bgcolor\": \"#E5ECF6\", \"radialaxis\": {\"gridcolor\": \"white\", \"linecolor\": \"white\", \"ticks\": \"\"}}, \"scene\": {\"xaxis\": {\"backgroundcolor\": \"#E5ECF6\", \"gridcolor\": \"white\", \"gridwidth\": 2, \"linecolor\": \"white\", \"showbackground\": true, \"ticks\": \"\", \"zerolinecolor\": \"white\"}, \"yaxis\": {\"backgroundcolor\": \"#E5ECF6\", \"gridcolor\": \"white\", \"gridwidth\": 2, \"linecolor\": \"white\", \"showbackground\": true, \"ticks\": \"\", \"zerolinecolor\": \"white\"}, \"zaxis\": {\"backgroundcolor\": \"#E5ECF6\", \"gridcolor\": \"white\", \"gridwidth\": 2, \"linecolor\": \"white\", \"showbackground\": true, \"ticks\": \"\", \"zerolinecolor\": \"white\"}}, \"shapedefaults\": {\"line\": {\"color\": \"#2a3f5f\"}}, \"ternary\": {\"aaxis\": {\"gridcolor\": \"white\", \"linecolor\": \"white\", \"ticks\": \"\"}, \"baxis\": {\"gridcolor\": \"white\", \"linecolor\": \"white\", \"ticks\": \"\"}, \"bgcolor\": \"#E5ECF6\", \"caxis\": {\"gridcolor\": \"white\", \"linecolor\": \"white\", \"ticks\": \"\"}}, \"title\": {\"x\": 0.05}, \"xaxis\": {\"automargin\": true, \"gridcolor\": \"white\", \"linecolor\": \"white\", \"ticks\": \"\", \"title\": {\"standoff\": 15}, \"zerolinecolor\": \"white\", \"zerolinewidth\": 2}, \"yaxis\": {\"automargin\": true, \"gridcolor\": \"white\", \"linecolor\": \"white\", \"ticks\": \"\", \"title\": {\"standoff\": 15}, \"zerolinecolor\": \"white\", \"zerolinewidth\": 2}}}, \"title\": {\"text\": \"Ranking de asertividad de pares\"}},\n",
       "                        {\"responsive\": true}\n",
       "                    ).then(function(){\n",
       "                            \n",
       "var gd = document.getElementById('65bd4e4a-f1a2-4fce-986b-39b0d8a70e60');\n",
       "var x = new MutationObserver(function (mutations, observer) {{\n",
       "        var display = window.getComputedStyle(gd).display;\n",
       "        if (!display || display === 'none') {{\n",
       "            console.log([gd, 'removed!']);\n",
       "            Plotly.purge(gd);\n",
       "            observer.disconnect();\n",
       "        }}\n",
       "}});\n",
       "\n",
       "// Listen for the removal of the full notebook cells\n",
       "var notebookContainer = gd.closest('#notebook-container');\n",
       "if (notebookContainer) {{\n",
       "    x.observe(notebookContainer, {childList: true});\n",
       "}}\n",
       "\n",
       "// Listen for the clearing of the current output cell\n",
       "var outputEl = gd.closest('.output');\n",
       "if (outputEl) {{\n",
       "    x.observe(outputEl, {childList: true});\n",
       "}}\n",
       "\n",
       "                        })\n",
       "                };\n",
       "                });\n",
       "            </script>\n",
       "        </div>"
      ]
     },
     "metadata": {},
     "output_type": "display_data"
    }
   ],
   "source": [
    "df_ranking = pd.DataFrame(estadisticas['df_1_ranking'])\n",
    "df_1_ranking = df_ranking.reset_index()\n",
    "df_ranking = df_1_ranking.rename(columns = {\"index\": \"pares\", \"rank\": \"rank\"})\n",
    "\n",
    "labels = df_ranking['pares']\n",
    "values = df_ranking['rank']\n",
    "pie_rank = go.Figure(data = [go.Pie(labels=labels, values=values, pull=[0.2, 0, 0, 0, 0, 0, 0, 0, 0, 0, 0, 0, 0, 0, 0, 0, 0, 0, 0, 0, 0, 0], title = 'Asertividad de pares')])\n",
    "pie_rank.update_layout(title = \"Ranking de asertividad de pares\", font = dict(size = 16))\n",
    "pie_rank.show()"
   ]
  },
  {
   "cell_type": "markdown",
   "metadata": {},
   "source": [
    "# Medidas de atribución al desempeño"
   ]
  },
  {
   "cell_type": "markdown",
   "metadata": {},
   "source": [
    "<font size = 3> Para calcular las medidas de atribución al desempeño, se necesita calcular una nueva columna al dataframe del principio, iniciando la cuenta con $5,000 USD y sumando ganancias y restando las pérdidas, como se observa en la función a continuación:\n",
    "</font>"
   ]
  },
  {
   "cell_type": "code",
   "execution_count": 12,
   "metadata": {},
   "outputs": [],
   "source": [
    "def f_capital_acm(datos):\n",
    "    \"\"\"\n",
    "    Parameters\n",
    "    ----------\n",
    "    datos : pandas.DataFrame : dataframe con transacciones ejecutadas después de haber corrido 'tiempos' y 'pips'\n",
    "\n",
    "    Returns\n",
    "    -------\n",
    "    datos : pandas.DataFrame : se le agrega una columna al dataframe\n",
    "    \n",
    "    Debugging\n",
    "    ---------\n",
    "    datos = f_leer_archivo(\"archivo_tradeview_1.csv\")\n",
    "    \"\"\"\n",
    "    \n",
    "    # Se forma una nueva columna inicializada en $5,000 donde se le suma/resta el profit acumulado en cada renglón\n",
    "    datos['capital_acm'] = 5000 + datos.profit_acm \n",
    "    return datos.copy()\n"
   ]
  },
  {
   "cell_type": "markdown",
   "metadata": {},
   "source": [
    "<font size=3> En la siguiente función, se obtienen los datos del dataframe inicial con las columnas agregadas y de regreso se obtiene un nuevo dataframe con tres columnas, *timestamp* que tienen las fechas por cada día desde el primer día que se hicieron movimientos de la cuenta, hasta el último día, donde la segunda columna del *profit diario* donde por cada día del timestamp se proyecta el profit de cada día recorrido, y en el *profit acumulado*, iniciando con una cuenta de $5,000 USD, agregando el profit obtenido al día \n",
    "</font>"
   ]
  },
  {
   "cell_type": "code",
   "execution_count": 13,
   "metadata": {},
   "outputs": [],
   "source": [
    "def f_profit_diario(datos):\n",
    "     \"\"\"\n",
    "     Parameters\n",
    "     ----------\n",
    "     datos : pandas.DataFrame : dataframe de fechas históricas solo usando columnas timestamp y profit\n",
    "  \n",
    "     Returns\n",
    "     -------\n",
    "     datos : pandas.DataFrame : dataframe con las columnas timestamp, profit diario y el acumulado\n",
    "  \n",
    "     Debugging\n",
    "     ---------\n",
    "     datos = f_leer_archivo(\"archivo_tradeview_1.xlsx\")\n",
    "     \"\"\"\n",
    "\n",
    "     \n",
    "     # Agregar normalize a closetime\n",
    "     diario = pd.date_range(datos.closetime.min(), datos.closetime.max()).normalize()\n",
    "     \n",
    "     # convertir a dataframe las fechas diarias\n",
    "     fechas = pd.DataFrame({'timestamp' : diario})\n",
    "     \n",
    "     # Agregar normalize a groupby\n",
    "     groups = datos.groupby(pd.DatetimeIndex(datos['closetime']).normalize())\n",
    "     \n",
    "     profit = groups['profit'].sum()\n",
    "     # convertir los profits diarios a dataframe\n",
    "     profit_diario = pd.DataFrame({'profit_d' : [profit[i] if i in profit.index else 0 for i in diario]})\n",
    "     profit_acm = np.cumsum(profit_diario) + 5000\n",
    "     # juntar en un solo dataframe los dos dataframes anteriores fechas y profits diarios\n",
    "     f_p1 =pd.merge(fechas, profit_diario, left_index = True, right_index = True)\n",
    "     # juntar el dataframe anterior de los dos df con los profits acumulados\n",
    "     df_profit_diario1 = pd.merge(f_p1, profit_acm, left_index = True, right_index = True)\n",
    "     # renombrar las columnas del nuevo dataframe\n",
    "     df_profit_diario = df_profit_diario1.rename(columns = {\"profit_d_x\" : \"profit_d\", \"profit_d_y\" : \"profit_acm_d\"})\n",
    "     \n",
    "     return df_profit_diario"
   ]
  },
  {
   "cell_type": "code",
   "execution_count": 14,
   "metadata": {},
   "outputs": [
    {
     "data": {
      "text/html": [
       "<div>\n",
       "<style scoped>\n",
       "    .dataframe tbody tr th:only-of-type {\n",
       "        vertical-align: middle;\n",
       "    }\n",
       "\n",
       "    .dataframe tbody tr th {\n",
       "        vertical-align: top;\n",
       "    }\n",
       "\n",
       "    .dataframe thead th {\n",
       "        text-align: right;\n",
       "    }\n",
       "</style>\n",
       "<table border=\"1\" class=\"dataframe\">\n",
       "  <thead>\n",
       "    <tr style=\"text-align: right;\">\n",
       "      <th></th>\n",
       "      <th>timestamp</th>\n",
       "      <th>profit_d</th>\n",
       "      <th>profit_acm_d</th>\n",
       "    </tr>\n",
       "  </thead>\n",
       "  <tbody>\n",
       "    <tr>\n",
       "      <th>0</th>\n",
       "      <td>2020-02-28</td>\n",
       "      <td>-38.44</td>\n",
       "      <td>4961.56</td>\n",
       "    </tr>\n",
       "    <tr>\n",
       "      <th>1</th>\n",
       "      <td>2020-02-29</td>\n",
       "      <td>0.00</td>\n",
       "      <td>4961.56</td>\n",
       "    </tr>\n",
       "    <tr>\n",
       "      <th>2</th>\n",
       "      <td>2020-03-01</td>\n",
       "      <td>0.00</td>\n",
       "      <td>4961.56</td>\n",
       "    </tr>\n",
       "    <tr>\n",
       "      <th>3</th>\n",
       "      <td>2020-03-02</td>\n",
       "      <td>-432.24</td>\n",
       "      <td>4529.32</td>\n",
       "    </tr>\n",
       "    <tr>\n",
       "      <th>4</th>\n",
       "      <td>2020-03-03</td>\n",
       "      <td>0.00</td>\n",
       "      <td>4529.32</td>\n",
       "    </tr>\n",
       "    <tr>\n",
       "      <th>5</th>\n",
       "      <td>2020-03-04</td>\n",
       "      <td>18.50</td>\n",
       "      <td>4547.82</td>\n",
       "    </tr>\n",
       "    <tr>\n",
       "      <th>6</th>\n",
       "      <td>2020-03-05</td>\n",
       "      <td>177.16</td>\n",
       "      <td>4724.98</td>\n",
       "    </tr>\n",
       "    <tr>\n",
       "      <th>7</th>\n",
       "      <td>2020-03-06</td>\n",
       "      <td>194.20</td>\n",
       "      <td>4919.18</td>\n",
       "    </tr>\n",
       "    <tr>\n",
       "      <th>8</th>\n",
       "      <td>2020-03-07</td>\n",
       "      <td>0.00</td>\n",
       "      <td>4919.18</td>\n",
       "    </tr>\n",
       "    <tr>\n",
       "      <th>9</th>\n",
       "      <td>2020-03-08</td>\n",
       "      <td>0.00</td>\n",
       "      <td>4919.18</td>\n",
       "    </tr>\n",
       "    <tr>\n",
       "      <th>10</th>\n",
       "      <td>2020-03-09</td>\n",
       "      <td>0.00</td>\n",
       "      <td>4919.18</td>\n",
       "    </tr>\n",
       "    <tr>\n",
       "      <th>11</th>\n",
       "      <td>2020-03-10</td>\n",
       "      <td>0.00</td>\n",
       "      <td>4919.18</td>\n",
       "    </tr>\n",
       "    <tr>\n",
       "      <th>12</th>\n",
       "      <td>2020-03-11</td>\n",
       "      <td>0.00</td>\n",
       "      <td>4919.18</td>\n",
       "    </tr>\n",
       "    <tr>\n",
       "      <th>13</th>\n",
       "      <td>2020-03-12</td>\n",
       "      <td>-86.40</td>\n",
       "      <td>4832.78</td>\n",
       "    </tr>\n",
       "    <tr>\n",
       "      <th>14</th>\n",
       "      <td>2020-03-13</td>\n",
       "      <td>0.00</td>\n",
       "      <td>4832.78</td>\n",
       "    </tr>\n",
       "    <tr>\n",
       "      <th>15</th>\n",
       "      <td>2020-03-14</td>\n",
       "      <td>0.00</td>\n",
       "      <td>4832.78</td>\n",
       "    </tr>\n",
       "    <tr>\n",
       "      <th>16</th>\n",
       "      <td>2020-03-15</td>\n",
       "      <td>0.00</td>\n",
       "      <td>4832.78</td>\n",
       "    </tr>\n",
       "    <tr>\n",
       "      <th>17</th>\n",
       "      <td>2020-03-16</td>\n",
       "      <td>0.00</td>\n",
       "      <td>4832.78</td>\n",
       "    </tr>\n",
       "    <tr>\n",
       "      <th>18</th>\n",
       "      <td>2020-03-17</td>\n",
       "      <td>0.00</td>\n",
       "      <td>4832.78</td>\n",
       "    </tr>\n",
       "    <tr>\n",
       "      <th>19</th>\n",
       "      <td>2020-03-18</td>\n",
       "      <td>0.00</td>\n",
       "      <td>4832.78</td>\n",
       "    </tr>\n",
       "    <tr>\n",
       "      <th>20</th>\n",
       "      <td>2020-03-19</td>\n",
       "      <td>0.00</td>\n",
       "      <td>4832.78</td>\n",
       "    </tr>\n",
       "    <tr>\n",
       "      <th>21</th>\n",
       "      <td>2020-03-20</td>\n",
       "      <td>-1.26</td>\n",
       "      <td>4831.52</td>\n",
       "    </tr>\n",
       "    <tr>\n",
       "      <th>22</th>\n",
       "      <td>2020-03-21</td>\n",
       "      <td>0.00</td>\n",
       "      <td>4831.52</td>\n",
       "    </tr>\n",
       "    <tr>\n",
       "      <th>23</th>\n",
       "      <td>2020-03-22</td>\n",
       "      <td>0.00</td>\n",
       "      <td>4831.52</td>\n",
       "    </tr>\n",
       "    <tr>\n",
       "      <th>24</th>\n",
       "      <td>2020-03-23</td>\n",
       "      <td>157.80</td>\n",
       "      <td>4989.32</td>\n",
       "    </tr>\n",
       "    <tr>\n",
       "      <th>25</th>\n",
       "      <td>2020-03-24</td>\n",
       "      <td>-227.55</td>\n",
       "      <td>4761.77</td>\n",
       "    </tr>\n",
       "    <tr>\n",
       "      <th>26</th>\n",
       "      <td>2020-03-25</td>\n",
       "      <td>-165.41</td>\n",
       "      <td>4596.36</td>\n",
       "    </tr>\n",
       "    <tr>\n",
       "      <th>27</th>\n",
       "      <td>2020-03-26</td>\n",
       "      <td>0.00</td>\n",
       "      <td>4596.36</td>\n",
       "    </tr>\n",
       "    <tr>\n",
       "      <th>28</th>\n",
       "      <td>2020-03-27</td>\n",
       "      <td>0.00</td>\n",
       "      <td>4596.36</td>\n",
       "    </tr>\n",
       "    <tr>\n",
       "      <th>29</th>\n",
       "      <td>2020-03-28</td>\n",
       "      <td>0.00</td>\n",
       "      <td>4596.36</td>\n",
       "    </tr>\n",
       "    <tr>\n",
       "      <th>30</th>\n",
       "      <td>2020-03-29</td>\n",
       "      <td>0.00</td>\n",
       "      <td>4596.36</td>\n",
       "    </tr>\n",
       "    <tr>\n",
       "      <th>31</th>\n",
       "      <td>2020-03-30</td>\n",
       "      <td>0.00</td>\n",
       "      <td>4596.36</td>\n",
       "    </tr>\n",
       "    <tr>\n",
       "      <th>32</th>\n",
       "      <td>2020-03-31</td>\n",
       "      <td>-479.33</td>\n",
       "      <td>4117.03</td>\n",
       "    </tr>\n",
       "    <tr>\n",
       "      <th>33</th>\n",
       "      <td>2020-04-01</td>\n",
       "      <td>194.82</td>\n",
       "      <td>4311.85</td>\n",
       "    </tr>\n",
       "    <tr>\n",
       "      <th>34</th>\n",
       "      <td>2020-04-02</td>\n",
       "      <td>-12.21</td>\n",
       "      <td>4299.64</td>\n",
       "    </tr>\n",
       "    <tr>\n",
       "      <th>35</th>\n",
       "      <td>2020-04-03</td>\n",
       "      <td>84.35</td>\n",
       "      <td>4383.99</td>\n",
       "    </tr>\n",
       "    <tr>\n",
       "      <th>36</th>\n",
       "      <td>2020-04-04</td>\n",
       "      <td>0.00</td>\n",
       "      <td>4383.99</td>\n",
       "    </tr>\n",
       "    <tr>\n",
       "      <th>37</th>\n",
       "      <td>2020-04-05</td>\n",
       "      <td>0.00</td>\n",
       "      <td>4383.99</td>\n",
       "    </tr>\n",
       "    <tr>\n",
       "      <th>38</th>\n",
       "      <td>2020-04-06</td>\n",
       "      <td>0.00</td>\n",
       "      <td>4383.99</td>\n",
       "    </tr>\n",
       "    <tr>\n",
       "      <th>39</th>\n",
       "      <td>2020-04-07</td>\n",
       "      <td>-43.80</td>\n",
       "      <td>4340.19</td>\n",
       "    </tr>\n",
       "  </tbody>\n",
       "</table>\n",
       "</div>"
      ],
      "text/plain": [
       "    timestamp  profit_d  profit_acm_d\n",
       "0  2020-02-28    -38.44       4961.56\n",
       "1  2020-02-29      0.00       4961.56\n",
       "2  2020-03-01      0.00       4961.56\n",
       "3  2020-03-02   -432.24       4529.32\n",
       "4  2020-03-03      0.00       4529.32\n",
       "5  2020-03-04     18.50       4547.82\n",
       "6  2020-03-05    177.16       4724.98\n",
       "7  2020-03-06    194.20       4919.18\n",
       "8  2020-03-07      0.00       4919.18\n",
       "9  2020-03-08      0.00       4919.18\n",
       "10 2020-03-09      0.00       4919.18\n",
       "11 2020-03-10      0.00       4919.18\n",
       "12 2020-03-11      0.00       4919.18\n",
       "13 2020-03-12    -86.40       4832.78\n",
       "14 2020-03-13      0.00       4832.78\n",
       "15 2020-03-14      0.00       4832.78\n",
       "16 2020-03-15      0.00       4832.78\n",
       "17 2020-03-16      0.00       4832.78\n",
       "18 2020-03-17      0.00       4832.78\n",
       "19 2020-03-18      0.00       4832.78\n",
       "20 2020-03-19      0.00       4832.78\n",
       "21 2020-03-20     -1.26       4831.52\n",
       "22 2020-03-21      0.00       4831.52\n",
       "23 2020-03-22      0.00       4831.52\n",
       "24 2020-03-23    157.80       4989.32\n",
       "25 2020-03-24   -227.55       4761.77\n",
       "26 2020-03-25   -165.41       4596.36\n",
       "27 2020-03-26      0.00       4596.36\n",
       "28 2020-03-27      0.00       4596.36\n",
       "29 2020-03-28      0.00       4596.36\n",
       "30 2020-03-29      0.00       4596.36\n",
       "31 2020-03-30      0.00       4596.36\n",
       "32 2020-03-31   -479.33       4117.03\n",
       "33 2020-04-01    194.82       4311.85\n",
       "34 2020-04-02    -12.21       4299.64\n",
       "35 2020-04-03     84.35       4383.99\n",
       "36 2020-04-04      0.00       4383.99\n",
       "37 2020-04-05      0.00       4383.99\n",
       "38 2020-04-06      0.00       4383.99\n",
       "39 2020-04-07    -43.80       4340.19"
      ]
     },
     "execution_count": 14,
     "metadata": {},
     "output_type": "execute_result"
    }
   ],
   "source": [
    "fn.f_profit_diario(datos)"
   ]
  },
  {
   "cell_type": "code",
   "execution_count": 15,
   "metadata": {},
   "outputs": [
    {
     "data": {
      "image/png": "[encoded data removed]",
      "text/plain": [
       "<Figure size 432x288 with 1 Axes>"
      ]
     },
     "metadata": {
      "needs_background": "light"
     },
     "output_type": "display_data"
    }
   ],
   "source": [
    "vn.profitd(datos)"
   ]
  },
  {
   "cell_type": "code",
   "execution_count": 67,
   "metadata": {},
   "outputs": [
    {
     "data": {
      "application/vnd.plotly.v1+json": {
       "config": {
        "plotlyServerURL": "https://plot.ly"
       },
       "data": [
        {
         "type": "scatter",
         "x": [
          "2020-02-28T00:00:00",
          "2020-02-29T00:00:00",
          "2020-03-01T00:00:00",
          "2020-03-02T00:00:00",
          "2020-03-03T00:00:00",
          "2020-03-04T00:00:00",
          "2020-03-05T00:00:00",
          "2020-03-06T00:00:00",
          "2020-03-07T00:00:00",
          "2020-03-08T00:00:00",
          "2020-03-09T00:00:00",
          "2020-03-10T00:00:00",
          "2020-03-11T00:00:00",
          "2020-03-12T00:00:00",
          "2020-03-13T00:00:00",
          "2020-03-14T00:00:00",
          "2020-03-15T00:00:00",
          "2020-03-16T00:00:00",
          "2020-03-17T00:00:00",
          "2020-03-18T00:00:00",
          "2020-03-19T00:00:00",
          "2020-03-20T00:00:00",
          "2020-03-21T00:00:00",
          "2020-03-22T00:00:00",
          "2020-03-23T00:00:00",
          "2020-03-24T00:00:00",
          "2020-03-25T00:00:00",
          "2020-03-26T00:00:00",
          "2020-03-27T00:00:00",
          "2020-03-28T00:00:00",
          "2020-03-29T00:00:00",
          "2020-03-30T00:00:00",
          "2020-03-31T00:00:00",
          "2020-04-01T00:00:00",
          "2020-04-02T00:00:00",
          "2020-04-03T00:00:00",
          "2020-04-04T00:00:00",
          "2020-04-05T00:00:00",
          "2020-04-06T00:00:00",
          "2020-04-07T00:00:00"
         ],
         "y": [
          4961.56,
          4961.56,
          4961.56,
          4529.32,
          4529.32,
          4547.82,
          4724.9800000000005,
          4919.18,
          4919.18,
          4919.18,
          4919.18,
          4919.18,
          4919.18,
          4832.78,
          4832.78,
          4832.78,
          4832.78,
          4832.78,
          4832.78,
          4832.78,
          4832.78,
          4831.52,
          4831.52,
          4831.52,
          4989.32,
          4761.77,
          4596.360000000001,
          4596.360000000001,
          4596.360000000001,
          4596.360000000001,
          4596.360000000001,
          4596.360000000001,
          4117.030000000001,
          4311.85,
          4299.64,
          4383.99,
          4383.99,
          4383.99,
          4383.99,
          4340.1900000000005
         ]
        }
       ],
       "layout": {
        "template": {
         "data": {
          "bar": [
           {
            "error_x": {
             "color": "#2a3f5f"
            },
            "error_y": {
             "color": "#2a3f5f"
            },
            "marker": {
             "line": {
              "color": "#E5ECF6",
              "width": 0.5
             }
            },
            "type": "bar"
           }
          ],
          "barpolar": [
           {
            "marker": {
             "line": {
              "color": "#E5ECF6",
              "width": 0.5
             }
            },
            "type": "barpolar"
           }
          ],
          "carpet": [
           {
            "aaxis": {
             "endlinecolor": "#2a3f5f",
             "gridcolor": "white",
             "linecolor": "white",
             "minorgridcolor": "white",
             "startlinecolor": "#2a3f5f"
            },
            "baxis": {
             "endlinecolor": "#2a3f5f",
             "gridcolor": "white",
             "linecolor": "white",
             "minorgridcolor": "white",
             "startlinecolor": "#2a3f5f"
            },
            "type": "carpet"
           }
          ],
          "choropleth": [
           {
            "colorbar": {
             "outlinewidth": 0,
             "ticks": ""
            },
            "type": "choropleth"
           }
          ],
          "contour": [
           {
            "colorbar": {
             "outlinewidth": 0,
             "ticks": ""
            },
            "colorscale": [
             [
              0,
              "#0d0887"
             ],
             [
              0.1111111111111111,
              "#46039f"
             ],
             [
              0.2222222222222222,
              "#7201a8"
             ],
             [
              0.3333333333333333,
              "#9c179e"
             ],
             [
              0.4444444444444444,
              "#bd3786"
             ],
             [
              0.5555555555555556,
              "#d8576b"
             ],
             [
              0.6666666666666666,
              "#ed7953"
             ],
             [
              0.7777777777777778,
              "#fb9f3a"
             ],
             [
              0.8888888888888888,
              "#fdca26"
             ],
             [
              1,
              "#f0f921"
             ]
            ],
            "type": "contour"
           }
          ],
          "contourcarpet": [
           {
            "colorbar": {
             "outlinewidth": 0,
             "ticks": ""
            },
            "type": "contourcarpet"
           }
          ],
          "heatmap": [
           {
            "colorbar": {
             "outlinewidth": 0,
             "ticks": ""
            },
            "colorscale": [
             [
              0,
              "#0d0887"
             ],
             [
              0.1111111111111111,
              "#46039f"
             ],
             [
              0.2222222222222222,
              "#7201a8"
             ],
             [
              0.3333333333333333,
              "#9c179e"
             ],
             [
              0.4444444444444444,
              "#bd3786"
             ],
             [
              0.5555555555555556,
              "#d8576b"
             ],
             [
              0.6666666666666666,
              "#ed7953"
             ],
             [
              0.7777777777777778,
              "#fb9f3a"
             ],
             [
              0.8888888888888888,
              "#fdca26"
             ],
             [
              1,
              "#f0f921"
             ]
            ],
            "type": "heatmap"
           }
          ],
          "heatmapgl": [
           {
            "colorbar": {
             "outlinewidth": 0,
             "ticks": ""
            },
            "colorscale": [
             [
              0,
              "#0d0887"
             ],
             [
              0.1111111111111111,
              "#46039f"
             ],
             [
              0.2222222222222222,
              "#7201a8"
             ],
             [
              0.3333333333333333,
              "#9c179e"
             ],
             [
              0.4444444444444444,
              "#bd3786"
             ],
             [
              0.5555555555555556,
              "#d8576b"
             ],
             [
              0.6666666666666666,
              "#ed7953"
             ],
             [
              0.7777777777777778,
              "#fb9f3a"
             ],
             [
              0.8888888888888888,
              "#fdca26"
             ],
             [
              1,
              "#f0f921"
             ]
            ],
            "type": "heatmapgl"
           }
          ],
          "histogram": [
           {
            "marker": {
             "colorbar": {
              "outlinewidth": 0,
              "ticks": ""
             }
            },
            "type": "histogram"
           }
          ],
          "histogram2d": [
           {
            "colorbar": {
             "outlinewidth": 0,
             "ticks": ""
            },
            "colorscale": [
             [
              0,
              "#0d0887"
             ],
             [
              0.1111111111111111,
              "#46039f"
             ],
             [
              0.2222222222222222,
              "#7201a8"
             ],
             [
              0.3333333333333333,
              "#9c179e"
             ],
             [
              0.4444444444444444,
              "#bd3786"
             ],
             [
              0.5555555555555556,
              "#d8576b"
             ],
             [
              0.6666666666666666,
              "#ed7953"
             ],
             [
              0.7777777777777778,
              "#fb9f3a"
             ],
             [
              0.8888888888888888,
              "#fdca26"
             ],
             [
              1,
              "#f0f921"
             ]
            ],
            "type": "histogram2d"
           }
          ],
          "histogram2dcontour": [
           {
            "colorbar": {
             "outlinewidth": 0,
             "ticks": ""
            },
            "colorscale": [
             [
              0,
              "#0d0887"
             ],
             [
              0.1111111111111111,
              "#46039f"
             ],
             [
              0.2222222222222222,
              "#7201a8"
             ],
             [
              0.3333333333333333,
              "#9c179e"
             ],
             [
              0.4444444444444444,
              "#bd3786"
             ],
             [
              0.5555555555555556,
              "#d8576b"
             ],
             [
              0.6666666666666666,
              "#ed7953"
             ],
             [
              0.7777777777777778,
              "#fb9f3a"
             ],
             [
              0.8888888888888888,
              "#fdca26"
             ],
             [
              1,
              "#f0f921"
             ]
            ],
            "type": "histogram2dcontour"
           }
          ],
          "mesh3d": [
           {
            "colorbar": {
             "outlinewidth": 0,
             "ticks": ""
            },
            "type": "mesh3d"
           }
          ],
          "parcoords": [
           {
            "line": {
             "colorbar": {
              "outlinewidth": 0,
              "ticks": ""
             }
            },
            "type": "parcoords"
           }
          ],
          "pie": [
           {
            "automargin": true,
            "type": "pie"
           }
          ],
          "scatter": [
           {
            "marker": {
             "colorbar": {
              "outlinewidth": 0,
              "ticks": ""
             }
            },
            "type": "scatter"
           }
          ],
          "scatter3d": [
           {
            "line": {
             "colorbar": {
              "outlinewidth": 0,
              "ticks": ""
             }
            },
            "marker": {
             "colorbar": {
              "outlinewidth": 0,
              "ticks": ""
             }
            },
            "type": "scatter3d"
           }
          ],
          "scattercarpet": [
           {
            "marker": {
             "colorbar": {
              "outlinewidth": 0,
              "ticks": ""
             }
            },
            "type": "scattercarpet"
           }
          ],
          "scattergeo": [
           {
            "marker": {
             "colorbar": {
              "outlinewidth": 0,
              "ticks": ""
             }
            },
            "type": "scattergeo"
           }
          ],
          "scattergl": [
           {
            "marker": {
             "colorbar": {
              "outlinewidth": 0,
              "ticks": ""
             }
            },
            "type": "scattergl"
           }
          ],
          "scattermapbox": [
           {
            "marker": {
             "colorbar": {
              "outlinewidth": 0,
              "ticks": ""
             }
            },
            "type": "scattermapbox"
           }
          ],
          "scatterpolar": [
           {
            "marker": {
             "colorbar": {
              "outlinewidth": 0,
              "ticks": ""
             }
            },
            "type": "scatterpolar"
           }
          ],
          "scatterpolargl": [
           {
            "marker": {
             "colorbar": {
              "outlinewidth": 0,
              "ticks": ""
             }
            },
            "type": "scatterpolargl"
           }
          ],
          "scatterternary": [
           {
            "marker": {
             "colorbar": {
              "outlinewidth": 0,
              "ticks": ""
             }
            },
            "type": "scatterternary"
           }
          ],
          "surface": [
           {
            "colorbar": {
             "outlinewidth": 0,
             "ticks": ""
            },
            "colorscale": [
             [
              0,
              "#0d0887"
             ],
             [
              0.1111111111111111,
              "#46039f"
             ],
             [
              0.2222222222222222,
              "#7201a8"
             ],
             [
              0.3333333333333333,
              "#9c179e"
             ],
             [
              0.4444444444444444,
              "#bd3786"
             ],
             [
              0.5555555555555556,
              "#d8576b"
             ],
             [
              0.6666666666666666,
              "#ed7953"
             ],
             [
              0.7777777777777778,
              "#fb9f3a"
             ],
             [
              0.8888888888888888,
              "#fdca26"
             ],
             [
              1,
              "#f0f921"
             ]
            ],
            "type": "surface"
           }
          ],
          "table": [
           {
            "cells": {
             "fill": {
              "color": "#EBF0F8"
             },
             "line": {
              "color": "white"
             }
            },
            "header": {
             "fill": {
              "color": "#C8D4E3"
             },
             "line": {
              "color": "white"
             }
            },
            "type": "table"
           }
          ]
         },
         "layout": {
          "annotationdefaults": {
           "arrowcolor": "#2a3f5f",
           "arrowhead": 0,
           "arrowwidth": 1
          },
          "coloraxis": {
           "colorbar": {
            "outlinewidth": 0,
            "ticks": ""
           }
          },
          "colorscale": {
           "diverging": [
            [
             0,
             "#8e0152"
            ],
            [
             0.1,
             "#c51b7d"
            ],
            [
             0.2,
             "#de77ae"
            ],
            [
             0.3,
             "#f1b6da"
            ],
            [
             0.4,
             "#fde0ef"
            ],
            [
             0.5,
             "#f7f7f7"
            ],
            [
             0.6,
             "#e6f5d0"
            ],
            [
             0.7,
             "#b8e186"
            ],
            [
             0.8,
             "#7fbc41"
            ],
            [
             0.9,
             "#4d9221"
            ],
            [
             1,
             "#276419"
            ]
           ],
           "sequential": [
            [
             0,
             "#0d0887"
            ],
            [
             0.1111111111111111,
             "#46039f"
            ],
            [
             0.2222222222222222,
             "#7201a8"
            ],
            [
             0.3333333333333333,
             "#9c179e"
            ],
            [
             0.4444444444444444,
             "#bd3786"
            ],
            [
             0.5555555555555556,
             "#d8576b"
            ],
            [
             0.6666666666666666,
             "#ed7953"
            ],
            [
             0.7777777777777778,
             "#fb9f3a"
            ],
            [
             0.8888888888888888,
             "#fdca26"
            ],
            [
             1,
             "#f0f921"
            ]
           ],
           "sequentialminus": [
            [
             0,
             "#0d0887"
            ],
            [
             0.1111111111111111,
             "#46039f"
            ],
            [
             0.2222222222222222,
             "#7201a8"
            ],
            [
             0.3333333333333333,
             "#9c179e"
            ],
            [
             0.4444444444444444,
             "#bd3786"
            ],
            [
             0.5555555555555556,
             "#d8576b"
            ],
            [
             0.6666666666666666,
             "#ed7953"
            ],
            [
             0.7777777777777778,
             "#fb9f3a"
            ],
            [
             0.8888888888888888,
             "#fdca26"
            ],
            [
             1,
             "#f0f921"
            ]
           ]
          },
          "colorway": [
           "#636efa",
           "#EF553B",
           "#00cc96",
           "#ab63fa",
           "#FFA15A",
           "#19d3f3",
           "#FF6692",
           "#B6E880",
           "#FF97FF",
           "#FECB52"
          ],
          "font": {
           "color": "#2a3f5f"
          },
          "geo": {
           "bgcolor": "white",
           "lakecolor": "white",
           "landcolor": "#E5ECF6",
           "showlakes": true,
           "showland": true,
           "subunitcolor": "white"
          },
          "hoverlabel": {
           "align": "left"
          },
          "hovermode": "closest",
          "mapbox": {
           "style": "light"
          },
          "paper_bgcolor": "white",
          "plot_bgcolor": "#E5ECF6",
          "polar": {
           "angularaxis": {
            "gridcolor": "white",
            "linecolor": "white",
            "ticks": ""
           },
           "bgcolor": "#E5ECF6",
           "radialaxis": {
            "gridcolor": "white",
            "linecolor": "white",
            "ticks": ""
           }
          },
          "scene": {
           "xaxis": {
            "backgroundcolor": "#E5ECF6",
            "gridcolor": "white",
            "gridwidth": 2,
            "linecolor": "white",
            "showbackground": true,
            "ticks": "",
            "zerolinecolor": "white"
           },
           "yaxis": {
            "backgroundcolor": "#E5ECF6",
            "gridcolor": "white",
            "gridwidth": 2,
            "linecolor": "white",
            "showbackground": true,
            "ticks": "",
            "zerolinecolor": "white"
           },
           "zaxis": {
            "backgroundcolor": "#E5ECF6",
            "gridcolor": "white",
            "gridwidth": 2,
            "linecolor": "white",
            "showbackground": true,
            "ticks": "",
            "zerolinecolor": "white"
           }
          },
          "shapedefaults": {
           "line": {
            "color": "#2a3f5f"
           }
          },
          "ternary": {
           "aaxis": {
            "gridcolor": "white",
            "linecolor": "white",
            "ticks": ""
           },
           "baxis": {
            "gridcolor": "white",
            "linecolor": "white",
            "ticks": ""
           },
           "bgcolor": "#E5ECF6",
           "caxis": {
            "gridcolor": "white",
            "linecolor": "white",
            "ticks": ""
           }
          },
          "title": {
           "x": 0.05
          },
          "xaxis": {
           "automargin": true,
           "gridcolor": "white",
           "linecolor": "white",
           "ticks": "",
           "title": {
            "standoff": 15
           },
           "zerolinecolor": "white",
           "zerolinewidth": 2
          },
          "yaxis": {
           "automargin": true,
           "gridcolor": "white",
           "linecolor": "white",
           "ticks": "",
           "title": {
            "standoff": 15
           },
           "zerolinecolor": "white",
           "zerolinewidth": 2
          }
         }
        },
        "title": {
         "text": "Profit acumulado al día"
        },
        "xaxis": {
         "title": {
          "text": "Tiempo (fechas)"
         }
        },
        "yaxis": {
         "title": {
          "text": "Profit ($)"
         }
        }
       }
      },
      "text/html": [
       "<div>\n",
       "        \n",
       "        \n",
       "            <div id=\"c19bc407-bec8-48c9-ac5f-dd49532e9e67\" class=\"plotly-graph-div\" style=\"height:525px; width:100%;\"></div>\n",
       "            <script type=\"text/javascript\">\n",
       "                require([\"plotly\"], function(Plotly) {\n",
       "                    window.PLOTLYENV=window.PLOTLYENV || {};\n",
       "                    \n",
       "                if (document.getElementById(\"c19bc407-bec8-48c9-ac5f-dd49532e9e67\")) {\n",
       "                    Plotly.newPlot(\n",
       "                        'c19bc407-bec8-48c9-ac5f-dd49532e9e67',\n",
       "                        [{\"type\": \"scatter\", \"x\": [\"2020-02-28T00:00:00\", \"2020-02-29T00:00:00\", \"2020-03-01T00:00:00\", \"2020-03-02T00:00:00\", \"2020-03-03T00:00:00\", \"2020-03-04T00:00:00\", \"2020-03-05T00:00:00\", \"2020-03-06T00:00:00\", \"2020-03-07T00:00:00\", \"2020-03-08T00:00:00\", \"2020-03-09T00:00:00\", \"2020-03-10T00:00:00\", \"2020-03-11T00:00:00\", \"2020-03-12T00:00:00\", \"2020-03-13T00:00:00\", \"2020-03-14T00:00:00\", \"2020-03-15T00:00:00\", \"2020-03-16T00:00:00\", \"2020-03-17T00:00:00\", \"2020-03-18T00:00:00\", \"2020-03-19T00:00:00\", \"2020-03-20T00:00:00\", \"2020-03-21T00:00:00\", \"2020-03-22T00:00:00\", \"2020-03-23T00:00:00\", \"2020-03-24T00:00:00\", \"2020-03-25T00:00:00\", \"2020-03-26T00:00:00\", \"2020-03-27T00:00:00\", \"2020-03-28T00:00:00\", \"2020-03-29T00:00:00\", \"2020-03-30T00:00:00\", \"2020-03-31T00:00:00\", \"2020-04-01T00:00:00\", \"2020-04-02T00:00:00\", \"2020-04-03T00:00:00\", \"2020-04-04T00:00:00\", \"2020-04-05T00:00:00\", \"2020-04-06T00:00:00\", \"2020-04-07T00:00:00\"], \"y\": [4961.56, 4961.56, 4961.56, 4529.32, 4529.32, 4547.82, 4724.9800000000005, 4919.18, 4919.18, 4919.18, 4919.18, 4919.18, 4919.18, 4832.78, 4832.78, 4832.78, 4832.78, 4832.78, 4832.78, 4832.78, 4832.78, 4831.52, 4831.52, 4831.52, 4989.32, 4761.77, 4596.360000000001, 4596.360000000001, 4596.360000000001, 4596.360000000001, 4596.360000000001, 4596.360000000001, 4117.030000000001, 4311.85, 4299.64, 4383.99, 4383.99, 4383.99, 4383.99, 4340.1900000000005]}],\n",
       "                        {\"template\": {\"data\": {\"bar\": [{\"error_x\": {\"color\": \"#2a3f5f\"}, \"error_y\": {\"color\": \"#2a3f5f\"}, \"marker\": {\"line\": {\"color\": \"#E5ECF6\", \"width\": 0.5}}, \"type\": \"bar\"}], \"barpolar\": [{\"marker\": {\"line\": {\"color\": \"#E5ECF6\", \"width\": 0.5}}, \"type\": \"barpolar\"}], \"carpet\": [{\"aaxis\": {\"endlinecolor\": \"#2a3f5f\", \"gridcolor\": \"white\", \"linecolor\": \"white\", \"minorgridcolor\": \"white\", \"startlinecolor\": \"#2a3f5f\"}, \"baxis\": {\"endlinecolor\": \"#2a3f5f\", \"gridcolor\": \"white\", \"linecolor\": \"white\", \"minorgridcolor\": \"white\", \"startlinecolor\": \"#2a3f5f\"}, \"type\": \"carpet\"}], \"choropleth\": [{\"colorbar\": {\"outlinewidth\": 0, \"ticks\": \"\"}, \"type\": \"choropleth\"}], \"contour\": [{\"colorbar\": {\"outlinewidth\": 0, \"ticks\": \"\"}, \"colorscale\": [[0.0, \"#0d0887\"], [0.1111111111111111, \"#46039f\"], [0.2222222222222222, \"#7201a8\"], [0.3333333333333333, \"#9c179e\"], [0.4444444444444444, \"#bd3786\"], [0.5555555555555556, \"#d8576b\"], [0.6666666666666666, \"#ed7953\"], [0.7777777777777778, \"#fb9f3a\"], [0.8888888888888888, \"#fdca26\"], [1.0, \"#f0f921\"]], \"type\": \"contour\"}], \"contourcarpet\": [{\"colorbar\": {\"outlinewidth\": 0, \"ticks\": \"\"}, \"type\": \"contourcarpet\"}], \"heatmap\": [{\"colorbar\": {\"outlinewidth\": 0, \"ticks\": \"\"}, \"colorscale\": [[0.0, \"#0d0887\"], [0.1111111111111111, \"#46039f\"], [0.2222222222222222, \"#7201a8\"], [0.3333333333333333, \"#9c179e\"], [0.4444444444444444, \"#bd3786\"], [0.5555555555555556, \"#d8576b\"], [0.6666666666666666, \"#ed7953\"], [0.7777777777777778, \"#fb9f3a\"], [0.8888888888888888, \"#fdca26\"], [1.0, \"#f0f921\"]], \"type\": \"heatmap\"}], \"heatmapgl\": [{\"colorbar\": {\"outlinewidth\": 0, \"ticks\": \"\"}, \"colorscale\": [[0.0, \"#0d0887\"], [0.1111111111111111, \"#46039f\"], [0.2222222222222222, \"#7201a8\"], [0.3333333333333333, \"#9c179e\"], [0.4444444444444444, \"#bd3786\"], [0.5555555555555556, \"#d8576b\"], [0.6666666666666666, \"#ed7953\"], [0.7777777777777778, \"#fb9f3a\"], [0.8888888888888888, \"#fdca26\"], [1.0, \"#f0f921\"]], \"type\": \"heatmapgl\"}], \"histogram\": [{\"marker\": {\"colorbar\": {\"outlinewidth\": 0, \"ticks\": \"\"}}, \"type\": \"histogram\"}], \"histogram2d\": [{\"colorbar\": {\"outlinewidth\": 0, \"ticks\": \"\"}, \"colorscale\": [[0.0, \"#0d0887\"], [0.1111111111111111, \"#46039f\"], [0.2222222222222222, \"#7201a8\"], [0.3333333333333333, \"#9c179e\"], [0.4444444444444444, \"#bd3786\"], [0.5555555555555556, \"#d8576b\"], [0.6666666666666666, \"#ed7953\"], [0.7777777777777778, \"#fb9f3a\"], [0.8888888888888888, \"#fdca26\"], [1.0, \"#f0f921\"]], \"type\": \"histogram2d\"}], \"histogram2dcontour\": [{\"colorbar\": {\"outlinewidth\": 0, \"ticks\": \"\"}, \"colorscale\": [[0.0, \"#0d0887\"], [0.1111111111111111, \"#46039f\"], [0.2222222222222222, \"#7201a8\"], [0.3333333333333333, \"#9c179e\"], [0.4444444444444444, \"#bd3786\"], [0.5555555555555556, \"#d8576b\"], [0.6666666666666666, \"#ed7953\"], [0.7777777777777778, \"#fb9f3a\"], [0.8888888888888888, \"#fdca26\"], [1.0, \"#f0f921\"]], \"type\": \"histogram2dcontour\"}], \"mesh3d\": [{\"colorbar\": {\"outlinewidth\": 0, \"ticks\": \"\"}, \"type\": \"mesh3d\"}], \"parcoords\": [{\"line\": {\"colorbar\": {\"outlinewidth\": 0, \"ticks\": \"\"}}, \"type\": \"parcoords\"}], \"pie\": [{\"automargin\": true, \"type\": \"pie\"}], \"scatter\": [{\"marker\": {\"colorbar\": {\"outlinewidth\": 0, \"ticks\": \"\"}}, \"type\": \"scatter\"}], \"scatter3d\": [{\"line\": {\"colorbar\": {\"outlinewidth\": 0, \"ticks\": \"\"}}, \"marker\": {\"colorbar\": {\"outlinewidth\": 0, \"ticks\": \"\"}}, \"type\": \"scatter3d\"}], \"scattercarpet\": [{\"marker\": {\"colorbar\": {\"outlinewidth\": 0, \"ticks\": \"\"}}, \"type\": \"scattercarpet\"}], \"scattergeo\": [{\"marker\": {\"colorbar\": {\"outlinewidth\": 0, \"ticks\": \"\"}}, \"type\": \"scattergeo\"}], \"scattergl\": [{\"marker\": {\"colorbar\": {\"outlinewidth\": 0, \"ticks\": \"\"}}, \"type\": \"scattergl\"}], \"scattermapbox\": [{\"marker\": {\"colorbar\": {\"outlinewidth\": 0, \"ticks\": \"\"}}, \"type\": \"scattermapbox\"}], \"scatterpolar\": [{\"marker\": {\"colorbar\": {\"outlinewidth\": 0, \"ticks\": \"\"}}, \"type\": \"scatterpolar\"}], \"scatterpolargl\": [{\"marker\": {\"colorbar\": {\"outlinewidth\": 0, \"ticks\": \"\"}}, \"type\": \"scatterpolargl\"}], \"scatterternary\": [{\"marker\": {\"colorbar\": {\"outlinewidth\": 0, \"ticks\": \"\"}}, \"type\": \"scatterternary\"}], \"surface\": [{\"colorbar\": {\"outlinewidth\": 0, \"ticks\": \"\"}, \"colorscale\": [[0.0, \"#0d0887\"], [0.1111111111111111, \"#46039f\"], [0.2222222222222222, \"#7201a8\"], [0.3333333333333333, \"#9c179e\"], [0.4444444444444444, \"#bd3786\"], [0.5555555555555556, \"#d8576b\"], [0.6666666666666666, \"#ed7953\"], [0.7777777777777778, \"#fb9f3a\"], [0.8888888888888888, \"#fdca26\"], [1.0, \"#f0f921\"]], \"type\": \"surface\"}], \"table\": [{\"cells\": {\"fill\": {\"color\": \"#EBF0F8\"}, \"line\": {\"color\": \"white\"}}, \"header\": {\"fill\": {\"color\": \"#C8D4E3\"}, \"line\": {\"color\": \"white\"}}, \"type\": \"table\"}]}, \"layout\": {\"annotationdefaults\": {\"arrowcolor\": \"#2a3f5f\", \"arrowhead\": 0, \"arrowwidth\": 1}, \"coloraxis\": {\"colorbar\": {\"outlinewidth\": 0, \"ticks\": \"\"}}, \"colorscale\": {\"diverging\": [[0, \"#8e0152\"], [0.1, \"#c51b7d\"], [0.2, \"#de77ae\"], [0.3, \"#f1b6da\"], [0.4, \"#fde0ef\"], [0.5, \"#f7f7f7\"], [0.6, \"#e6f5d0\"], [0.7, \"#b8e186\"], [0.8, \"#7fbc41\"], [0.9, \"#4d9221\"], [1, \"#276419\"]], \"sequential\": [[0.0, \"#0d0887\"], [0.1111111111111111, \"#46039f\"], [0.2222222222222222, \"#7201a8\"], [0.3333333333333333, \"#9c179e\"], [0.4444444444444444, \"#bd3786\"], [0.5555555555555556, \"#d8576b\"], [0.6666666666666666, \"#ed7953\"], [0.7777777777777778, \"#fb9f3a\"], [0.8888888888888888, \"#fdca26\"], [1.0, \"#f0f921\"]], \"sequentialminus\": [[0.0, \"#0d0887\"], [0.1111111111111111, \"#46039f\"], [0.2222222222222222, \"#7201a8\"], [0.3333333333333333, \"#9c179e\"], [0.4444444444444444, \"#bd3786\"], [0.5555555555555556, \"#d8576b\"], [0.6666666666666666, \"#ed7953\"], [0.7777777777777778, \"#fb9f3a\"], [0.8888888888888888, \"#fdca26\"], [1.0, \"#f0f921\"]]}, \"colorway\": [\"#636efa\", \"#EF553B\", \"#00cc96\", \"#ab63fa\", \"#FFA15A\", \"#19d3f3\", \"#FF6692\", \"#B6E880\", \"#FF97FF\", \"#FECB52\"], \"font\": {\"color\": \"#2a3f5f\"}, \"geo\": {\"bgcolor\": \"white\", \"lakecolor\": \"white\", \"landcolor\": \"#E5ECF6\", \"showlakes\": true, \"showland\": true, \"subunitcolor\": \"white\"}, \"hoverlabel\": {\"align\": \"left\"}, \"hovermode\": \"closest\", \"mapbox\": {\"style\": \"light\"}, \"paper_bgcolor\": \"white\", \"plot_bgcolor\": \"#E5ECF6\", \"polar\": {\"angularaxis\": {\"gridcolor\": \"white\", \"linecolor\": \"white\", \"ticks\": \"\"}, \"bgcolor\": \"#E5ECF6\", \"radialaxis\": {\"gridcolor\": \"white\", \"linecolor\": \"white\", \"ticks\": \"\"}}, \"scene\": {\"xaxis\": {\"backgroundcolor\": \"#E5ECF6\", \"gridcolor\": \"white\", \"gridwidth\": 2, \"linecolor\": \"white\", \"showbackground\": true, \"ticks\": \"\", \"zerolinecolor\": \"white\"}, \"yaxis\": {\"backgroundcolor\": \"#E5ECF6\", \"gridcolor\": \"white\", \"gridwidth\": 2, \"linecolor\": \"white\", \"showbackground\": true, \"ticks\": \"\", \"zerolinecolor\": \"white\"}, \"zaxis\": {\"backgroundcolor\": \"#E5ECF6\", \"gridcolor\": \"white\", \"gridwidth\": 2, \"linecolor\": \"white\", \"showbackground\": true, \"ticks\": \"\", \"zerolinecolor\": \"white\"}}, \"shapedefaults\": {\"line\": {\"color\": \"#2a3f5f\"}}, \"ternary\": {\"aaxis\": {\"gridcolor\": \"white\", \"linecolor\": \"white\", \"ticks\": \"\"}, \"baxis\": {\"gridcolor\": \"white\", \"linecolor\": \"white\", \"ticks\": \"\"}, \"bgcolor\": \"#E5ECF6\", \"caxis\": {\"gridcolor\": \"white\", \"linecolor\": \"white\", \"ticks\": \"\"}}, \"title\": {\"x\": 0.05}, \"xaxis\": {\"automargin\": true, \"gridcolor\": \"white\", \"linecolor\": \"white\", \"ticks\": \"\", \"title\": {\"standoff\": 15}, \"zerolinecolor\": \"white\", \"zerolinewidth\": 2}, \"yaxis\": {\"automargin\": true, \"gridcolor\": \"white\", \"linecolor\": \"white\", \"ticks\": \"\", \"title\": {\"standoff\": 15}, \"zerolinecolor\": \"white\", \"zerolinewidth\": 2}}}, \"title\": {\"text\": \"Profit acumulado al d\\u00eda\"}, \"xaxis\": {\"title\": {\"text\": \"Tiempo (fechas)\"}}, \"yaxis\": {\"title\": {\"text\": \"Profit ($)\"}}},\n",
       "                        {\"responsive\": true}\n",
       "                    ).then(function(){\n",
       "                            \n",
       "var gd = document.getElementById('c19bc407-bec8-48c9-ac5f-dd49532e9e67');\n",
       "var x = new MutationObserver(function (mutations, observer) {{\n",
       "        var display = window.getComputedStyle(gd).display;\n",
       "        if (!display || display === 'none') {{\n",
       "            console.log([gd, 'removed!']);\n",
       "            Plotly.purge(gd);\n",
       "            observer.disconnect();\n",
       "        }}\n",
       "}});\n",
       "\n",
       "// Listen for the removal of the full notebook cells\n",
       "var notebookContainer = gd.closest('#notebook-container');\n",
       "if (notebookContainer) {{\n",
       "    x.observe(notebookContainer, {childList: true});\n",
       "}}\n",
       "\n",
       "// Listen for the clearing of the current output cell\n",
       "var outputEl = gd.closest('.output');\n",
       "if (outputEl) {{\n",
       "    x.observe(outputEl, {childList: true});\n",
       "}}\n",
       "\n",
       "                        })\n",
       "                };\n",
       "                });\n",
       "            </script>\n",
       "        </div>"
      ]
     },
     "metadata": {},
     "output_type": "display_data"
    }
   ],
   "source": [
    "profit_d = fn.f_profit_diario(datos)\n",
    "profs = go.Figure(data = [go.Scatter(x= profit_d['timestamp'], y = profit_d['profit_acm_d'])])\n",
    "profs.update_layout(title = \"Profit acumulado al día\", xaxis_title = \"Tiempo (fechas)\", yaxis_title = \"Profit ($)\")\n",
    "\n",
    "profs.show()"
   ]
  },
  {
   "cell_type": "markdown",
   "metadata": {},
   "source": [
    "<font size = 3> Con el dataframe anterior, se puede obtener un dataframe con las medidas de atribución al desempeño que por medio de la función que se muestra a continuación siendo estas el sharpe ratio, el sortino ratio en posición de compra, el sortino ratio en posición de venta, drawdown del capital y drawup del capital, así como el information ratio que posteriormente se explican:\n",
    "</font>"
   ]
  },
  {
   "cell_type": "code",
   "execution_count": 16,
   "metadata": {},
   "outputs": [],
   "source": [
    "def f_stats_mad(datos):\n",
    "    \"\"\"\n",
    "    Parameters\n",
    "    ----------\n",
    "    datos : pandas.DataFrame : dataframe con transacciones ejecutadas después de tiempos y pips\n",
    "    \n",
    "    Returns\n",
    "    -------\n",
    "    datos : pandas.DataFrame : dataframe con rendimientos logarítmicos. Tomando en cuenta que se inicializa con una cuenta de $5,000\n",
    "\n",
    "    Debugging\n",
    "    ---------\n",
    "    datos = 'f_leer_archivo(\"archivo_tradeview_1.csv\")\n",
    "    \n",
    "    \"\"\"\n",
    "    profit_d = f_profit_diario(datos)\n",
    "    \n",
    "    # Sharpe ratio\n",
    "    rend_log = np.log(profit_d.profit_acm_d[1:].values/profit_d.profit_acm_d[:-1].values)\n",
    "    rf = 0.08/300\n",
    "    mar = 0.3/300\n",
    "    \n",
    "        \n",
    "    # Sortino compra\n",
    "    # Numerador\n",
    "    s_buy = (f_profit_diario(datos[datos['type'] == 'buy']))\n",
    "    rend_log_b = np.log(s_buy.profit_acm_d[1:].values / s_buy.profit_acm_d[:-1].values)\n",
    "    # Denominador\n",
    "    tdd_sb = rend_log_b - mar\n",
    "    tdd_sb[tdd_sb > 0] = 0\n",
    "    # Final\n",
    "    sortino_b = (rend_log_b.mean() - mar) / (((tdd_sb*2).mean())*0.5)\n",
    "    \n",
    "    # Sortino venta\n",
    "    # Numerador\n",
    "    s_sell = (f_profit_diario(datos[datos['type'] == 'sell']))\n",
    "    rend_log_s = np.log(s_sell.profit_acm_d[1:].values / s_sell.profit_acm_d[:-1].values)\n",
    "    # Denominador\n",
    "    tdd_ss = rend_log_s - mar\n",
    "    tdd_ss[tdd_ss > 0] = 0\n",
    "    # Final\n",
    "    sortino_s = (rend_log_s.mean() - mar) / ((tdd_ss*2).mean())*0.5\n",
    "    \n",
    "    \n",
    "    # DD y DU\n",
    "    where_row = profit_d.loc[profit_d['profit_acm_d'] == profit_d.profit_acm_d.min()]\n",
    "    where_position = where_row.index.tolist()\n",
    "    \n",
    "    # Drawdown\n",
    "    prev_where = profit_d.loc[0:where_position[0]]\n",
    "    where_max_prev = profit_d.loc[profit_d['profit_acm_d'] == prev_where.profit_acm_d.max()]\n",
    "    where_min_prev = profit_d.loc[profit_d['profit_acm_d'] == prev_where.profit_acm_d.min()]\n",
    "    max_dd = where_max_prev.iloc[0]['profit_acm_d']\n",
    "    min_dd = where_min_prev.iloc[0]['profit_acm_d']\n",
    "    dd = max_dd - min_dd\n",
    "    fecha_i_dd = where_max_prev.iloc[0]['timestamp']\n",
    "    fecha_f_dd = where_min_prev.iloc[0]['timestamp']\n",
    "    drawdown =  \"{}, {}, ${:.2f}\" .format(fecha_i_dd, fecha_f_dd, dd)\n",
    "     \n",
    "    # Drawup\n",
    "    foll_where = profit_d.loc[where_position[0]:]\n",
    "    where_max_foll = profit_d.loc[profit_d['profit_acm_d'] == foll_where.profit_acm_d.max()]\n",
    "    where_min_foll = profit_d.loc[profit_d['profit_acm_d'] == foll_where.profit_acm_d.min()]\n",
    "    max_du = where_max_foll.iloc[0]['profit_acm_d']\n",
    "    min_du = where_min_foll.iloc[0]['profit_acm_d']\n",
    "    du = max_du - min_du\n",
    "    fecha_f_du = where_max_foll.iloc[0]['timestamp']\n",
    "    fecha_i_du = where_min_foll.iloc[0]['timestamp']\n",
    "    drawup =  \"{}, {}, ${:.2f}\" .format(fecha_i_du, fecha_f_du, du)        \n",
    "\n",
    "    \n",
    "    # Information Ratio\n",
    "    benchmark_original = pd.DataFrame(web.YahooDailyReader('^GSPC', profit_d['timestamp'].min(), profit_d['timestamp'].max(), interval='d').read()['Adj Close'])\n",
    "    # Ajustar fechas como columna en el dataframe\n",
    "    benchmark = benchmark_original.reset_index()\n",
    "    # Agregar columna de los rendimientos logarítmicos de los precios de Cierre Ajustado del SP500\n",
    "    benchmark['rend_log'] = pd.DataFrame(np.log(benchmark['Adj Close'][1:].values / benchmark['Adj Close'][:-1].values))\n",
    "    # Juntar el dataframe de profits con el benchmark en uno solo\n",
    "    bench_merge = profit_d.merge(benchmark,  left_on = 'timestamp', right_on = 'Date')\n",
    "    # Recorrer los valores de los rendimientos logarítmicos una posición abajo y llenar con 0\n",
    "    bench_merge['rend_log'] = bench_merge['rend_log'].shift(1, fill_value = 0)\n",
    "    \n",
    "    # Cálculo de rendimientos logarítmicos de los profit_acm_d\n",
    "    rend_log_profit = pd.DataFrame(np.log(bench_merge.profit_acm_d[1:].values/bench_merge.profit_acm_d[:-1].values))\n",
    "    # rend_log_profit = rend_log_profit.shift(1, fill_value = 0)\n",
    "    \n",
    "    # Agregar la columna de rendimientos de profit_acm_d \n",
    "    bench_merge.insert(3, column = 'rend_log_profit', value = rend_log_profit)\n",
    "    # Recorrer una fila hacia abajo los rendimientos en el dataframe\n",
    "    bench_merge['rend_log_profit'] = bench_merge['rend_log_profit'].shift(1, fill_value = 0)\n",
    "    \n",
    "    # Numerador Information Ratio\n",
    "    # Promedio de rendimientos del profit_acm_d\n",
    "    profit_prom = bench_merge['rend_log_profit'].mean()\n",
    "    # Promedio de rendimientos del SP500\n",
    "    bench_prom = bench_merge['rend_log'].mean()\n",
    "    # Numerador del information ratio = diferencia de los dos anteriores\n",
    "    num_ir = profit_prom - bench_prom\n",
    "    \n",
    "    # Denominador Information Ratio\n",
    "    # Diferencia por rows de los rendimientos del profit_acm_d y del SP500\n",
    "    dif_denom = bench_merge['rend_log_profit'] - bench_merge['rend_log']\n",
    "    # Desviación estándar de la diferencia\n",
    "    denom_ir = dif_denom.std()\n",
    "    \n",
    "    # Cálculo del ratio\n",
    "    info_ratio = num_ir/denom_ir\n",
    "    \n",
    "    \n",
    "    # Métricas\n",
    "    metrica = pd.DataFrame({'métricas': ['sharpe', 'sortino_b', 'sortino_s', 'drawdown_cap_b', 'drawdown_cap_s', 'information_r']})\n",
    "    valor = pd.DataFrame({'valor' : [((rend_log.mean() - rf)/ rend_log.std()), \n",
    "                                     (sortino_b),\n",
    "                                     (sortino_s),\n",
    "                                     (drawdown),\n",
    "                                     (drawup),\n",
    "                                     (info_ratio)\n",
    "                                     ]})\n",
    "    \n",
    "    df_mad1 = pd.merge(metrica, valor, left_index = True, right_index = True)\n",
    "    descripcion = pd.DataFrame({'descripción': ['Sharpe Ratio', 'Sortino Ratio para Posiciones de Compra', 'Sortino Ratio para Posiciones de Venta', 'DrawDown de Capital', 'DrawUp de Capital', 'Information Ratio']})\n",
    "    df_MAD = pd.merge(df_mad1, descripcion, left_index = True, right_index= True)\n",
    "    # convert_dict = {'valor': float} \n",
    "    # df_MAD = df_MAD.astype(convert_dict) \n",
    "    \n",
    "    return df_MAD\n",
    "    "
   ]
  },
  {
   "cell_type": "code",
   "execution_count": 17,
   "metadata": {},
   "outputs": [],
   "source": [
    "desempeno = fn.f_capital_acm(datos)\n",
    "desempeno = fn.f_profit_diario(datos)\n",
    "desempeno = fn.f_stats_mad(datos)"
   ]
  },
  {
   "cell_type": "markdown",
   "metadata": {},
   "source": [
    "<font size =3> A continuación las Medidas de Atribución al Desempeño, su significado e interpretación, posteriormente el dataframe con los resultados de estos movimientos:\n",
    "<br>\n",
    "- **Sharpe Ratio**: Se calcula substrayendo la tasa libre de riesgo del promedio de los rendimientos logarítmicos de los movimientos, y dividiendo este resultado entre la desviación estándar de los mismos (rendimientos logarítmicos).\n",
    "    En general, cuanto mayor es el valor de la relación de Sharpe, más atractivo es el rendimiento ajustado al riesgo.\n",
    "    \\begin{equation*} \n",
    "    Sharpe Ratio = \\frac{R_p-rf}{\\sigma_p}\n",
    "    \\end{equation*}\n",
    "<br>\n",
    "- **Sortino Ratio (Posiciones Compra)**: Se calcula usualmente como el Sharpe, con excepción del denominador que es la desviación estándar de la desventaja, traducido del inglés. Pero en el caso de este laboratorio, en vez de tomar la tasa libre de riesgo, a los rendimientos de las posiciones de compra se les restará el *MAR* conocido por sus siglas en inglés (Minimum Acceptable Return) siendo este el rendimiento promedio objetivo que se desea obtener por parte del trader.\n",
    "    Con respecto al denominador, se calcula con los rendimientos del período que estén por debajo del MAR, por lo que sería únicamente la desviación estándar de los rendimientos por debajo del rendimiento objetivo.\n",
    "    \\begin{equation*}\n",
    "    Sortino Ratio_b = \\frac{R_b-mar}{\\sigma_d}\n",
    "    \\end{equation*}\n",
    "<br>\n",
    "- **Sortino Ratio (Posiciones Venta)**: Se calcula usualmente como el Sharpe, con excepción del denominador que es la desviación estándar de la desventaja, traducido del inglés. Pero en el caso de este laboratorio, en vez de tomar la tasa libre de riesgo, a los rendimientos de las posiciones de venta se les restará el *MAR* conocido por sus siglas en inglés (Minimum Acceptable Return) siendo este el rendimiento promedio objetivo que se desea obtener por parte del trader.\n",
    "    Con respecto al denominador, se calcula con los rendimientos del período que estén por debajo del MAR, por lo que sería únicamente la desviación estándar de los rendimientos por debajo del rendimiento objetivo.\n",
    "    \\begin{equation*}\n",
    "    Sortino Ratio_s = \\frac{R_s-mar}{\\sigma_d}\n",
    "    \\end{equation*}\n",
    "<br>\n",
    "- **DrawDown (Capital)**: En el caso del drawdown, se calcula identificando el pico (el precio más alto y su ubicación en fecha) y si en alguna fecha posterior a eso, hubo una tendencia bajista (que los precios hayan disminuido en fechas posteriores al precio más alto) encontrando el precio más bajo posterior al pico. Dando como resultado, la diferencia del capital entre el pico y el final de la tendencia bajista.\n",
    "<br>\n",
    "- **DrawUp (Capital)**: En el caso del drawup, se calcula identificando el suelo (el precio más bajo y su ubicación en fecha) y si en alguna fecha posterior a eso, hubo una tendencia alcista (que los precios hayan aumentado en fechas posteriores al precio más bajo) encontrando el precio más alto posterior al punto más bajo encontrado. Dando como resultado, la diferencia del capital entre el punto más bajo y el final de la tendencia alcista.\n",
    "<br>\n",
    "- **Information Ratio**: Igualmente un ratio parecido al Sharpe, pero en vez de utilizar la tasa libre de riesgo, a los rendimientos logarítmicos de los movimientos se les restan los rendimientos logarítmicos del índice o benchmark, que en este caso se utilizó el de SP500 y en el denominador se utiliza la información de todos los rendimientos de la estrategia de trading una vez que se descuentan los rendimientos del benchmark. De tal manera que, al descontar la información del mercado para el rendimiento (numerador) como para la medida de riesgo (numerador) se está buscando tener una medida de la \"información\" extra que el trader tiene/genera o que logra capturar de comportamiento de los activos y que podría hacer que sus cifras sean mejores que las de un benchmark.    \n",
    "    \\begin{equation*}\n",
    "    Information Ratio = \\frac{R_p - R_i}{Tracking Error}\n",
    "    \\end{equation*}\n",
    "    \n",
    "</font>"
   ]
  },
  {
   "cell_type": "code",
   "execution_count": 18,
   "metadata": {},
   "outputs": [
    {
     "data": {
      "text/html": [
       "<div>\n",
       "<style scoped>\n",
       "    .dataframe tbody tr th:only-of-type {\n",
       "        vertical-align: middle;\n",
       "    }\n",
       "\n",
       "    .dataframe tbody tr th {\n",
       "        vertical-align: top;\n",
       "    }\n",
       "\n",
       "    .dataframe thead th {\n",
       "        text-align: right;\n",
       "    }\n",
       "</style>\n",
       "<table border=\"1\" class=\"dataframe\">\n",
       "  <thead>\n",
       "    <tr style=\"text-align: right;\">\n",
       "      <th></th>\n",
       "      <th>métricas</th>\n",
       "      <th>valor</th>\n",
       "      <th>descripción</th>\n",
       "    </tr>\n",
       "  </thead>\n",
       "  <tbody>\n",
       "    <tr>\n",
       "      <th>0</th>\n",
       "      <td>sharpe</td>\n",
       "      <td>-0.132266</td>\n",
       "      <td>Sharpe Ratio</td>\n",
       "    </tr>\n",
       "    <tr>\n",
       "      <th>1</th>\n",
       "      <td>sortino_b</td>\n",
       "      <td>0.280573</td>\n",
       "      <td>Sortino Ratio para Posiciones de Compra</td>\n",
       "    </tr>\n",
       "    <tr>\n",
       "      <th>2</th>\n",
       "      <td>sortino_s</td>\n",
       "      <td>0.170999</td>\n",
       "      <td>Sortino Ratio para Posiciones de Venta</td>\n",
       "    </tr>\n",
       "    <tr>\n",
       "      <th>3</th>\n",
       "      <td>drawdown_cap_b</td>\n",
       "      <td>2020-03-23 00:00:00, 2020-03-31 00:00:00, $872.29</td>\n",
       "      <td>DrawDown de Capital</td>\n",
       "    </tr>\n",
       "    <tr>\n",
       "      <th>4</th>\n",
       "      <td>drawdown_cap_s</td>\n",
       "      <td>2020-03-31 00:00:00, 2020-04-03 00:00:00, $266.96</td>\n",
       "      <td>DrawUp de Capital</td>\n",
       "    </tr>\n",
       "    <tr>\n",
       "      <th>5</th>\n",
       "      <td>information_r</td>\n",
       "      <td>-0.0145474</td>\n",
       "      <td>Information Ratio</td>\n",
       "    </tr>\n",
       "  </tbody>\n",
       "</table>\n",
       "</div>"
      ],
      "text/plain": [
       "         métricas                                              valor  \\\n",
       "0          sharpe                                          -0.132266   \n",
       "1       sortino_b                                           0.280573   \n",
       "2       sortino_s                                           0.170999   \n",
       "3  drawdown_cap_b  2020-03-23 00:00:00, 2020-03-31 00:00:00, $872.29   \n",
       "4  drawdown_cap_s  2020-03-31 00:00:00, 2020-04-03 00:00:00, $266.96   \n",
       "5   information_r                                         -0.0145474   \n",
       "\n",
       "                               descripción  \n",
       "0                             Sharpe Ratio  \n",
       "1  Sortino Ratio para Posiciones de Compra  \n",
       "2   Sortino Ratio para Posiciones de Venta  \n",
       "3                      DrawDown de Capital  \n",
       "4                        DrawUp de Capital  \n",
       "5                        Information Ratio  "
      ]
     },
     "execution_count": 18,
     "metadata": {},
     "output_type": "execute_result"
    }
   ],
   "source": [
    "desempeno"
   ]
  },
  {
   "cell_type": "markdown",
   "metadata": {},
   "source": [
    "## Interpretación de resultados\n",
    "\n",
    "<font size =3> \n",
    "- **Sharpe Ratio**: Si el índice o ratio de Sharpe es negativo, indica que el rendimiento de los movimientos es inferior a la rentabilidad sin riesgo. Todo valor del Sharpe ratio inferior a uno, significa que el rendimiento de los activos es inferior al riesgo que estamos asumiendo al invertir en un activo determinado.\n",
    "    Si el Sharpe ratio es mayor a 1.0 se considera aceptable o bueno para los inversores, mayor a 2.0 es clasificado como muy bueno y un ratio de 3.0 o más, se considera excelente.\n",
    "    \n",
    "- **Sortino Ratio**: Mientras más elevado sea el valor del Sortino ratio, mejor será la calificación de los movimientos, ya que quiere decir que estos son operados eficientemente y no se está tomando riesgos innecesarios los cuales no están siendo recompensados con rendimientos mayores. Un sortino ratio bajo o negativo indica que al inversor no se le está recompensando por los riesgos que se están tomando. En este caso, ambos sortinos, de compra y de venta, son positivos, aunque un poco bajos, lo que indica que, como se vio en el sharpe, no se están obteniendo los rendimientos esperados por el riesgo tomado.\n",
    "\n",
    "- **Drawdown**: Los valores que se observan en la celda de valores del drawdown, son las fechas de inicio y fechas finales del drawdown junto con la cantidad que, en este caso disminuyó. \n",
    "    \n",
    "- **Drawup**: Los valores observados son las fechas de inicio y fechas finales del drawup junto con la cantidad que aumentó de una fecha a otra.\n",
    "\n",
    "- **Information Ratio**: En el caso de este ratio, mientras mayor sea el valor, mejor es calificada la actividad del trader, ya que este ratio mide los rendimientos de los movimientos del trader dividida entre la cantidad de riesgo relacionada al índice que el trader toma. \n",
    "    \n",
    "</font>"
   ]
  },
  {
   "cell_type": "markdown",
   "metadata": {},
   "source": [
    "# Behavioral Finance"
   ]
  },
  {
   "cell_type": "markdown",
   "metadata": {},
   "source": [
    "### Disposition Effect"
   ]
  },
  {
   "cell_type": "markdown",
   "metadata": {},
   "source": [
    "<font size = 3> \n",
    "    Este sesgo cognitivo fue propuesto por los autores Kahneman y Tversky; para el caso de trading, aplica como el efecto que se puede observar en el histórico de un trader sobre el hecho que tiende a cortar las ganancias rápido y mantener las pérdidas mucho tiempo, es decir, a materializar las ganancias mas frecuentemente que las pérdidas. \n",
    "<br>\n",
    "    Se menciona que hay 2 aproximaciones para abordar la existencia de este sesgo:\n",
    "<br>\n",
    "1. Por error de percepción\n",
    "2. Por error de valuación\n",
    "<br>\n",
    "    \n",
    "En este laboratorio se utilizará la 2da opción para construir esta última parte. \n",
    "    \n",
    "</font>"
   ]
  },
  {
   "cell_type": "markdown",
   "metadata": {},
   "source": [
    "<font size = 3> Para esta parte del laboratorio, se crea la función *f_sesgos_cognitivos*, la cual busca los movimientos ganadores y por cada operación ganadora se buscan las operaciones que se encontraban abiertas en el momento de cierre de la operación ganadora, entonces se descarga el precio de la operación abierta al momento del cierre de la operación ganadora, utilizando las funciones de *f_prices* para la descarga de precios y *f_instrument* para convertir la simbología a la misma utilizada en OANDA al momento de descargar los datos necesarios.\n",
    "    \n",
    "</font>"
   ]
  },
  {
   "cell_type": "code",
   "execution_count": 19,
   "metadata": {},
   "outputs": [],
   "source": [
    "def f_prices(param_ins, date):\n",
    "    \"\"\"\n",
    "    Parameters\n",
    "    ----------\n",
    "    param_ins : str : instrumento del cual se requiere obtener el precio\n",
    "    date : date : fecha en la que se requiere el precio del instrumento\n",
    "\n",
    "    Returns\n",
    "    -------\n",
    "    float : precio del instrumento en la fecha que se pidió en opening\n",
    "    \n",
    "    Debuggin\n",
    "    --------\n",
    "    \"\"\"\n",
    "    # Descargar los precios de apertura:\n",
    "    \n",
    "    # Inicializar API de OANDA\n",
    "    api_oa = API(environment = \"practice\", access_token = dt.OA_Ak)\n",
    "    # Volver la fecha a str\n",
    "    fecha = date.strftime('%Y-%m-%dT%H:%M:%S')\n",
    "    # Definir los parámetros \n",
    "    parameters = {\"count\": 1, \"dailyAlignment\": 16, \"from\": fecha, \"granularity\": 'M1', \"price\": \"M\"}\n",
    "    # Definir el instrumento y con los parámetros con los que se descargarán de OANDA\n",
    "    instrumento = instruments.InstrumentsCandles(instrument = param_ins, params = parameters)\n",
    "    # Descargarlo de OANDA\n",
    "    response = api_oa.request(instrumento)\n",
    "    # En fomato candles se encuentran los precios\n",
    "    prices = response.get(\"candles\")\n",
    "    # Dentro de candles entrar al diccionario 0 y posteriormente al 'mid' donde están el precio cierre 'c', high 'h', low 'l', y open 'o'\n",
    "    return float(prices[0]['mid']['o'])"
   ]
  },
  {
   "cell_type": "code",
   "execution_count": 20,
   "metadata": {},
   "outputs": [],
   "source": [
    "def f_instrument(ins):\n",
    "    \"\"\"\n",
    "    Parameters\n",
    "    ----------\n",
    "    ins : str : instrumento del precio que se necesite\n",
    "\n",
    "    Returns\n",
    "    -------\n",
    "    str : instrumento con un formato en mayúsculas y con _ cada 3 letras\n",
    "    \n",
    "    Debuggin\n",
    "    --------\n",
    "    instrument = 'usdmxn'\n",
    "    \n",
    "    \"\"\"\n",
    "    # Cambiar automáticamente el nombre de los instrumentos en minúscula a mayúscula y\n",
    "    # cambiando al formato para que OANDA pueda leer qué instrumentos\n",
    "    return ins.upper()[:3] + '_' + ins.upper()[3:]"
   ]
  },
  {
   "cell_type": "markdown",
   "metadata": {},
   "source": [
    "<font size = 3> De las operaciones abiertas encontradas, ya con el precio, se busca cuál de ellas tenía un pérdida flotante, lo cual sería que el precio al momento del cierre de la ganadora, la operación abierta tuviera un precio menor a su valor de apertura si se trata de un movimiento de *compra* o si se encontraba en un precio más elevado que la posición de inicio si se trata de *venta*. De todas las pérdidas flotantes al momento del cierre de la operación ganadora, se toma la de pérdida mayor y esa es la que se compara con la ganadora. \n",
    "<br>\n",
    "    Esto se muestra de mejor manera en el diccionario mostrado a continuación, el cual nombra como *ocurrencia* cada vez que esto sucede, dando los datos principales tanto de la operación ganadora, como de la operación abierta perdedora, como el timestamp, qué instrumento era, si se trataba de compra o venta, el volumen de la operación en lotes, así como algunos ratios.\n",
    "</font>"
   ]
  },
  {
   "cell_type": "code",
   "execution_count": 21,
   "metadata": {},
   "outputs": [],
   "source": [
    "sesgos = fn.f_sesgos_cognitivos(datos)"
   ]
  },
  {
   "cell_type": "code",
   "execution_count": 22,
   "metadata": {},
   "outputs": [
    {
     "data": {
      "text/plain": [
       "[{'ocurrencia 1': {'timestamp': Timestamp('2020-03-02 00:59:53'),\n",
       "   'operaciones': {'ganadora': {'instrumento': 'gbpjpy',\n",
       "     'sentido': 'sell',\n",
       "     'volumen': 0.2,\n",
       "     'capital_gand': 81.54,\n",
       "     'capital_acm': 4653.91},\n",
       "    'perdedora': {'instrumento': 'xauusd',\n",
       "     'sentido': 'sell',\n",
       "     'volumen': 0.2,\n",
       "     'profit': -714.8,\n",
       "     'capital_perd': -600.44}},\n",
       "   'ratio_cp_capital_acm': 12.902,\n",
       "   'ratio_cg_capital_acm': 1.752,\n",
       "   'ratio_cp_cg': 7.364}},\n",
       " {'ocurrencia 2': {'timestamp': Timestamp('2020-04-02 01:30:14'),\n",
       "   'operaciones': {'ganadora': {'instrumento': 'audusd',\n",
       "     'sentido': 'buy',\n",
       "     'volumen': 0.15,\n",
       "     'capital_gand': 22.5,\n",
       "     'capital_acm': 4334.35},\n",
       "    'perdedora': {'instrumento': 'usdmxn',\n",
       "     'sentido': 'buy',\n",
       "     'volumen': 0.15,\n",
       "     'profit': -59.03,\n",
       "     'capital_perd': -51.414}},\n",
       "   'ratio_cp_capital_acm': 1.186,\n",
       "   'ratio_cg_capital_acm': 0.519,\n",
       "   'ratio_cp_cg': 2.285}},\n",
       " {'ocurrencia 3': {'timestamp': Timestamp('2020-04-02 03:55:00'),\n",
       "   'operaciones': {'ganadora': {'instrumento': 'nzdcad',\n",
       "     'sentido': 'buy',\n",
       "     'volumen': 0.15,\n",
       "     'capital_gand': 24.32,\n",
       "     'capital_acm': 4299.64},\n",
       "    'perdedora': {'instrumento': 'usdmxn',\n",
       "     'sentido': 'buy',\n",
       "     'volumen': 0.15,\n",
       "     'profit': -59.03,\n",
       "     'capital_perd': -101.991}},\n",
       "   'ratio_cp_capital_acm': 2.372,\n",
       "   'ratio_cg_capital_acm': 0.566,\n",
       "   'ratio_cp_cg': 4.194}},\n",
       " {'ocurrencia 4': {'timestamp': Timestamp('2020-04-08 03:54:19'),\n",
       "   'operaciones': {'ganadora': {'instrumento': 'usdjpy',\n",
       "     'sentido': 'buy',\n",
       "     'volumen': 0.2,\n",
       "     'capital_gand': 20.24,\n",
       "     'capital_acm': 4534.35},\n",
       "    'perdedora': {'instrumento': 'audusd',\n",
       "     'sentido': 'buy',\n",
       "     'volumen': 0.2,\n",
       "     'profit': 69.6,\n",
       "     'capital_perd': -8.0}},\n",
       "   'ratio_cp_capital_acm': 0.176,\n",
       "   'ratio_cg_capital_acm': 0.446,\n",
       "   'ratio_cp_cg': 0.395}}]"
      ]
     },
     "execution_count": 22,
     "metadata": {},
     "output_type": "execute_result"
    }
   ],
   "source": [
    "# Diccionario de ocurrencias\n",
    "\n",
    "sesgos['ocurrencias']"
   ]
  },
  {
   "cell_type": "markdown",
   "metadata": {},
   "source": [
    "<font size = 3> Como resultado de la función *f_sesgos_cognitivos*, se obtienen el número de *ocurrencias*, el *status quo*, que en este caso es el porcentaje de ocurrencias donde el capital de la operación perdedora entre el capital acumulado es menor que el capital de la oepración ganadora entre el capital acumulado; la *averisón a la pérdida*, siendo este el porcentaje de ocurrencias en donde el capital de la operación perdedora entre la operación ganadora es mayor a 1.5; así como la *sensibilidad decreciente*, dando los valores si o no, siendo 'si' si el capital acumulado de la cuenta aumentó, si el capital ganador o el capital perdedor aumentó, si el ratio de capital perdedor entre capital ganador sigue siendo mayor a 1.5, y 'no' si alguna de las anteriores o ninguna se cumple.\n",
    "   \n",
    "</font>"
   ]
  },
  {
   "cell_type": "code",
   "execution_count": 23,
   "metadata": {},
   "outputs": [
    {
     "data": {
      "text/html": [
       "<div>\n",
       "<style scoped>\n",
       "    .dataframe tbody tr th:only-of-type {\n",
       "        vertical-align: middle;\n",
       "    }\n",
       "\n",
       "    .dataframe tbody tr th {\n",
       "        vertical-align: top;\n",
       "    }\n",
       "\n",
       "    .dataframe thead th {\n",
       "        text-align: right;\n",
       "    }\n",
       "</style>\n",
       "<table border=\"1\" class=\"dataframe\">\n",
       "  <thead>\n",
       "    <tr style=\"text-align: right;\">\n",
       "      <th></th>\n",
       "      <th>0</th>\n",
       "      <th>1</th>\n",
       "      <th>2</th>\n",
       "      <th>3</th>\n",
       "    </tr>\n",
       "  </thead>\n",
       "  <tbody>\n",
       "    <tr>\n",
       "      <th>mediciones</th>\n",
       "      <td>ocurrencias</td>\n",
       "      <td>status_quo</td>\n",
       "      <td>aversión_pérdida</td>\n",
       "      <td>sensibilidad_decreciente</td>\n",
       "    </tr>\n",
       "    <tr>\n",
       "      <th>resultados</th>\n",
       "      <td>4</td>\n",
       "      <td>0.25</td>\n",
       "      <td>0.75</td>\n",
       "      <td>no</td>\n",
       "    </tr>\n",
       "  </tbody>\n",
       "</table>\n",
       "</div>"
      ],
      "text/plain": [
       "                      0           1                 2  \\\n",
       "mediciones  ocurrencias  status_quo  aversión_pérdida   \n",
       "resultados            4        0.25              0.75   \n",
       "\n",
       "                                   3  \n",
       "mediciones  sensibilidad_decreciente  \n",
       "resultados                        no  "
      ]
     },
     "execution_count": 23,
     "metadata": {},
     "output_type": "execute_result"
    }
   ],
   "source": [
    "sesgos['resultados'].transpose()"
   ]
  },
  {
   "cell_type": "code",
   "execution_count": 24,
   "metadata": {},
   "outputs": [
    {
     "data": {
      "application/vnd.plotly.v1+json": {
       "config": {
        "plotlyServerURL": "https://plot.ly"
       },
       "data": [
        {
         "type": "bar",
         "x": [
          "status_quo",
          "aversión_pérdida"
         ],
         "y": [
          0.25,
          0.75
         ]
        }
       ],
       "layout": {
        "template": {
         "data": {
          "bar": [
           {
            "error_x": {
             "color": "#2a3f5f"
            },
            "error_y": {
             "color": "#2a3f5f"
            },
            "marker": {
             "line": {
              "color": "#E5ECF6",
              "width": 0.5
             }
            },
            "type": "bar"
           }
          ],
          "barpolar": [
           {
            "marker": {
             "line": {
              "color": "#E5ECF6",
              "width": 0.5
             }
            },
            "type": "barpolar"
           }
          ],
          "carpet": [
           {
            "aaxis": {
             "endlinecolor": "#2a3f5f",
             "gridcolor": "white",
             "linecolor": "white",
             "minorgridcolor": "white",
             "startlinecolor": "#2a3f5f"
            },
            "baxis": {
             "endlinecolor": "#2a3f5f",
             "gridcolor": "white",
             "linecolor": "white",
             "minorgridcolor": "white",
             "startlinecolor": "#2a3f5f"
            },
            "type": "carpet"
           }
          ],
          "choropleth": [
           {
            "colorbar": {
             "outlinewidth": 0,
             "ticks": ""
            },
            "type": "choropleth"
           }
          ],
          "contour": [
           {
            "colorbar": {
             "outlinewidth": 0,
             "ticks": ""
            },
            "colorscale": [
             [
              0,
              "#0d0887"
             ],
             [
              0.1111111111111111,
              "#46039f"
             ],
             [
              0.2222222222222222,
              "#7201a8"
             ],
             [
              0.3333333333333333,
              "#9c179e"
             ],
             [
              0.4444444444444444,
              "#bd3786"
             ],
             [
              0.5555555555555556,
              "#d8576b"
             ],
             [
              0.6666666666666666,
              "#ed7953"
             ],
             [
              0.7777777777777778,
              "#fb9f3a"
             ],
             [
              0.8888888888888888,
              "#fdca26"
             ],
             [
              1,
              "#f0f921"
             ]
            ],
            "type": "contour"
           }
          ],
          "contourcarpet": [
           {
            "colorbar": {
             "outlinewidth": 0,
             "ticks": ""
            },
            "type": "contourcarpet"
           }
          ],
          "heatmap": [
           {
            "colorbar": {
             "outlinewidth": 0,
             "ticks": ""
            },
            "colorscale": [
             [
              0,
              "#0d0887"
             ],
             [
              0.1111111111111111,
              "#46039f"
             ],
             [
              0.2222222222222222,
              "#7201a8"
             ],
             [
              0.3333333333333333,
              "#9c179e"
             ],
             [
              0.4444444444444444,
              "#bd3786"
             ],
             [
              0.5555555555555556,
              "#d8576b"
             ],
             [
              0.6666666666666666,
              "#ed7953"
             ],
             [
              0.7777777777777778,
              "#fb9f3a"
             ],
             [
              0.8888888888888888,
              "#fdca26"
             ],
             [
              1,
              "#f0f921"
             ]
            ],
            "type": "heatmap"
           }
          ],
          "heatmapgl": [
           {
            "colorbar": {
             "outlinewidth": 0,
             "ticks": ""
            },
            "colorscale": [
             [
              0,
              "#0d0887"
             ],
             [
              0.1111111111111111,
              "#46039f"
             ],
             [
              0.2222222222222222,
              "#7201a8"
             ],
             [
              0.3333333333333333,
              "#9c179e"
             ],
             [
              0.4444444444444444,
              "#bd3786"
             ],
             [
              0.5555555555555556,
              "#d8576b"
             ],
             [
              0.6666666666666666,
              "#ed7953"
             ],
             [
              0.7777777777777778,
              "#fb9f3a"
             ],
             [
              0.8888888888888888,
              "#fdca26"
             ],
             [
              1,
              "#f0f921"
             ]
            ],
            "type": "heatmapgl"
           }
          ],
          "histogram": [
           {
            "marker": {
             "colorbar": {
              "outlinewidth": 0,
              "ticks": ""
             }
            },
            "type": "histogram"
           }
          ],
          "histogram2d": [
           {
            "colorbar": {
             "outlinewidth": 0,
             "ticks": ""
            },
            "colorscale": [
             [
              0,
              "#0d0887"
             ],
             [
              0.1111111111111111,
              "#46039f"
             ],
             [
              0.2222222222222222,
              "#7201a8"
             ],
             [
              0.3333333333333333,
              "#9c179e"
             ],
             [
              0.4444444444444444,
              "#bd3786"
             ],
             [
              0.5555555555555556,
              "#d8576b"
             ],
             [
              0.6666666666666666,
              "#ed7953"
             ],
             [
              0.7777777777777778,
              "#fb9f3a"
             ],
             [
              0.8888888888888888,
              "#fdca26"
             ],
             [
              1,
              "#f0f921"
             ]
            ],
            "type": "histogram2d"
           }
          ],
          "histogram2dcontour": [
           {
            "colorbar": {
             "outlinewidth": 0,
             "ticks": ""
            },
            "colorscale": [
             [
              0,
              "#0d0887"
             ],
             [
              0.1111111111111111,
              "#46039f"
             ],
             [
              0.2222222222222222,
              "#7201a8"
             ],
             [
              0.3333333333333333,
              "#9c179e"
             ],
             [
              0.4444444444444444,
              "#bd3786"
             ],
             [
              0.5555555555555556,
              "#d8576b"
             ],
             [
              0.6666666666666666,
              "#ed7953"
             ],
             [
              0.7777777777777778,
              "#fb9f3a"
             ],
             [
              0.8888888888888888,
              "#fdca26"
             ],
             [
              1,
              "#f0f921"
             ]
            ],
            "type": "histogram2dcontour"
           }
          ],
          "mesh3d": [
           {
            "colorbar": {
             "outlinewidth": 0,
             "ticks": ""
            },
            "type": "mesh3d"
           }
          ],
          "parcoords": [
           {
            "line": {
             "colorbar": {
              "outlinewidth": 0,
              "ticks": ""
             }
            },
            "type": "parcoords"
           }
          ],
          "pie": [
           {
            "automargin": true,
            "type": "pie"
           }
          ],
          "scatter": [
           {
            "marker": {
             "colorbar": {
              "outlinewidth": 0,
              "ticks": ""
             }
            },
            "type": "scatter"
           }
          ],
          "scatter3d": [
           {
            "line": {
             "colorbar": {
              "outlinewidth": 0,
              "ticks": ""
             }
            },
            "marker": {
             "colorbar": {
              "outlinewidth": 0,
              "ticks": ""
             }
            },
            "type": "scatter3d"
           }
          ],
          "scattercarpet": [
           {
            "marker": {
             "colorbar": {
              "outlinewidth": 0,
              "ticks": ""
             }
            },
            "type": "scattercarpet"
           }
          ],
          "scattergeo": [
           {
            "marker": {
             "colorbar": {
              "outlinewidth": 0,
              "ticks": ""
             }
            },
            "type": "scattergeo"
           }
          ],
          "scattergl": [
           {
            "marker": {
             "colorbar": {
              "outlinewidth": 0,
              "ticks": ""
             }
            },
            "type": "scattergl"
           }
          ],
          "scattermapbox": [
           {
            "marker": {
             "colorbar": {
              "outlinewidth": 0,
              "ticks": ""
             }
            },
            "type": "scattermapbox"
           }
          ],
          "scatterpolar": [
           {
            "marker": {
             "colorbar": {
              "outlinewidth": 0,
              "ticks": ""
             }
            },
            "type": "scatterpolar"
           }
          ],
          "scatterpolargl": [
           {
            "marker": {
             "colorbar": {
              "outlinewidth": 0,
              "ticks": ""
             }
            },
            "type": "scatterpolargl"
           }
          ],
          "scatterternary": [
           {
            "marker": {
             "colorbar": {
              "outlinewidth": 0,
              "ticks": ""
             }
            },
            "type": "scatterternary"
           }
          ],
          "surface": [
           {
            "colorbar": {
             "outlinewidth": 0,
             "ticks": ""
            },
            "colorscale": [
             [
              0,
              "#0d0887"
             ],
             [
              0.1111111111111111,
              "#46039f"
             ],
             [
              0.2222222222222222,
              "#7201a8"
             ],
             [
              0.3333333333333333,
              "#9c179e"
             ],
             [
              0.4444444444444444,
              "#bd3786"
             ],
             [
              0.5555555555555556,
              "#d8576b"
             ],
             [
              0.6666666666666666,
              "#ed7953"
             ],
             [
              0.7777777777777778,
              "#fb9f3a"
             ],
             [
              0.8888888888888888,
              "#fdca26"
             ],
             [
              1,
              "#f0f921"
             ]
            ],
            "type": "surface"
           }
          ],
          "table": [
           {
            "cells": {
             "fill": {
              "color": "#EBF0F8"
             },
             "line": {
              "color": "white"
             }
            },
            "header": {
             "fill": {
              "color": "#C8D4E3"
             },
             "line": {
              "color": "white"
             }
            },
            "type": "table"
           }
          ]
         },
         "layout": {
          "annotationdefaults": {
           "arrowcolor": "#2a3f5f",
           "arrowhead": 0,
           "arrowwidth": 1
          },
          "coloraxis": {
           "colorbar": {
            "outlinewidth": 0,
            "ticks": ""
           }
          },
          "colorscale": {
           "diverging": [
            [
             0,
             "#8e0152"
            ],
            [
             0.1,
             "#c51b7d"
            ],
            [
             0.2,
             "#de77ae"
            ],
            [
             0.3,
             "#f1b6da"
            ],
            [
             0.4,
             "#fde0ef"
            ],
            [
             0.5,
             "#f7f7f7"
            ],
            [
             0.6,
             "#e6f5d0"
            ],
            [
             0.7,
             "#b8e186"
            ],
            [
             0.8,
             "#7fbc41"
            ],
            [
             0.9,
             "#4d9221"
            ],
            [
             1,
             "#276419"
            ]
           ],
           "sequential": [
            [
             0,
             "#0d0887"
            ],
            [
             0.1111111111111111,
             "#46039f"
            ],
            [
             0.2222222222222222,
             "#7201a8"
            ],
            [
             0.3333333333333333,
             "#9c179e"
            ],
            [
             0.4444444444444444,
             "#bd3786"
            ],
            [
             0.5555555555555556,
             "#d8576b"
            ],
            [
             0.6666666666666666,
             "#ed7953"
            ],
            [
             0.7777777777777778,
             "#fb9f3a"
            ],
            [
             0.8888888888888888,
             "#fdca26"
            ],
            [
             1,
             "#f0f921"
            ]
           ],
           "sequentialminus": [
            [
             0,
             "#0d0887"
            ],
            [
             0.1111111111111111,
             "#46039f"
            ],
            [
             0.2222222222222222,
             "#7201a8"
            ],
            [
             0.3333333333333333,
             "#9c179e"
            ],
            [
             0.4444444444444444,
             "#bd3786"
            ],
            [
             0.5555555555555556,
             "#d8576b"
            ],
            [
             0.6666666666666666,
             "#ed7953"
            ],
            [
             0.7777777777777778,
             "#fb9f3a"
            ],
            [
             0.8888888888888888,
             "#fdca26"
            ],
            [
             1,
             "#f0f921"
            ]
           ]
          },
          "colorway": [
           "#636efa",
           "#EF553B",
           "#00cc96",
           "#ab63fa",
           "#FFA15A",
           "#19d3f3",
           "#FF6692",
           "#B6E880",
           "#FF97FF",
           "#FECB52"
          ],
          "font": {
           "color": "#2a3f5f"
          },
          "geo": {
           "bgcolor": "white",
           "lakecolor": "white",
           "landcolor": "#E5ECF6",
           "showlakes": true,
           "showland": true,
           "subunitcolor": "white"
          },
          "hoverlabel": {
           "align": "left"
          },
          "hovermode": "closest",
          "mapbox": {
           "style": "light"
          },
          "paper_bgcolor": "white",
          "plot_bgcolor": "#E5ECF6",
          "polar": {
           "angularaxis": {
            "gridcolor": "white",
            "linecolor": "white",
            "ticks": ""
           },
           "bgcolor": "#E5ECF6",
           "radialaxis": {
            "gridcolor": "white",
            "linecolor": "white",
            "ticks": ""
           }
          },
          "scene": {
           "xaxis": {
            "backgroundcolor": "#E5ECF6",
            "gridcolor": "white",
            "gridwidth": 2,
            "linecolor": "white",
            "showbackground": true,
            "ticks": "",
            "zerolinecolor": "white"
           },
           "yaxis": {
            "backgroundcolor": "#E5ECF6",
            "gridcolor": "white",
            "gridwidth": 2,
            "linecolor": "white",
            "showbackground": true,
            "ticks": "",
            "zerolinecolor": "white"
           },
           "zaxis": {
            "backgroundcolor": "#E5ECF6",
            "gridcolor": "white",
            "gridwidth": 2,
            "linecolor": "white",
            "showbackground": true,
            "ticks": "",
            "zerolinecolor": "white"
           }
          },
          "shapedefaults": {
           "line": {
            "color": "#2a3f5f"
           }
          },
          "ternary": {
           "aaxis": {
            "gridcolor": "white",
            "linecolor": "white",
            "ticks": ""
           },
           "baxis": {
            "gridcolor": "white",
            "linecolor": "white",
            "ticks": ""
           },
           "bgcolor": "#E5ECF6",
           "caxis": {
            "gridcolor": "white",
            "linecolor": "white",
            "ticks": ""
           }
          },
          "title": {
           "x": 0.05
          },
          "xaxis": {
           "automargin": true,
           "gridcolor": "white",
           "linecolor": "white",
           "ticks": "",
           "title": {
            "standoff": 15
           },
           "zerolinecolor": "white",
           "zerolinewidth": 2
          },
          "yaxis": {
           "automargin": true,
           "gridcolor": "white",
           "linecolor": "white",
           "ticks": "",
           "title": {
            "standoff": 15
           },
           "zerolinecolor": "white",
           "zerolinewidth": 2
          }
         }
        },
        "title": {
         "text": "Disposition Effect"
        },
        "xaxis": {
         "title": {
          "text": "Mediciones"
         }
        },
        "yaxis": {
         "title": {
          "text": "Resultados (%)"
         }
        }
       }
      },
      "text/html": [
       "<div>\n",
       "        \n",
       "        \n",
       "            <div id=\"54d71661-a251-48ec-893a-c1325457de67\" class=\"plotly-graph-div\" style=\"height:525px; width:100%;\"></div>\n",
       "            <script type=\"text/javascript\">\n",
       "                require([\"plotly\"], function(Plotly) {\n",
       "                    window.PLOTLYENV=window.PLOTLYENV || {};\n",
       "                    \n",
       "                if (document.getElementById(\"54d71661-a251-48ec-893a-c1325457de67\")) {\n",
       "                    Plotly.newPlot(\n",
       "                        '54d71661-a251-48ec-893a-c1325457de67',\n",
       "                        [{\"type\": \"bar\", \"x\": [\"status_quo\", \"aversi\\u00f3n_p\\u00e9rdida\"], \"y\": [0.25, 0.75]}],\n",
       "                        {\"template\": {\"data\": {\"bar\": [{\"error_x\": {\"color\": \"#2a3f5f\"}, \"error_y\": {\"color\": \"#2a3f5f\"}, \"marker\": {\"line\": {\"color\": \"#E5ECF6\", \"width\": 0.5}}, \"type\": \"bar\"}], \"barpolar\": [{\"marker\": {\"line\": {\"color\": \"#E5ECF6\", \"width\": 0.5}}, \"type\": \"barpolar\"}], \"carpet\": [{\"aaxis\": {\"endlinecolor\": \"#2a3f5f\", \"gridcolor\": \"white\", \"linecolor\": \"white\", \"minorgridcolor\": \"white\", \"startlinecolor\": \"#2a3f5f\"}, \"baxis\": {\"endlinecolor\": \"#2a3f5f\", \"gridcolor\": \"white\", \"linecolor\": \"white\", \"minorgridcolor\": \"white\", \"startlinecolor\": \"#2a3f5f\"}, \"type\": \"carpet\"}], \"choropleth\": [{\"colorbar\": {\"outlinewidth\": 0, \"ticks\": \"\"}, \"type\": \"choropleth\"}], \"contour\": [{\"colorbar\": {\"outlinewidth\": 0, \"ticks\": \"\"}, \"colorscale\": [[0.0, \"#0d0887\"], [0.1111111111111111, \"#46039f\"], [0.2222222222222222, \"#7201a8\"], [0.3333333333333333, \"#9c179e\"], [0.4444444444444444, \"#bd3786\"], [0.5555555555555556, \"#d8576b\"], [0.6666666666666666, \"#ed7953\"], [0.7777777777777778, \"#fb9f3a\"], [0.8888888888888888, \"#fdca26\"], [1.0, \"#f0f921\"]], \"type\": \"contour\"}], \"contourcarpet\": [{\"colorbar\": {\"outlinewidth\": 0, \"ticks\": \"\"}, \"type\": \"contourcarpet\"}], \"heatmap\": [{\"colorbar\": {\"outlinewidth\": 0, \"ticks\": \"\"}, \"colorscale\": [[0.0, \"#0d0887\"], [0.1111111111111111, \"#46039f\"], [0.2222222222222222, \"#7201a8\"], [0.3333333333333333, \"#9c179e\"], [0.4444444444444444, \"#bd3786\"], [0.5555555555555556, \"#d8576b\"], [0.6666666666666666, \"#ed7953\"], [0.7777777777777778, \"#fb9f3a\"], [0.8888888888888888, \"#fdca26\"], [1.0, \"#f0f921\"]], \"type\": \"heatmap\"}], \"heatmapgl\": [{\"colorbar\": {\"outlinewidth\": 0, \"ticks\": \"\"}, \"colorscale\": [[0.0, \"#0d0887\"], [0.1111111111111111, \"#46039f\"], [0.2222222222222222, \"#7201a8\"], [0.3333333333333333, \"#9c179e\"], [0.4444444444444444, \"#bd3786\"], [0.5555555555555556, \"#d8576b\"], [0.6666666666666666, \"#ed7953\"], [0.7777777777777778, \"#fb9f3a\"], [0.8888888888888888, \"#fdca26\"], [1.0, \"#f0f921\"]], \"type\": \"heatmapgl\"}], \"histogram\": [{\"marker\": {\"colorbar\": {\"outlinewidth\": 0, \"ticks\": \"\"}}, \"type\": \"histogram\"}], \"histogram2d\": [{\"colorbar\": {\"outlinewidth\": 0, \"ticks\": \"\"}, \"colorscale\": [[0.0, \"#0d0887\"], [0.1111111111111111, \"#46039f\"], [0.2222222222222222, \"#7201a8\"], [0.3333333333333333, \"#9c179e\"], [0.4444444444444444, \"#bd3786\"], [0.5555555555555556, \"#d8576b\"], [0.6666666666666666, \"#ed7953\"], [0.7777777777777778, \"#fb9f3a\"], [0.8888888888888888, \"#fdca26\"], [1.0, \"#f0f921\"]], \"type\": \"histogram2d\"}], \"histogram2dcontour\": [{\"colorbar\": {\"outlinewidth\": 0, \"ticks\": \"\"}, \"colorscale\": [[0.0, \"#0d0887\"], [0.1111111111111111, \"#46039f\"], [0.2222222222222222, \"#7201a8\"], [0.3333333333333333, \"#9c179e\"], [0.4444444444444444, \"#bd3786\"], [0.5555555555555556, \"#d8576b\"], [0.6666666666666666, \"#ed7953\"], [0.7777777777777778, \"#fb9f3a\"], [0.8888888888888888, \"#fdca26\"], [1.0, \"#f0f921\"]], \"type\": \"histogram2dcontour\"}], \"mesh3d\": [{\"colorbar\": {\"outlinewidth\": 0, \"ticks\": \"\"}, \"type\": \"mesh3d\"}], \"parcoords\": [{\"line\": {\"colorbar\": {\"outlinewidth\": 0, \"ticks\": \"\"}}, \"type\": \"parcoords\"}], \"pie\": [{\"automargin\": true, \"type\": \"pie\"}], \"scatter\": [{\"marker\": {\"colorbar\": {\"outlinewidth\": 0, \"ticks\": \"\"}}, \"type\": \"scatter\"}], \"scatter3d\": [{\"line\": {\"colorbar\": {\"outlinewidth\": 0, \"ticks\": \"\"}}, \"marker\": {\"colorbar\": {\"outlinewidth\": 0, \"ticks\": \"\"}}, \"type\": \"scatter3d\"}], \"scattercarpet\": [{\"marker\": {\"colorbar\": {\"outlinewidth\": 0, \"ticks\": \"\"}}, \"type\": \"scattercarpet\"}], \"scattergeo\": [{\"marker\": {\"colorbar\": {\"outlinewidth\": 0, \"ticks\": \"\"}}, \"type\": \"scattergeo\"}], \"scattergl\": [{\"marker\": {\"colorbar\": {\"outlinewidth\": 0, \"ticks\": \"\"}}, \"type\": \"scattergl\"}], \"scattermapbox\": [{\"marker\": {\"colorbar\": {\"outlinewidth\": 0, \"ticks\": \"\"}}, \"type\": \"scattermapbox\"}], \"scatterpolar\": [{\"marker\": {\"colorbar\": {\"outlinewidth\": 0, \"ticks\": \"\"}}, \"type\": \"scatterpolar\"}], \"scatterpolargl\": [{\"marker\": {\"colorbar\": {\"outlinewidth\": 0, \"ticks\": \"\"}}, \"type\": \"scatterpolargl\"}], \"scatterternary\": [{\"marker\": {\"colorbar\": {\"outlinewidth\": 0, \"ticks\": \"\"}}, \"type\": \"scatterternary\"}], \"surface\": [{\"colorbar\": {\"outlinewidth\": 0, \"ticks\": \"\"}, \"colorscale\": [[0.0, \"#0d0887\"], [0.1111111111111111, \"#46039f\"], [0.2222222222222222, \"#7201a8\"], [0.3333333333333333, \"#9c179e\"], [0.4444444444444444, \"#bd3786\"], [0.5555555555555556, \"#d8576b\"], [0.6666666666666666, \"#ed7953\"], [0.7777777777777778, \"#fb9f3a\"], [0.8888888888888888, \"#fdca26\"], [1.0, \"#f0f921\"]], \"type\": \"surface\"}], \"table\": [{\"cells\": {\"fill\": {\"color\": \"#EBF0F8\"}, \"line\": {\"color\": \"white\"}}, \"header\": {\"fill\": {\"color\": \"#C8D4E3\"}, \"line\": {\"color\": \"white\"}}, \"type\": \"table\"}]}, \"layout\": {\"annotationdefaults\": {\"arrowcolor\": \"#2a3f5f\", \"arrowhead\": 0, \"arrowwidth\": 1}, \"coloraxis\": {\"colorbar\": {\"outlinewidth\": 0, \"ticks\": \"\"}}, \"colorscale\": {\"diverging\": [[0, \"#8e0152\"], [0.1, \"#c51b7d\"], [0.2, \"#de77ae\"], [0.3, \"#f1b6da\"], [0.4, \"#fde0ef\"], [0.5, \"#f7f7f7\"], [0.6, \"#e6f5d0\"], [0.7, \"#b8e186\"], [0.8, \"#7fbc41\"], [0.9, \"#4d9221\"], [1, \"#276419\"]], \"sequential\": [[0.0, \"#0d0887\"], [0.1111111111111111, \"#46039f\"], [0.2222222222222222, \"#7201a8\"], [0.3333333333333333, \"#9c179e\"], [0.4444444444444444, \"#bd3786\"], [0.5555555555555556, \"#d8576b\"], [0.6666666666666666, \"#ed7953\"], [0.7777777777777778, \"#fb9f3a\"], [0.8888888888888888, \"#fdca26\"], [1.0, \"#f0f921\"]], \"sequentialminus\": [[0.0, \"#0d0887\"], [0.1111111111111111, \"#46039f\"], [0.2222222222222222, \"#7201a8\"], [0.3333333333333333, \"#9c179e\"], [0.4444444444444444, \"#bd3786\"], [0.5555555555555556, \"#d8576b\"], [0.6666666666666666, \"#ed7953\"], [0.7777777777777778, \"#fb9f3a\"], [0.8888888888888888, \"#fdca26\"], [1.0, \"#f0f921\"]]}, \"colorway\": [\"#636efa\", \"#EF553B\", \"#00cc96\", \"#ab63fa\", \"#FFA15A\", \"#19d3f3\", \"#FF6692\", \"#B6E880\", \"#FF97FF\", \"#FECB52\"], \"font\": {\"color\": \"#2a3f5f\"}, \"geo\": {\"bgcolor\": \"white\", \"lakecolor\": \"white\", \"landcolor\": \"#E5ECF6\", \"showlakes\": true, \"showland\": true, \"subunitcolor\": \"white\"}, \"hoverlabel\": {\"align\": \"left\"}, \"hovermode\": \"closest\", \"mapbox\": {\"style\": \"light\"}, \"paper_bgcolor\": \"white\", \"plot_bgcolor\": \"#E5ECF6\", \"polar\": {\"angularaxis\": {\"gridcolor\": \"white\", \"linecolor\": \"white\", \"ticks\": \"\"}, \"bgcolor\": \"#E5ECF6\", \"radialaxis\": {\"gridcolor\": \"white\", \"linecolor\": \"white\", \"ticks\": \"\"}}, \"scene\": {\"xaxis\": {\"backgroundcolor\": \"#E5ECF6\", \"gridcolor\": \"white\", \"gridwidth\": 2, \"linecolor\": \"white\", \"showbackground\": true, \"ticks\": \"\", \"zerolinecolor\": \"white\"}, \"yaxis\": {\"backgroundcolor\": \"#E5ECF6\", \"gridcolor\": \"white\", \"gridwidth\": 2, \"linecolor\": \"white\", \"showbackground\": true, \"ticks\": \"\", \"zerolinecolor\": \"white\"}, \"zaxis\": {\"backgroundcolor\": \"#E5ECF6\", \"gridcolor\": \"white\", \"gridwidth\": 2, \"linecolor\": \"white\", \"showbackground\": true, \"ticks\": \"\", \"zerolinecolor\": \"white\"}}, \"shapedefaults\": {\"line\": {\"color\": \"#2a3f5f\"}}, \"ternary\": {\"aaxis\": {\"gridcolor\": \"white\", \"linecolor\": \"white\", \"ticks\": \"\"}, \"baxis\": {\"gridcolor\": \"white\", \"linecolor\": \"white\", \"ticks\": \"\"}, \"bgcolor\": \"#E5ECF6\", \"caxis\": {\"gridcolor\": \"white\", \"linecolor\": \"white\", \"ticks\": \"\"}}, \"title\": {\"x\": 0.05}, \"xaxis\": {\"automargin\": true, \"gridcolor\": \"white\", \"linecolor\": \"white\", \"ticks\": \"\", \"title\": {\"standoff\": 15}, \"zerolinecolor\": \"white\", \"zerolinewidth\": 2}, \"yaxis\": {\"automargin\": true, \"gridcolor\": \"white\", \"linecolor\": \"white\", \"ticks\": \"\", \"title\": {\"standoff\": 15}, \"zerolinecolor\": \"white\", \"zerolinewidth\": 2}}}, \"title\": {\"text\": \"Disposition Effect\"}, \"xaxis\": {\"title\": {\"text\": \"Mediciones\"}}, \"yaxis\": {\"title\": {\"text\": \"Resultados (%)\"}}},\n",
       "                        {\"responsive\": true}\n",
       "                    ).then(function(){\n",
       "                            \n",
       "var gd = document.getElementById('54d71661-a251-48ec-893a-c1325457de67');\n",
       "var x = new MutationObserver(function (mutations, observer) {{\n",
       "        var display = window.getComputedStyle(gd).display;\n",
       "        if (!display || display === 'none') {{\n",
       "            console.log([gd, 'removed!']);\n",
       "            Plotly.purge(gd);\n",
       "            observer.disconnect();\n",
       "        }}\n",
       "}});\n",
       "\n",
       "// Listen for the removal of the full notebook cells\n",
       "var notebookContainer = gd.closest('#notebook-container');\n",
       "if (notebookContainer) {{\n",
       "    x.observe(notebookContainer, {childList: true});\n",
       "}}\n",
       "\n",
       "// Listen for the clearing of the current output cell\n",
       "var outputEl = gd.closest('.output');\n",
       "if (outputEl) {{\n",
       "    x.observe(outputEl, {childList: true});\n",
       "}}\n",
       "\n",
       "                        })\n",
       "                };\n",
       "                });\n",
       "            </script>\n",
       "        </div>"
      ]
     },
     "metadata": {},
     "output_type": "display_data"
    }
   ],
   "source": [
    "sesgos = fn.f_sesgos_cognitivos(datos)\n",
    "df_resultados = pd.DataFrame(sesgos['resultados'])\n",
    "df_results = df_resultados.drop([0, 3])\n",
    "sesgs_bar = go.Figure(data = [go.Bar(x = df_results['mediciones'], y = df_results['resultados'])])\n",
    "sesgs_bar.update_layout(title = \"Disposition Effect\", xaxis_title = \"Mediciones\", yaxis_title = \"Resultados (%)\")    \n",
    "sesgs_bar.show()"
   ]
  },
  {
   "cell_type": "markdown",
   "metadata": {},
   "source": [
    "<font size = 3> En este caso específico, se obtuvieron cuatro ocurrencias, lo cual quiere decir que al momento de cierre de alguna de las 19 operaciones ganadoras, se encontraban 4 operaciones abiertas, con las características mencionadas anteriormente en el diccionario. El *status quo* en este caso es del 25%, lo cual indica que una cuarta parte de las ocurrencias, o sea una de ellas, el capital de la operación perdedora entre el capital acumulado era menor al capital de la ganadora entre el capital acumulado. La *aversión a la pérdida*, siendo 75% indica que tres de las cuatro ocurrencias el capital de las operaciones perdedoras entre el capital de la ganadora es mayor a 1.5. En el caso de *sensibilidad decreciente*, ninguna de las cuatro ocurrencias cumplen con todas las condiciones ppara que si haya habido sensibilidad decreciente.    \n",
    "</font>"
   ]
  },
  {
   "cell_type": "code",
   "execution_count": null,
   "metadata": {},
   "outputs": [],
   "source": []
  },
  {
   "cell_type": "code",
   "execution_count": null,
   "metadata": {},
   "outputs": [],
   "source": []
  }
 ],
 "metadata": {
  "kernelspec": {
   "display_name": "Python 3",
   "language": "python",
   "name": "python3"
  },
  "language_info": {
   "codemirror_mode": {
    "name": "ipython",
    "version": 3
   },
   "file_extension": ".py",
   "mimetype": "text/x-python",
   "name": "python",
   "nbconvert_exporter": "python",
   "pygments_lexer": "ipython3",
   "version": "3.6.8"
  }
 },
 "nbformat": 4,
 "nbformat_minor": 4
}
